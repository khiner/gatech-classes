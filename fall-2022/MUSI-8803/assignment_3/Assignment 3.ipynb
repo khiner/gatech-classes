{
 "cells": [
  {
   "cell_type": "markdown",
   "id": "3ba99578",
   "metadata": {},
   "source": [
    "# Assignment 3"
   ]
  },
  {
   "cell_type": "markdown",
   "id": "6377b706",
   "metadata": {},
   "source": [
    "For this assignment, you will need to download the file \"PrideAndPrejudice.txt\" from Canvas as well as the \"Classical Music\" and \"Essen\" zip files. To expedite grading, please place all of these files in the same directory as your assignment, using relative paths to find the documents needed."
   ]
  },
  {
   "cell_type": "markdown",
   "id": "48ee16c2",
   "metadata": {},
   "source": [
    "## Part 1 - Regular Expressions"
   ]
  },
  {
   "cell_type": "markdown",
   "id": "e80ef684",
   "metadata": {},
   "source": [
    "1. Write an expression that searches for written dates. Your expression should accomodate a variety of date formats."
   ]
  },
  {
   "cell_type": "markdown",
   "id": "e963c389",
   "metadata": {},
   "source": [
    "```\n",
    "\\d\\d?[-\\/]\\d\\d?[-\\/]\\d{2,4}\n",
    "```\n",
    "\n",
    "I am deliberately not handling dates written in any of the longer forms, e.g. \"April 25 1987\", \"Apr 25th, '87\" etc."
   ]
  },
  {
   "cell_type": "markdown",
   "id": "71283bea",
   "metadata": {},
   "source": [
    "2. How might your expression from question 1 need to change to VALIDATE a user's input when entering their birthday on an online form? Are regular expressions the best tool for this task? If not, propose an alternate method."
   ]
  },
  {
   "cell_type": "markdown",
   "id": "f5803b02",
   "metadata": {},
   "source": [
    "My regular expression only checks that the right number of digits are separated by dashes or slashes. It _does not_ validate that the numbers are sensible as a date.\n",
    "\n",
    "Each of the segments (month/day/year) has its own, separate requirements for the number, and using a regular expression would require separate rules for one vs two digits (or two vs four digits for the year segment). Also, importantly, the rules for the day segment depend on the month segment.\n",
    "\n",
    "Consider the month segment as an example. We are validating the number is between 1 and 12, inclusive. The character group `[1-9]` represents a valid month, with no false positives, but it misses three months, `10`, `11`, and `12`. We can capture these cases with `1[0-2]`, giving us a working month segment of `([1-9]|1[0-2])`. This is fine, but it's hard to parse the simple idea it's capturing, \"a number between 1 and 12\". We can successfully apply this same idea (of separately handling each case in an OR-group) to the more difficult issue of validating the day segment based on each month, but it would be overly complex and difficult to interpret.\n",
    "\n",
    "Instead, I would use a high-level programming language for this task. I would make a small change regular expression above to add capture groups to each segment, `(\\d\\d?)[-\\/](\\d\\d?)[-\\/](\\d{2,4})`. Then I would convert each group to an integer type, and perform the validation using more natural conditional logic like:\n",
    "\n",
    "```\n",
    "def is_valid_date(day, month, year)\n",
    "    return day > 0 && (\n",
    "        (month in (1, 3, ...) && day <= 31)\n",
    "        (month == 2 && ((year % 4 == 0 && day <= 28) || (year % 4 != 0 && day <= 29))) ||\n",
    "        ...\n",
    "    ) && year >= MIN_YEAR && year <= MAX_YEAR\n",
    "end\n",
    "```\n"
   ]
  },
  {
   "cell_type": "markdown",
   "id": "c5dcca88",
   "metadata": {},
   "source": [
    "3. Write a regular expression to search a document for U.S. monetary values.\n",
    "    * All instances will begin with a dollar sign \\($\\).\n",
    "    * Examples may or may not include cents.\n",
    "    * Assume that large dollar values don't have commas or other deliminators."
   ]
  },
  {
   "cell_type": "markdown",
   "id": "e66f9ec5",
   "metadata": {},
   "source": [
    "`\\$\\d+(\\.\\d\\d)?`"
   ]
  },
  {
   "cell_type": "markdown",
   "id": "4d8b0b1d",
   "metadata": {},
   "source": [
    "4. Write a command that searches the document \"PrideAndPrejudice.txt\" for instances of the term \"Mr. Darcy\" and replaces them with \"Prince Phillip\". Save your changes in a new document titled \"WindorPrideAndPrejudice.txt\"."
   ]
  },
  {
   "cell_type": "code",
   "execution_count": 1,
   "id": "1b88cbf6",
   "metadata": {
    "vscode": {
     "languageId": "shellscript"
    }
   },
   "outputs": [],
   "source": [
    "sed 's/Mr. Darcy/Prince Phillip/g' PrideAndPrejudice.txt > WindorPrideAndPrejudice.txt"
   ]
  },
  {
   "cell_type": "markdown",
   "id": "4d648959",
   "metadata": {},
   "source": [
    "## Part 2 - Regex and Humdrum"
   ]
  },
  {
   "cell_type": "markdown",
   "id": "6547e417",
   "metadata": {},
   "source": [
    "Use regular expressions and command-line operations to answer the following questions:"
   ]
  },
  {
   "cell_type": "markdown",
   "id": "b5115375",
   "metadata": {},
   "source": [
    "5. How many of the Bach Chorales are in a minor key? What is the most common key (major or minor) for the Bach Chorales?"
   ]
  },
  {
   "cell_type": "code",
   "execution_count": 2,
   "id": "f83ae61b",
   "metadata": {
    "vscode": {
     "languageId": "shellscript"
    }
   },
   "outputs": [
    {
     "name": "stdout",
     "output_type": "stream",
     "text": [
      "     173\n"
     ]
    }
   ],
   "source": [
    "# How many Bach Chorales are in a minor key?\n",
    "# Minor keys are in lowercase, optionally including a flat, followed by a ':'. E.g. `*e-:`\n",
    "egrep -h \"^\\*[a-g]-?:\" ClassicalMusic/bach/371chorales/*krn | wc -l"
   ]
  },
  {
   "cell_type": "code",
   "execution_count": 3,
   "id": "3571c1cf",
   "metadata": {
    "vscode": {
     "languageId": "shellscript"
    }
   },
   "outputs": [
    {
     "name": "stdout",
     "output_type": "stream",
     "text": [
      "     193\n"
     ]
    }
   ],
   "source": [
    "# Find the major keys (capital letters): \n",
    "egrep -h \"^\\*[A-G]-?:\" ClassicalMusic/bach/371chorales/*krn | wc -l"
   ]
  },
  {
   "cell_type": "markdown",
   "id": "d8ba1f86",
   "metadata": {},
   "source": [
    "There are 173 minor keys and 193 minor keys, making minor keys the most common. (However, there are 370 kern files in the directory, so 4 either do not have key information, or my method is missing something. Also, shouldn't there be 371 kern files?)"
   ]
  },
  {
   "cell_type": "markdown",
   "id": "9d55ad62",
   "metadata": {},
   "source": [
    "6. What is the most common tempo for a Sousa march? How many of them are in 6/8 time?"
   ]
  },
  {
   "cell_type": "code",
   "execution_count": 4,
   "id": "4f0ef5b7",
   "metadata": {
    "vscode": {
     "languageId": "shellscript"
    }
   },
   "outputs": [
    {
     "name": "stdout",
     "output_type": "stream",
     "text": [
      "*MM144\t*MM144\t*MM144\n",
      "*MM160\t*MM160\t*MM160\n",
      "*MM172\t*MM172\t*MM172\n",
      "*MM180\t*MM180\t*MM180\n",
      "*MM180\t*MM180\t*MM180\n",
      "*MM180\t*MM180\t*MM180\n",
      "*MM180\t*MM180\t*MM180\n",
      "*MM180\t*MM180\t*MM180\n",
      "*MM180\t*MM180\t*MM180\t*MM180\n",
      "*MM180\t*MM180\t*MM180\t*MM180\n",
      "*MM220\t*MM220\t*MM220\n"
     ]
    }
   ],
   "source": [
    "egrep -h \"\\*MM\\d+\" ClassicalMusic/sousa/*.krn | sort"
   ]
  },
  {
   "cell_type": "markdown",
   "id": "1511d432",
   "metadata": {},
   "source": [
    "By inspection, we can see the most common tempo for a Sousa march is 180 BPM."
   ]
  },
  {
   "cell_type": "code",
   "execution_count": 19,
   "id": "c589e76e",
   "metadata": {
    "vscode": {
     "languageId": "shellscript"
    }
   },
   "outputs": [
    {
     "name": "stdout",
     "output_type": "stream",
     "text": [
      "       7\n"
     ]
    }
   ],
   "source": [
    "egrep -h \"\\*M(6/8)\" ClassicalMusic/sousa/*.krn | wc -l"
   ]
  },
  {
   "cell_type": "markdown",
   "id": "deef4913",
   "metadata": {},
   "source": [
    "There are seven Sousa marches in 6/8 time."
   ]
  },
  {
   "cell_type": "markdown",
   "id": "af9e3e9c",
   "metadata": {},
   "source": [
    "7. What is the highest pitch of the Han Chinese folk songs? In which song(s) is it found?"
   ]
  },
  {
   "cell_type": "code",
   "execution_count": 5,
   "id": "3408fcd9",
   "metadata": {
    "vscode": {
     "languageId": "shellscript"
    }
   },
   "outputs": [
    {
     "name": "stdout",
     "output_type": "stream",
     "text": [
      "Essen/asia/china/han/han0228.krn:8cccc\n"
     ]
    }
   ],
   "source": [
    "egrep \"^\\d+[a-g]{4,}\" Essen/asia/china/han/*.krn"
   ]
  },
  {
   "cell_type": "markdown",
   "id": "58e80461",
   "metadata": {},
   "source": [
    "In kern, multiple lower-case letters are used for successive octaves, starting with `c` as Middle C (C4).\n",
    "\n",
    "We can see that there is only one line in any of the kern files with at least four octave raises. So the highest pitch in the Han Chinese folk songs is C8, and it is in the `han0228.krn` file.\n",
    "\n",
    "We can find the title of that file with:"
   ]
  },
  {
   "cell_type": "code",
   "execution_count": 6,
   "id": "2aebc780",
   "metadata": {
    "vscode": {
     "languageId": "shellscript"
    }
   },
   "outputs": [
    {
     "name": "stdout",
     "output_type": "stream",
     "text": [
      "!!!OTL: Zhaobao shan wai yuge\n"
     ]
    }
   ],
   "source": [
    "egrep -o \"^\\!\\!\\!OTL: (.*)$\" Essen/asia/china/han/han0228.krn"
   ]
  },
  {
   "cell_type": "markdown",
   "id": "ea042a67",
   "metadata": {},
   "source": [
    "So \"Zhaobao shan wai yuge\" contains the highest pitch of C8."
   ]
  },
  {
   "cell_type": "markdown",
   "id": "3d500a54",
   "metadata": {},
   "source": [
    "8. Seperate the parts of the Schubert String Trio into their own individual text files."
   ]
  },
  {
   "cell_type": "markdown",
   "id": "a4af469a",
   "metadata": {},
   "source": [
    "I ended up using a for-loop for this, which we did not cover in class. Alternatively, I could have extracted each with a separate command. (I'm curious to see how others went about this as I'm sure I'm missing something easier!)\n",
    "\n",
    "Also, I'm not happy with the hard-coding of the knowledge that there are 6 parts. I would probably write a script for this that extracts the number of parts using a humdrum command. I found the `fields` command, which could be parsed for the number of spines, but I'm betting there's an easier way."
   ]
  },
  {
   "cell_type": "code",
   "execution_count": 7,
   "id": "8cd9a9b1",
   "metadata": {
    "vscode": {
     "languageId": "shellscript"
    }
   },
   "outputs": [
    {
     "name": "stdout",
     "output_type": "stream",
     "text": [
      "1\t1-1\t# Line 1 must appear in the file.\n",
      "1654\t1-6\t# *-\t*-\t*-\t* ....\n"
     ]
    }
   ],
   "source": [
    "fields -s ClassicalMusic/schubert/strings/trio/trio.krn"
   ]
  },
  {
   "cell_type": "code",
   "execution_count": 8,
   "id": "39012563",
   "metadata": {
    "vscode": {
     "languageId": "shellscript"
    }
   },
   "outputs": [
    {
     "name": "stdout",
     "output_type": "stream",
     "text": [
      "bash: syntax error near unexpected token `('\n",
      "!!!COM: Schubert, Franz\n",
      "!!!CDT: 1797/01/31/-1828/11/19/\n",
      "!!!CNT: Austrian\n",
      "!!!OTL: Trio for violin, viola and violon cello\n",
      "!!!ODT: 1816/09//\n",
      "**kern\n",
      "*staff3\n",
      "*Icello\n",
      "*>[A,A,B,B]\n",
      "*>norep[A,B]\n",
      "[1BB-\n",
      ".\n",
      ".\n",
      "=201\n",
      "2BB-/]\n",
      "2r\n",
      "=\n",
      "*-\n",
      "!!!ENC: Craig Stuart Sapp\n",
      "!!!END: 2005/08/03/\n",
      "!!!COM: Schubert, Franz\n",
      "!!!CDT: 1797/01/31/-1828/11/19/\n",
      "!!!CNT: Austrian\n",
      "!!!OTL: Trio for violin, viola and violon cello\n",
      "!!!ODT: 1816/09//\n",
      "**dynam\n",
      "*staff1\n",
      "*Ivioln\n",
      "*>[A,A,B,B]\n",
      "*>norep[A,B]\n",
      ">\n",
      ".\n",
      ".\n",
      "=201\n",
      ".\n",
      ".\n",
      "=\n",
      "*-\n",
      "!!!ENC: Craig Stuart Sapp\n",
      "!!!END: 2005/08/03/\n"
     ]
    }
   ],
   "source": [
    "for (i=1;i<=6;i++); do extract -p \"$i\" ClassicalMusic/schubert/strings/trio/trio.krn > \"schubert_string_trio_part_$i.krn\"; done\n",
    "head schubert_string_trio_part_1.krn\n",
    "tail schubert_string_trio_part_1.krn\n",
    "head schubert_string_trio_part_6.krn\n",
    "tail schubert_string_trio_part_6.krn"
   ]
  },
  {
   "cell_type": "markdown",
   "id": "d5b403f4",
   "metadata": {},
   "source": []
  }
 ],
 "metadata": {
  "kernelspec": {
   "display_name": "Bash",
   "language": "bash",
   "name": "bash"
  },
  "language_info": {
   "codemirror_mode": "shell",
   "file_extension": ".sh",
   "mimetype": "text/x-sh",
   "name": "bash"
  }
 },
 "nbformat": 4,
 "nbformat_minor": 5
}
