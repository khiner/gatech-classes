{
  "cells": [
    {
      "cell_type": "markdown",
      "metadata": {
        "id": "Cn_HGpM3XPa1"
      },
      "source": [
        "# CS 4496/7496 Character Animation (Fall 2023)\n",
        "Copyright (c) Georgia Institute of Technology\n",
        "\n",
        "---\n"
      ]
    },
    {
      "cell_type": "markdown",
      "metadata": {
        "id": "Bl36Lnh6YcbQ"
      },
      "source": [
        "# Project 2: Integrators (due <font color='red'>10/6/2023</font>, 11:59PM)\n",
        "\n",
        "**Tip:** *This notebook contains many long cells, most of which you should not edit (but would still need to run). Use the \"Table of contents\" pane on the left of your Colab window to navigate cells quickly.*\n",
        "\n",
        "![The Leaning Tower of Pisa, Wikipedia](https://upload.wikimedia.org/wikipedia/commons/thumb/6/66/The_Leaning_Tower_of_Pisa_SB.jpeg/340px-The_Leaning_Tower_of_Pisa_SB.jpeg)\n",
        "\n",
        "You are standing at the top of the Leaning Tower of Pisa. Just like Galileo, you are trying to convince people that your numerical integrators are accurate by dropping balls with equal mass from the tower. One ball follows the analytical equation of free-fall motion while the others are simulated by your solvers.\n",
        "\n",
        "In your program, you will implement the analytical solution and four numerical integration methods: Explicit Euler, Midpoint, RK4 and Implicit Euler. Show that two of them yield the same motion as the analytical solution, while the other two do not.\n",
        "\n",
        "In your results, you will show five objects (of different colors representing the different methods) side-by-side, falling from the same height at the same time with zero initial velocity.\n",
        "\n",
        "Skeleton code for visualization has already been provided.\n",
        "\n",
        "PyBullet documentation (if you want to learn more about the physics engine used for these simulations): https://docs.google.com/document/d/10sXEhzFRSnvFcl3XxNGhnD4N2SedqwdAvK3dsihxVUA/edit#\n",
        "\n",
        "Note: the installation of PyBullet will take a few minutes..."
      ]
    },
    {
      "cell_type": "code",
      "execution_count": 163,
      "metadata": {
        "id": "rBnCSSvSu9Gp"
      },
      "outputs": [],
      "source": [
        "# Install pybullet and related requirements\n",
        "!apt-get install -y xvfb python-opengl\n",
        "!pip install pybullet==2.6.5"
      ]
    },
    {
      "cell_type": "markdown",
      "metadata": {
        "id": "BczgOCbrXMp8"
      },
      "source": [
        "# 1. Skeleton code (do not edit)"
      ]
    },
    {
      "cell_type": "markdown",
      "metadata": {
        "id": "1zRVBYMOQry8"
      },
      "source": [
        "### 1.1. Import required libraries"
      ]
    },
    {
      "cell_type": "code",
      "execution_count": 136,
      "metadata": {
        "id": "yobnZUPRYAfi"
      },
      "outputs": [],
      "source": [
        "import pybullet as p\n",
        "import pybullet_data as pd\n",
        "import time\n",
        "import io\n",
        "import imageio\n",
        "from IPython.display import HTML\n",
        "from IPython import display as ipythondisplay\n",
        "import numpy as np"
      ]
    },
    {
      "cell_type": "markdown",
      "metadata": {
        "id": "PSTL6hdzQt6M"
      },
      "source": [
        "### 1.2. Create base class for dynamic systems"
      ]
    },
    {
      "cell_type": "code",
      "execution_count": 137,
      "metadata": {
        "id": "FC4VYQVyQ3I0"
      },
      "outputs": [],
      "source": [
        "class DynamicSystem(object):\n",
        "  \"\"\" An abstract dynamic system. All systems we use will inherit from this class.\n",
        "  \"\"\"\n",
        "\n",
        "  # ** Basic state operations **\n",
        "\n",
        "  def __init__(self, initial_state):\n",
        "    self.set_state(initial_state)\n",
        "\n",
        "  def get_dim(self):\n",
        "    '''Get the dimensionality (number of variables) in the system's state.'''\n",
        "    return len(self.state)\n",
        "\n",
        "  def get_system_state(self):\n",
        "    return self.state\n",
        "\n",
        "  def set_state(self, state):\n",
        "    self.state = np.array(state)\n",
        "\n",
        "  # ** Simulation operations **\n",
        "\n",
        "  def on_start_simulation(self):\n",
        "    raise NotImplementedError\n",
        "\n",
        "  def on_step_simulation(self):\n",
        "    raise NotImplementedError\n",
        "\n",
        "  # ** Analytical solution **\n",
        "\n",
        "  def analytical_state_update(self, t):\n",
        "    raise NotImplementedError\n",
        "\n",
        "  # ** Operations for numerical integration **\n",
        "\n",
        "  def get_system_derivative(self):\n",
        "    raise NotImplementedError\n",
        "\n",
        "  def get_gradient_of_system_derivative(self):\n",
        "    raise NotImplementedError"
      ]
    },
    {
      "cell_type": "markdown",
      "metadata": {
        "id": "yXiQL6Retvz2"
      },
      "source": [
        "### 1.3. Create base class for numerical integrators (i.e. solvers)"
      ]
    },
    {
      "cell_type": "code",
      "execution_count": 138,
      "metadata": {
        "id": "0ysCKkjxtzSW"
      },
      "outputs": [],
      "source": [
        "class Solver(object):\n",
        "  \"\"\"An abstract solver (numerical integrator), which all solvers inherit from.\"\"\"\n",
        "  def __init__(self):\n",
        "    \"\"\"Initilializes the solver.\"\"\"\n",
        "    pass\n",
        "\n",
        "  def step(self, h: float, system: DynamicSystem):\n",
        "    \"\"\"Calculate the state after advancement by `h` from its current state, and use `set_state()` to update the system.\n",
        "    Do not return anything.\n",
        "\n",
        "    Since nothing about this abstract solver is known, we raise an error.\n",
        "    \"\"\"\n",
        "    raise NotImplementedError\n"
      ]
    },
    {
      "cell_type": "markdown",
      "metadata": {
        "id": "s61fwx6P0XcW"
      },
      "source": [
        "### 1.4. Simulation utilities"
      ]
    },
    {
      "cell_type": "markdown",
      "metadata": {
        "id": "8CteMs1u1Ve1"
      },
      "source": [
        "#### PyBullet general initialization"
      ]
    },
    {
      "cell_type": "code",
      "execution_count": 139,
      "metadata": {
        "id": "B3cXipsk0bm-"
      },
      "outputs": [],
      "source": [
        "# PyBullet globals\n",
        "flags = p.URDF_INITIALIZE_SAT_FEATURES\n",
        "\n",
        "def init_pybullet():\n",
        "  '''Initialize PyBullet parameters (call before setting up any PyBullet simulation)'''\n",
        "  global flags\n",
        "  p.connect(p.DIRECT)\n",
        "  p.setAdditionalSearchPath(pd.getDataPath())\n",
        "  p.resetSimulation()\n",
        "\n",
        "  p.loadURDF('plane.urdf', [0, 0, 0], flags=flags, useFixedBase=True) # create plane in background"
      ]
    },
    {
      "cell_type": "markdown",
      "metadata": {
        "id": "_pgnTiL0YDnT"
      },
      "source": [
        "#### PyBullet camera setup"
      ]
    },
    {
      "cell_type": "code",
      "execution_count": 140,
      "metadata": {
        "id": "S6ZdGcxzYKRs"
      },
      "outputs": [],
      "source": [
        "# Camera settings (global)\n",
        "pixelWidth, pixelHeight = 640, 360\n",
        "viewMatrix = p.computeViewMatrixFromYawPitchRoll(cameraTargetPosition=[0, 0, 5.0], distance=10.0, yaw=0.0, pitch=0.0, roll=0.0, upAxisIndex=2)\n",
        "projectionMatrix = p.computeProjectionMatrixFOV(fov=60, aspect=pixelWidth / pixelHeight, nearVal=0.01, farVal=100)\n",
        "\n",
        "def render_pybullet():\n",
        "  '''Render image from global camera in pybullet'''\n",
        "  global pixelWidth, pixelHeight, viewMatrix, projectionMatrix\n",
        "  _, _, img, _, _ = p.getCameraImage(pixelWidth, pixelHeight, viewMatrix, projectionMatrix, shadow=1, lightDirection=[1,1,1])\n",
        "  return img[..., :3]   # ignore alpha"
      ]
    },
    {
      "cell_type": "markdown",
      "metadata": {
        "id": "2m-Lp4l5dGBu"
      },
      "source": [
        "# 2. Galileo's experiment: Free-fall system"
      ]
    },
    {
      "cell_type": "markdown",
      "metadata": {
        "id": "zWBuc3itoHDa"
      },
      "source": [
        "### System definition\n",
        "\n",
        "The first task is to write the code for defining the \"system\" of each free-falling object. Particularly, you need to implement the following functions:\n",
        "- `get_system_derivative()`, which returns the derivative of the current state.\n",
        "- `analytical_state_update()`, which sets the correct state at any time `t` as computed analytically, and doesn't return anything.\n",
        "  - Use the closed-form solution for free-fall height and velocity as a function of time.\n",
        "\n",
        "Please note that we have an additional function for extra questions `get_gradient_of_system_derivative()`, which returns the gradient of the derivative at the current state. This will be used for implicit Euler (see the docstring for details). You do **NOT** need to implement this for regular problems.\n",
        "\n",
        "In the cell below (and in all cells where you need to write code), your code goes under the `#Student answer begins` comments.\n",
        "\n",
        "**<font color='orange'> \\*\\*Task 1: Write your code below (20 pts)\\*\\* </font>**\n",
        "\n"
      ]
    },
    {
      "cell_type": "code",
      "execution_count": 164,
      "metadata": {
        "id": "N9kvXO3uimac"
      },
      "outputs": [],
      "source": [
        "class Freefall(DynamicSystem):\n",
        "  \"\"\" A dynamic system of a freefall object, simulated using pybullet.\n",
        "  \"\"\"\n",
        "  def __init__(self, initial_height: float, gravity: float):\n",
        "    \"\"\"Initialize the object that is free-falling (assumed to be of mass 1).\n",
        "\n",
        "    Args:\n",
        "      initial_height: the initial height (velocity starts at zero for freefall)\n",
        "      g: the gravity constant\n",
        "    \"\"\"\n",
        "    super().__init__(initial_state=(initial_height, 0.0))\n",
        "    self.initial_height = initial_height\n",
        "    self.gravity = gravity\n",
        "\n",
        "  # ** Simulation operations **\n",
        "\n",
        "  def on_start_simulation(self, rgbaColor, basePosition):\n",
        "    \"\"\"To be called when a simulation for this system (pybullet) is about to start.\n",
        "    Sets up the pybullet object for this system (a free-falling sphere)\n",
        "    \"\"\"\n",
        "    global flags\n",
        "    objShape = p.createVisualShape(shapeType=p.GEOM_MESH, fileName=\"sphere_smooth.obj\", meshScale=[0.25, 0.25, 0.25], rgbaColor=rgbaColor)\n",
        "    self.obj = p.createMultiBody(baseMass=1, baseVisualShapeIndex=objShape, basePosition=basePosition, flags=flags)\n",
        "\n",
        "  def on_step_simulation(self):\n",
        "    \"\"\"To be called when a simulation for this system (pybullet) is stepping through.\n",
        "    Updates the position and velocity of the object for visualization.\n",
        "    \"\"\"\n",
        "    obj = self.obj\n",
        "    x, y, _ = p.getBasePositionAndOrientation(obj)[0]\n",
        "    z, dz = self.state\n",
        "    p.resetBasePositionAndOrientation(obj, posObj=[x, y, z], ornObj=[0, 0, 0, 1])\n",
        "    p.resetBaseVelocity(obj, linearVelocity=[0, 0, dz])\n",
        "\n",
        "\n",
        "  # ** Analytical solution **\n",
        "\n",
        "  def analytical_state_update(self, t):\n",
        "    \"\"\"Set the state to the analytical solution of the system at time t (float).\n",
        "    Args:\n",
        "      t: The given simulation time\n",
        "    \"\"\"\n",
        "    # Student answer begins\n",
        "    self.set_state((self.initial_height - 0.5 * self.gravity * t**2, -self.gravity * t))\n",
        "    # Student answer ends\n",
        "\n",
        "  # ** Operations for numerical integration **\n",
        "\n",
        "  def get_system_derivative(self):\n",
        "    \"\"\"Returns the derivative of the given system at its current state as a np.array.\n",
        "    Used in all numerical integration methods. It is the function ` f ` in the slides.\n",
        "    For example, if the state is [a,b], then this returns [a*, b*] where a* = da/dt and b* = db/dt.\n",
        "\n",
        "    Returns:\n",
        "      The derivative of the given system as a np.array of shape (2,)\n",
        "    \"\"\"\n",
        "    # Student answer begins\n",
        "    dz = self.state[1]\n",
        "    return np.array([dz, -self.gravity])\n",
        "    # Student answer ends\n",
        "\n",
        "  def get_gradient_of_system_derivative(self):\n",
        "    \"\"\"Returns the gradient of `get_system_derivative()` (Hessian) of the given system at its current state as a np.array.\n",
        "    Used in first-order implicit Euler. It is the function ` f' ` used in the Taylor series expansion in the slides.\n",
        "    For example, if the state is [a,b] with derivative [a*, b*], then this returns:\n",
        "    gradient([a*, b*]) = [ [ d(a*)/da, d(a*)/db ],\n",
        "                           [ d(b*)/da, d(b*)/db ] ]\n",
        "\n",
        "    Returns:\n",
        "      The gradient of the derivative of the given system as a np.array of shape (2, 2)\n",
        "    \"\"\"\n",
        "    # Student answer begins - for the extra question (implicit Euler)\n",
        "    return np.array([\n",
        "        [0.0, 1.0],\n",
        "        [0.0, 0.0]\n",
        "    ])\n",
        "    # Student answer ends\n",
        "  \n"
      ]
    },
    {
      "cell_type": "markdown",
      "metadata": {
        "id": "-1vxORN4C_ll"
      },
      "source": [
        "Let's quickly verify your implementation. (do not edit)"
      ]
    },
    {
      "cell_type": "code",
      "execution_count": 165,
      "metadata": {
        "id": "i1o1-0l0DDRn"
      },
      "outputs": [
        {
          "name": "stdout",
          "output_type": "stream",
          "text": [
            "You pass the tests!\n"
          ]
        }
      ],
      "source": [
        "system = Freefall(initial_height=10.0, gravity=9.8) # 10m, zero velocity\n",
        "assert np.allclose(system.get_system_derivative(), np.array([0.0, -9.8]))\n",
        "\n",
        "system.set_state((5.0, -1.0)) # 5.0m, -1.0m/s\n",
        "assert np.allclose(system.get_system_derivative(), np.array([-1.0, -9.8]))\n",
        "\n",
        "system.analytical_state_update(0.0)\n",
        "assert np.allclose(system.get_system_state(), np.array([10.0, 0.0]))\n",
        "system.analytical_state_update(0.5)\n",
        "assert np.allclose(system.get_system_state(), np.array([8.775, -4.9]))\n",
        "system.analytical_state_update(1.0)\n",
        "assert np.allclose(system.get_system_state(), np.array([5.1, -9.8]))\n",
        "\n",
        "print(\"You pass the tests!\")"
      ]
    },
    {
      "cell_type": "markdown",
      "metadata": {
        "id": "sUn_hilGoNVi"
      },
      "source": [
        "### Integrator definitions\n",
        "\n",
        "Now it is time for you to implement the integrators.\n",
        "\n",
        "The integrators have to work for dynamic systems *in general* - not just for this kind of system! In other words, don't assume that the system you get as input will always be a free-fall system. Later in this notebook, another system will be introduced and your integrators will be tested against that one too.\n",
        "\n",
        "For implementing all integrators, follow the same pattern:\n",
        "1. Get any state/derivative/gradient info you need from the provided `system`\n",
        "1. Compute the state after advancement by time `h` from the current state\n",
        "1. Update the system's state using `set_state()`, and don't return anything.\n",
        "\n",
        "Note that, to compute the state after advancement by `h`, you might need to use some intermediate states and store info from them."
      ]
    },
    {
      "cell_type": "markdown",
      "metadata": {
        "id": "rlvhA2Wyr5KH"
      },
      "source": [
        "#### Explicit Euler method\n",
        "\n",
        "To implement this, you shouldn't need to use any intermediate states.\n",
        "\n",
        "**<font color='orange'> \\*\\*Task 2: Write your code below (10 pts)\\*\\* </font>**"
      ]
    },
    {
      "cell_type": "code",
      "execution_count": 143,
      "metadata": {
        "id": "X7B7NuY5r9ic"
      },
      "outputs": [],
      "source": [
        "class ExplicitEulerSolver(Solver):\n",
        "  \"\"\"A general Explicit Euler method solver.\"\"\"\n",
        "  def step(self, h: float, system: DynamicSystem):\n",
        "    \"\"\" Read the current system state, calculate the state after advancement by `h`, and use `set_state()` to update the system. Do not return anything.\n",
        "\n",
        "    Args:\n",
        "      system: the instance of the given dynamic system\n",
        "      h: an amount of the time step we want to integrate\n",
        "    \"\"\"\n",
        "    # Student answer begins\n",
        "    x = system.get_system_state()\n",
        "    system.set_state(x + h * system.get_system_derivative())\n",
        "    # Student answer ends"
      ]
    },
    {
      "cell_type": "markdown",
      "metadata": {
        "id": "JXbjgpMPxzGc"
      },
      "source": [
        "#### Midpoint method\n",
        "\n",
        "*Hint:* compute $x_{mid}$, use that to set an intermediate state for the system, and then compute $f_{mid}$ from there. Don't forget to store the original state $x_0$.\n",
        "\n",
        "**<font color='orange'> \\*\\*Task 3: Write your code below (10 pts)\\*\\* </font>**"
      ]
    },
    {
      "cell_type": "code",
      "execution_count": 144,
      "metadata": {
        "id": "P-hEwtmzyFpa"
      },
      "outputs": [],
      "source": [
        "class MidpointSolver(Solver):\n",
        "  \"\"\"A general Midpoint method solver.\"\"\"\n",
        "  def step(self, h: float, system: DynamicSystem):\n",
        "    \"\"\" Read the current system state, calculate the state after advancement by `h`, and use `set_state()` to update the system. Do not return anything.\n",
        "\n",
        "    Args:\n",
        "      system: the instance of the given dynamic system\n",
        "      h: an amount of the time step we want to integrate\n",
        "    \"\"\"\n",
        "    # Student answer begins\n",
        "    x = system.get_system_state()\n",
        "    x_mid = x + h * system.get_system_derivative() / 2\n",
        "    system.set_state(x_mid)\n",
        "    system.set_state(x + h * system.get_system_derivative())\n",
        "    # Student answer ends"
      ]
    },
    {
      "cell_type": "markdown",
      "metadata": {
        "id": "k1wJ8UIgqhj9"
      },
      "source": [
        "#### Runge-Kutta method (RK4)\n",
        "\n",
        "*Hint:* follow the RK4 equations and use multiple intermediate states. Observe that $k_1$ is taken from the derivative of state $x_0$, $k_2$ from $x_1$ and so on. You should end up using 4 `get_system_derivative()` calls.\n",
        "\n",
        "**<font color='orange'> \\*\\*Task 4: Write your code below (10 pts)\\*\\* </font>**"
      ]
    },
    {
      "cell_type": "code",
      "execution_count": 145,
      "metadata": {
        "id": "S_7D-yw5qhj-"
      },
      "outputs": [],
      "source": [
        "class RK4Solver(Solver):\n",
        "  \"\"\"A general RK4 solver.\"\"\"\n",
        "  def step(self, h: float, system: DynamicSystem):\n",
        "    \"\"\" Read the current system state, calculate the state after advancement by `h`, and use `set_state()` to update the system. Do not return anything.\n",
        "\n",
        "    Args:\n",
        "      system: the instance of the given dynamic system\n",
        "      h: an amount of the time step we want to integrate\n",
        "    \"\"\"\n",
        "    # Student answer begins\n",
        "    # *Hint:* follow the RK4 equations and use multiple intermediate states.\n",
        "    # Observe that $k_1$ is taken from the derivative of state $x_0$, $k_2$ from $x_1$ and so on.\n",
        "    # You should end up using 4 `get_system_derivative()` calls.\n",
        "    \n",
        "    x = system.get_system_state()\n",
        "    k1 = system.get_system_derivative()\n",
        "    system.set_state(x + h * k1 / 2)\n",
        "    k2 = system.get_system_derivative()\n",
        "    system.set_state(x + h * k2 / 2)\n",
        "    k3 = system.get_system_derivative()\n",
        "    system.set_state(x + h * k3)\n",
        "    k4 = system.get_system_derivative()\n",
        "    system.set_state(x + h * (k1 + 2 * k2 + 2 * k3 + k4) / 6)\n",
        "    # Student answer ends"
      ]
    },
    {
      "cell_type": "markdown",
      "metadata": {
        "id": "0jJSGW0v4ANM"
      },
      "source": [
        "#### Testing all integrators for free-fall (do not edit)"
      ]
    },
    {
      "cell_type": "code",
      "execution_count": 146,
      "metadata": {
        "id": "slQGZeXt4I-5"
      },
      "outputs": [
        {
          "name": "stdout",
          "output_type": "stream",
          "text": [
            "You passed all the tests!\n"
          ]
        }
      ],
      "source": [
        "test_systems = [Freefall(100.0, 10.0) for _ in range(3)]\n",
        "test_solvers = [ExplicitEulerSolver(), MidpointSolver(), RK4Solver()]\n",
        "h = 1.\n",
        "\n",
        "for _ in range(3):\n",
        "  for system, solver in zip(test_systems, test_solvers):\n",
        "    solver.step(h,system)\n",
        "\n",
        "assert np.allclose(\n",
        "  np.stack([system.get_system_state() for system in test_systems], axis=0),\n",
        "  [\n",
        "    [ 70., -30.],\n",
        "    [ 55., -30.],\n",
        "    [ 55., -30.],\n",
        "  ]\n",
        ")\n",
        "\n",
        "for _ in range(7):\n",
        "  for system, solver in zip(test_systems, test_solvers):\n",
        "    solver.step(h,system)\n",
        "\n",
        "assert np.allclose(\n",
        "  np.stack([system.get_system_state() for system in test_systems], axis=0),\n",
        "  [\n",
        "    [-350., -100.],\n",
        "    [-400., -100.],\n",
        "    [-400., -100.],\n",
        "  ]\n",
        ")\n",
        "\n",
        "print('You passed all the tests!')"
      ]
    },
    {
      "cell_type": "markdown",
      "metadata": {
        "id": "57r_AoVhnK7S"
      },
      "source": [
        "### Simulation & Comparison of Methods\n",
        "\n",
        "Now, we'll be simulating 5 free-fall systems which are identical except for the method used to update state. We'll visualize the trajectories we get and compare the methods."
      ]
    },
    {
      "cell_type": "markdown",
      "metadata": {
        "id": "DjODj_35Z4yj"
      },
      "source": [
        "#### Load PyBullet objects and initialize required parameters (do not edit)"
      ]
    },
    {
      "cell_type": "code",
      "execution_count": 147,
      "metadata": {
        "id": "PsBvpiFCw8ub"
      },
      "outputs": [],
      "source": [
        "init_pybullet()\n",
        "\n",
        "initial_height = 10.0\n",
        "g = 9.8  # Acceleration due to gravity\n",
        "h = 1. / 20.  # Time step\n",
        "\n",
        "# Order of methods (and corresponding systems)\n",
        "method_labels = {\n",
        "  0: 'Analytical solution',\n",
        "  1: 'Explicit Euler method',\n",
        "  2: 'Midpoint method',\n",
        "  3: 'RK4 method',\n",
        "}\n",
        "\n",
        "# Construct all the systems\n",
        "systems = [Freefall(initial_height, g) for _ in range(len(method_labels))]\n",
        "\n",
        "# Load objects\n",
        "\n",
        "# Red Sphere - Analytical\n",
        "systems[0].on_start_simulation(rgbaColor=[1, 0, 0, 1], basePosition=[ -2.0, 0.0, initial_height])\n",
        "# Green sphere - Explicit Euler\n",
        "systems[1].on_start_simulation(rgbaColor=[0, 1, 0, 1], basePosition=[ -1.0, 0.0, initial_height])\n",
        "# Blue sphere - Midpoint\n",
        "systems[2].on_start_simulation(rgbaColor=[0, 0, 1, 1], basePosition=[0.0, 0.0, initial_height])\n",
        "# Purple sphere - RK4\n",
        "systems[3].on_start_simulation(rgbaColor=[0.5, 0, 0.5, 1], basePosition=[1.0, 0.0, initial_height])"
      ]
    },
    {
      "cell_type": "markdown",
      "metadata": {
        "id": "7XyyOkwEqQ2E"
      },
      "source": [
        "#### Complete the system update steps in the `while` loop below for all the systems in the `systems` array.\n",
        "\n",
        "They are in the order defined in the cell above (refer to the `method_labels` variable).\n",
        "\n",
        "Note that one system needs to update itself analytically using `analytical_state_update()` while the others need to be updated by `Solver` objects.\n",
        "\n",
        "**<font color='orange'> \\*\\*Task 5: Write your code below (20 pts)\\*\\* </font>**"
      ]
    },
    {
      "cell_type": "code",
      "execution_count": 148,
      "metadata": {
        "id": "yDywtLhydGVI"
      },
      "outputs": [
        {
          "name": "stdout",
          "output_type": "stream",
          "text": [
            "At time t = 0.05\n",
            "Height of object using Analytical solution = 9.98775\n",
            "Height of object using Explicit Euler method = 10.0\n",
            "Height of object using Midpoint method = 9.98775\n",
            "Height of object using RK4 method = 9.98775\n",
            "At time t = 0.3\n",
            "Height of object using Analytical solution = 9.559\n",
            "Height of object using Explicit Euler method = 9.6325\n",
            "Height of object using Midpoint method = 9.559\n",
            "Height of object using RK4 method = 9.559000000000001\n",
            "At time t = 0.5499999999999999\n",
            "Height of object using Analytical solution = 8.51775\n",
            "Height of object using Explicit Euler method = 8.652500000000002\n",
            "Height of object using Midpoint method = 8.51775\n",
            "Height of object using RK4 method = 8.517750000000001\n",
            "At time t = 0.8000000000000002\n",
            "Height of object using Analytical solution = 6.863999999999999\n",
            "Height of object using Explicit Euler method = 7.0600000000000005\n",
            "Height of object using Midpoint method = 6.863999999999998\n",
            "Height of object using RK4 method = 6.864\n",
            "At time t = 1.0500000000000003\n",
            "Height of object using Analytical solution = 4.597749999999997\n",
            "Height of object using Explicit Euler method = 4.8549999999999995\n",
            "Height of object using Midpoint method = 4.597749999999998\n",
            "Height of object using RK4 method = 4.59775\n",
            "At time t = 1.3000000000000005\n",
            "Height of object using Analytical solution = 1.7189999999999923\n",
            "Height of object using Explicit Euler method = 2.0374999999999988\n",
            "Height of object using Midpoint method = 1.7189999999999972\n",
            "Height of object using RK4 method = 1.718999999999999\n",
            "Done. t = 1.5000000000000007\n"
          ]
        }
      ],
      "source": [
        "def get_heights(systems):\n",
        "  \"\"\"A helper function that returns the heights of all systems.\"\"\"\n",
        "  return [s.get_system_state()[0] for s in systems]\n",
        "\n",
        "i, t = 0, 0.  # Loop counter, Time\n",
        "heightsToPlot = [[initial_height] for _ in range(len(systems))]\n",
        "times = [t]\n",
        "\n",
        "# Constructs all the solvers\n",
        "explicit_euler_solver = ExplicitEulerSolver()\n",
        "midpoint_solver = MidpointSolver()\n",
        "rk4_solver = RK4Solver()\n",
        "\n",
        "frames = []\n",
        "while max(get_heights(systems)) > 0.0:\n",
        "  t += h\n",
        "\n",
        "  # Update the systems using the methods you just implemented.\n",
        "\n",
        "  # Student answer begins\n",
        "\n",
        "  # hint: systems[0] requires a direct analytical state update.\n",
        "  # hint: use step function for the others\n",
        "\n",
        "  systems[0].analytical_state_update(t)\n",
        "  explicit_euler_solver.step(h, systems[1])\n",
        "  midpoint_solver.step(h, systems[2])\n",
        "  rk4_solver.step(h, systems[3])\n",
        "\n",
        "  # Student answer ends\n",
        "\n",
        "  heights = get_heights(systems)\n",
        "\n",
        "  # Print the values for debugging.\n",
        "  if i % 5 == 0:\n",
        "      print(\"At time t = {}\".format(t))\n",
        "      for idx, label in method_labels.items():\n",
        "        print(\"Height of object using {} = {}\".format(label, heights[idx]))\n",
        "\n",
        "  # Update the values for plot and visualization\n",
        "  for j, system_j in enumerate(systems):\n",
        "    system_j.on_step_simulation()\n",
        "    heightsToPlot[j].append(heights[j])\n",
        "\n",
        "  # Render image\n",
        "  frames.append(render_pybullet())\n",
        "\n",
        "  times.append(t)\n",
        "  i += 1\n",
        "\n",
        "print(\"Done. t = {}\".format(t))"
      ]
    },
    {
      "cell_type": "markdown",
      "metadata": {
        "id": "ahtnMEXgXFeZ"
      },
      "source": [
        "#### Let's visualize the results of the experiments. (do not edit)\n",
        "\n",
        "Make sure that you can see the animation of five free-falling objects.\n",
        "You may want to download the gif for repeating animation."
      ]
    },
    {
      "cell_type": "code",
      "execution_count": 149,
      "metadata": {
        "id": "3XE_x2zRiCeN"
      },
      "outputs": [
        {
          "data": {
            "image/gif": "[encoded data removed]",
            "text/plain": [
              "<IPython.core.display.Image object>"
            ]
          },
          "execution_count": 149,
          "metadata": {},
          "output_type": "execute_result"
        }
      ],
      "source": [
        "freefall_gif_path = './test_freefall.gif'\n",
        "\n",
        "imageio.mimsave(freefall_gif_path, np.stack(frames, axis=0), 'GIF', duration=1.0)\n",
        "ipythondisplay.Image(filename=freefall_gif_path)"
      ]
    },
    {
      "cell_type": "markdown",
      "metadata": {
        "id": "AoK9a222ZsQG"
      },
      "source": [
        "#### Let us also look at the plot of heights vs time. (do not edit)"
      ]
    },
    {
      "cell_type": "code",
      "execution_count": 150,
      "metadata": {
        "id": "tAsCw2uA3k8Q"
      },
      "outputs": [
        {
          "data": {
            "image/png": "[encoded data removed]",
            "text/plain": [
              "<Figure size 576x576 with 1 Axes>"
            ]
          },
          "metadata": {
            "needs_background": "light"
          },
          "output_type": "display_data"
        }
      ],
      "source": [
        "import matplotlib.pyplot as plt\n",
        "%matplotlib inline\n",
        "\n",
        "plt.figure(figsize=(8,8))\n",
        "plt.plot(times, heightsToPlot[0], 'r.', lw=4, label='Analytical')\n",
        "plt.plot(times, heightsToPlot[1], 'g-', lw=1, label='Explicit Euler')\n",
        "plt.plot(times, heightsToPlot[2], 'b--', lw=2, label='Midpoint')\n",
        "plt.plot(times, heightsToPlot[3], color='purple', ls='-', lw=1, label='RK4')\n",
        "plt.xlabel('Time')\n",
        "plt.ylabel('Heights')\n",
        "plt.legend()\n",
        "plt.show()"
      ]
    },
    {
      "cell_type": "markdown",
      "metadata": {
        "id": "UblJy1RWgmhT"
      },
      "source": [
        "Can you see all the height trajectories over time?\n",
        "\n",
        "Discuss the results, particularly in terms of the accuracy of each method.\n",
        "\n",
        "Will the results be different if we take a smaller/larger time step?\n",
        "\n",
        "**<font color='orange'> \\*\\*Task 6: Write your answer below (10 pts)\\*\\* </font>**"
      ]
    },
    {
      "cell_type": "markdown",
      "metadata": {
        "id": "wWQ-mWahhPRx"
      },
      "source": [
        "\n",
        "The Midpoint and RK4 methods exactly match the analytical solution, and and Explicit Euler method gradually deviates further from the analytical solution.\n",
        "\n",
        "The Explicit Euler method estimates the gradient based on the state as it is at the current timestep.\n",
        "Put in terms of this freefall system, the Explicit Euler method computes the next height position _before_ the system's velocity is updated.\n",
        "For example, at the first timestep, Explicit Euler applies its _starting velocity_ of $v_1 = 0$ to its starting position $h_1 = 10$, to arrive at the height for the second timestep of $h_2 = 10 + h * v_1 = 10 + 0 = 10$ - it hasn't moved at all!\n",
        "However, the velocity is still updated based on $v_{t+1} = v_{t} - g$, so it does descend at all following timesteps, but it does so at a perpetually \"lagged\" pace, falling a bit further behind the analytical solution at each timestep, since its velocity continues to be underestimated.\n",
        "\n",
        "If we _decrease_ the magnitude of the timestep, $h$, will _decrease_ the \"lag\" in velocity values, making it come _closer_ in alignment with the analytical solution, while _increasing_ the timestep will _increase_ the velocity descrepency, making it fall _further_ out of alignment.\n",
        "\n",
        "To understand why the Midpoint and RK4 methods follow the analytical solution exactly in this freefall system, observe that $\\frac{dv}{dt} = -g$, which is constant and hence _linear_.\n",
        "Since this exact solution for the state derivative is linear, the estimate of the derivative at the midpoint (or at any point over the interval) will be exact, since the derivative is a flat line. For RK4, we can make the same argument for each of its four estimates. The average of multiple accurate values for the constant slope of the derivative will also be accurate."
      ]
    },
    {
      "cell_type": "markdown",
      "metadata": {
        "id": "Mji6OZFg7Jw4"
      },
      "source": [
        "# 3. Bead-on-wire system"
      ]
    },
    {
      "cell_type": "markdown",
      "metadata": {
        "id": "jFqGZnJY7dXw"
      },
      "source": [
        "As promised, you will now test your integrators on a new system - the 2D bead-on-wire system from class, generalized to follow these differential equations:\n",
        "$$\n",
        "\\frac{dx}{dt} = -k_x x; \\frac{dy}{dt} = -k_y y\n",
        "$$\n",
        "with general initial conditions.\n",
        "\n",
        "The system definition and visualization code has been implemented for you.\n",
        "\n",
        "You just need to verify that the integrators work without any changes, and write your observations from the simulation."
      ]
    },
    {
      "cell_type": "markdown",
      "metadata": {
        "id": "C4MJQ6ufW6ah"
      },
      "source": [
        "### System definition (do not edit)"
      ]
    },
    {
      "cell_type": "code",
      "execution_count": 151,
      "metadata": {
        "id": "UcdGKxqg8erw"
      },
      "outputs": [],
      "source": [
        "class BeadOnWire(DynamicSystem):\n",
        "  \"\"\" A dynamic system of a bead on a wire moving in 2D, simulated using matplotlib.\n",
        "  \"\"\"\n",
        "  def __init__(self, initial_state, kx, ky):\n",
        "    \"\"\"state is of form (x,y)\"\"\"\n",
        "    super().__init__(initial_state)\n",
        "    self.initial_state = initial_state\n",
        "    self.k = np.array([kx, ky])\n",
        "\n",
        "  # ** Simulation operations **\n",
        "\n",
        "  def on_start_simulation(self, line):\n",
        "    self.history = [self.initial_state]\n",
        "    self.line = line\n",
        "    self.line.set_data([], [])\n",
        "\n",
        "  def on_step_simulation(self):\n",
        "    self.history.append(self.state)\n",
        "    x_values, y_values = np.array(self.history).T\n",
        "    self.line.set_data(x_values, y_values)\n",
        "\n",
        "  # ** Analytical solution **\n",
        "\n",
        "  def analytical_state_update(self, t):\n",
        "    state = self.initial_state * np.exp(-self.k * t)\n",
        "    self.set_state(state)\n",
        "\n",
        "  # ** Operations for numerical integration **\n",
        "\n",
        "  def get_system_derivative(self):\n",
        "    return -self.k * self.state\n",
        "\n",
        "  def get_gradient_of_system_derivative(self):\n",
        "    return np.diag(-self.k)"
      ]
    },
    {
      "cell_type": "markdown",
      "metadata": {
        "id": "y0UzTrL6r7UO"
      },
      "source": [
        "### Testing all integrators for bead-on-wire (do not edit)"
      ]
    },
    {
      "cell_type": "code",
      "execution_count": 152,
      "metadata": {
        "id": "MPDTbt6Ar7UP"
      },
      "outputs": [
        {
          "name": "stdout",
          "output_type": "stream",
          "text": [
            "You passed all the tests!\n"
          ]
        }
      ],
      "source": [
        "test_systems = [BeadOnWire((1.0, 1.0), 1.0, 5.0) for _ in range(3)]\n",
        "test_solvers = [ExplicitEulerSolver(), MidpointSolver(), RK4Solver()]\n",
        "h = 1. / 4.\n",
        "\n",
        "for _ in range(2):\n",
        "  for system, solver in zip(test_systems, test_solvers):\n",
        "    solver.step(h,system)\n",
        "\n",
        "assert np.allclose(\n",
        "  np.stack([system.get_system_state() for system in test_systems], axis=0),\n",
        "  [\n",
        "    [0.5625, 0.0625],\n",
        "    [0.61035156, 0.28222656],\n",
        "    [0.60654283, 0.09452822],\n",
        "  ]\n",
        ")\n",
        "\n",
        "for _ in range(6):\n",
        "  for system, solver in zip(test_systems, test_solvers):\n",
        "    solver.step(h,system)\n",
        "\n",
        "assert np.allclose(\n",
        "  np.stack([system.get_system_state() for system in test_systems], axis=0),\n",
        "  [\n",
        "    [1.00112915e-01, 1.52587891e-05],\n",
        "    [0.13877788, 0.00634441],\n",
        "    [1.35346142e-01, 7.98446841e-05],\n",
        "  ]\n",
        ")\n",
        "\n",
        "print('You passed all the tests!')"
      ]
    },
    {
      "cell_type": "markdown",
      "metadata": {
        "id": "XqWAoxvKW9rA"
      },
      "source": [
        "### Simulation & visualization with matplotlib"
      ]
    },
    {
      "cell_type": "code",
      "execution_count": 153,
      "metadata": {
        "id": "saH32uShXGRI"
      },
      "outputs": [
        {
          "data": {
            "text/html": [
              "<video width=\"432\" height=\"288\" controls autoplay loop>\n",
              "  <source type=\"video/mp4\" src=\"data:video/mp4;base64,AAAAIGZ0eXBNNFYgAAACAE00ViBpc29taXNvMmF2YzEAAAAIZnJlZQAAK7BtZGF0AAACrgYF//+q\n",
              "3EXpvebZSLeWLNgg2SPu73gyNjQgLSBjb3JlIDE2NCByMzA5NSBiYWVlNDAwIC0gSC4yNjQvTVBF\n",
              "Ry00IEFWQyBjb2RlYyAtIENvcHlsZWZ0IDIwMDMtMjAyMiAtIGh0dHA6Ly93d3cudmlkZW9sYW4u\n",
              "b3JnL3gyNjQuaHRtbCAtIG9wdGlvbnM6IGNhYmFjPTEgcmVmPTMgZGVibG9jaz0xOjA6MCBhbmFs\n",
              "eXNlPTB4MzoweDExMyBtZT1oZXggc3VibWU9NyBwc3k9MSBwc3lfcmQ9MS4wMDowLjAwIG1peGVk\n",
              "X3JlZj0xIG1lX3JhbmdlPTE2IGNocm9tYV9tZT0xIHRyZWxsaXM9MSA4eDhkY3Q9MSBjcW09MCBk\n",
              "ZWFkem9uZT0yMSwxMSBmYXN0X3Bza2lwPTEgY2hyb21hX3FwX29mZnNldD0tMiB0aHJlYWRzPTkg\n",
              "bG9va2FoZWFkX3RocmVhZHM9MSBzbGljZWRfdGhyZWFkcz0wIG5yPTAgZGVjaW1hdGU9MSBpbnRl\n",
              "cmxhY2VkPTAgYmx1cmF5X2NvbXBhdD0wIGNvbnN0cmFpbmVkX2ludHJhPTAgYmZyYW1lcz0zIGJf\n",
              "cHlyYW1pZD0yIGJfYWRhcHQ9MSBiX2JpYXM9MCBkaXJlY3Q9MSB3ZWlnaHRiPTEgb3Blbl9nb3A9\n",
              "MCB3ZWlnaHRwPTIga2V5aW50PTI1MCBrZXlpbnRfbWluPTIwIHNjZW5lY3V0PTQwIGludHJhX3Jl\n",
              "ZnJlc2g9MCByY19sb29rYWhlYWQ9NDAgcmM9Y3JmIG1idHJlZT0xIGNyZj0yMy4wIHFjb21wPTAu\n",
              "NjAgcXBtaW49MCBxcG1heD02OSBxcHN0ZXA9NCBpcF9yYXRpbz0xLjQwIGFxPTE6MS4wMACAAAAT\n",
              "7mWIhAA3//728P4FNjuY0JcRzeidMx+/Fbi6NDe9zgAAAwAAN9zmRP7KkwbmwAAC6PH6SVzSesBM\n",
              "tV0nvcGr26K6+dS7MZJWGsAXBEJ++RhwiES+f4W7BZ2RBMX6rjZ/x9YucGwlKmOC9WkEFdB/f0w0\n",
              "cHpP9Ahik6v04vv5IAb5TTOP8fdI0biHMq36xTIjsyg/W2psdzmLO9Jnx79o5lSjkLFxzzmMriam\n",
              "QsM0jWBRHNk0Xg2+cnB0s3H9MXvpZ7yHFZAqausBpWJi1ywOMU9OgFOcdlndoyDzEbWI2bQJgZiH\n",
              "gDbEpFXuKvJTp1MZmucaJz9Po0X52Og6N0Lhkicw2NenMar0XLCpcoJopteDzkPpdXrjgk0yaG5F\n",
              "uAiYspdl8jgBVEuLjjp5si5qF+XNWTH1wiEKHM/7hXBqnh7fL9FjzIqYTrOWl4Qlz3tQ1Zo8S8Fr\n",
              "EQUhItJlHqxQCylgjRaNFCeu248qI+8tPcTlZ3SWtADd5JvvbL2ayxPCOA7sjkEYHfY46wJDn3vU\n",
              "ppF1UJdSILOTrvSRZXMW5+NCZ2Zrl4ZVvZmCoT4p/gEfWMoDF9AUILm/PVL510P6Zw2Uw/h4Ml+u\n",
              "JB+v5X40hu3vf0cFkIWlrIgwpZWgZnBqmlSfzF3zhNJH/GRNwcp8CcWzthfmwnuZXa+rouNhWj0I\n",
              "F2Ca1IsTE14EQXDxejK5H9p49hLP0YpOjBpSms/+NxPfIfxd8xhMSNg2gyt9KsM6txjGsuCl+ZGK\n",
              "ZwTtPkG99u40LEL4+s4dXOu2jqqPZMSR9ennb2mfMggt2SpK2eDbhYZ1KEIo/hfN+ZAF+VzVqJYJ\n",
              "sXv2b8dng68PrAH9AhspTNiLMk/2jQjnEcsPxTbjUP6CShdH95+V4EN0ZJh0WKDy6j2tpjBuWr2G\n",
              "ijXttmOI53X6JyVnlpshXBhqoNkzD1kVnDcZgtcloNIF/NqizgbazsXFrq8OLhSWqxkimosf8CW7\n",
              "B8wzv5yLoRL38EkjSHm8yeAOl9AR9IHQZ3yj1yRjAv/4ztTiBMPNXbH7QsFPSfUEA77QSZ+uaKnQ\n",
              "GcpdE4HmMfxYDhQDvo5xs0gDqeR/5OfhVz6QeX7fqXQbljs/BxPUQZ5r5FGA2+ic+V2vlw/10YSf\n",
              "gDCSFipH4TNfzmAFavxIzIZ18hwJ+FcDkYbJFCy0/LCqfCyoi5+WP91JtUjkhCWqYfXKirdJGm17\n",
              "sH1DNpTjLl/ZXTTS6AAMDwUaeV3ilm9cAjh1aeoanitbvN+E2kH9H3ZgOXRXxz1V/Sj8gMo9sE/a\n",
              "mIHuxpa3wW/IciCBERe0RIAhr6mMoz5hO7CgrI9ykLyKZ/TZpr8AFWioZjX2y1fJBo9sUsYiy0q6\n",
              "2TZ3DdDbjQB1ve0YLX17aU3YUQSnio5gD+dZGi2y63G7mVLI00b0RVpGZQ2wet6bJqgKzFWXGhbJ\n",
              "jfwymPpFjDfXZwkUCceo9u2qXovP3iLwEvd2gkhsBKwyV2A8Ft1VgVbFjXZEwlHD2kCZ24xl5S8+\n",
              "tE7GTCqKmjBrxhCXnZzimAmrBF6CUoJDrWpH1d7ZdoQJtdoM9mhWjv5CCyhMIP4fCt5frLqkk0RC\n",
              "gWB2nLYTvRw2iGEoz+eRQDl4KsjI76JWprgUMB7T8pqXHIGOjdyoVjdVteZVZvQCzO3+cajHBu3r\n",
              "MatJNQPKOjDSLCKDnlQcTRg/eFERSBfc613APw0MnmvA4u49gJGFerjqyU5JqhdpMx+H2rdg5ZpX\n",
              "ZBA+IC65MOwsH3jmN2xa77vjPhK4MNXdRSSlJqw6rEwiA72wDGZNCkI9Wf+0W+UzvcnxPfSZWYWY\n",
              "FtuiOKS48sOukrzw00G6e8Ab1INQHnLYCVYxGdG2TcP99Vka31o+L2XoaD/X+i9ZR+0stSQptH6R\n",
              "idV5DspyhCZUX6NITvNyddft1885Aihb13hfSTW1TOHiCawlpIBNRhl3S0nGPDGzXlz99VokbcwA\n",
              "9wk+Le5yKC5yyDMULjh4x8pv4AzRWH95fIQgH7XJapwE0BBHJbI+G9y/C4dW7eLdjIdNkCUdt7LH\n",
              "Xt1OMrbOm4nSvXnQnsbqk6KZ1HQEoCmNISP+B7PcGdThem3zxuxzWEUnNdmb+95rNohsZx/Rv2jA\n",
              "Vj+NLyGCGojm8uvLT2DvA1aROQAAhTY6CUV28d3FtP1ditTBFddROUdTkMcwgLAY4hCWrdl+VGZ8\n",
              "zfp+mU7yXosTM1wIvv930oKXj079A74wNLEN+zamz2SJUaCSE0Hp/pqxCkgchez88K8+083hDE9J\n",
              "vgoAl2ozf7N14II0B0nZxaNifnvwyzj+cfvrD/2IwsVQ1apUyFQpq0fG9mUX5CZYzLTRHGXh0iTe\n",
              "VNVYnhzNEWp4+dY0LQQoxCoSjL3uh3+ZlqzI2eQsm0WWgVbLyIuKrde8dUcTE4Zc4S/4GU7Fv6C+\n",
              "yc6jbzgw2ZHmthybCi29So9CPmq1Yn/RgFLvtZcpe9A4msfERmH4ynQeRnWSzMhpqcF4KlSr8g5N\n",
              "Tj8LTG1eiHK2a6iUf/guDmsl2sUyiRbSAe5f6YIXUa8JYCw1UEjacv4lEJqyH/133LPaj60NG8/B\n",
              "ZyyP+20Byi+19wcd3R/KlFoe13aAF4s1XYTOJh/I5k2MBSmO/UizzZUDEYGsulLjtUuH9u5BNHLi\n",
              "3td7tb0euVqmW8zq2oHMES2qrs8khBsGMmBveuX+uEvcYDl0oMdz9eJSGt7REk9jg9H5ftMvVP9H\n",
              "HSK4eHL7jdgANlEl1OTI1zTUEJPaQfBV36amuRS/YY++nZ3X2WJa5L9Wnz87gvKcwoqLcpNXeeLd\n",
              "QAWHJjjOtqoMhBeyuv5gP2MVWK+RV9TWvZADk9dGZIfBKhnYowBdZhOkzAUEMxqZBwAfz5z7WzwK\n",
              "UFQRvzulLLnWZsiyT/t8t7jjflZ7S1+X0IGV3O8Cff6lxo41hrkRn3+r2HDeK9YNtxqqDfGdPiCf\n",
              "wR6sVQZfrcfkNMilmls/ev6bEPCLtc0QAEhnL2P3Zdsm/wBPov4lmrYgqtj3pYpcQEJqk7m+f2/u\n",
              "E3ijOG1IlWgCGZcxxojTc0gHg7INgYWbF6efnohD+Qbr//Mi6XAAU9D76dWZMv0dcw4CJ5tPfXdQ\n",
              "lgqy/IGhhx9c19tELN6c+KK9q6Malh+vlxVb2tLPOqdSoHIztyEgfEzdOzKq7LT3Myr9H6ARX0at\n",
              "avaqaoP4+zK6+20apRVjQETpzqlf3gJuERlU20uQ0mjdVf/w6nHmy9wn1IZT7oSTiyOqtkH8EZUw\n",
              "DKyAt8KBvV0p6sq8xQZRDetf1ASz5UuLQ0SeLm+VSN5TmiD1Ht/946mHk+SmpZL/2qhD91GPLZa4\n",
              "ejm0a0e5Q3wH07CwubvvPkZNsu3snTouSMil3EG4iTjOuwL4nrss9/i/0CGpvSrbUfpB+95bmSgd\n",
              "MPOBgYNghEGgTkPPUKdnKJoA5xUGvLzef+iXF578H2QqsD5sh1qp9GsSb6biyjvSMwKNkjaAsrEp\n",
              "kMssB962kGktdi/e/BKis3UzjkloNZGvHjpvo3dhw/Cq+kmGLfaWUCVhbmj+nSHyDoeI17RhrwL6\n",
              "r6thmWJNZFD6fpBGrD7S3bOOeuf26BDxaQUsMikx7/gckXS/fkxKNEO1inR+c+xv39lUgQT3wXnV\n",
              "puD/g9ygPV2VtFmDsKCJiSF4w2/kDDCzTVHl0BXAJv201OXtj0kNIq9wr8xXxnZVaTQ7sdn6W/2W\n",
              "da3pV5cBFtv2EO4Qn8crXtFiIJpm+Q8rtCZnzvK6U4RS1aTKc8+JeYsoIAM7FW1C0lHT4waFsed/\n",
              "NQtD6+vLFe+duem6J/gRcY7EHpCX+lcm5OT0EJ2ojG/Kjz2OFFYcRaXaKArJ+nZUG+WHxZmV8Esf\n",
              "oCY/RHJ8wQX5FP5NpqFGi5wZe9fl6bryBTDVAs5AZILNqDqngHKp3biGlMsNGPvlWDc1ctD1/87k\n",
              "+QeZ1D0CSdGJ2i9riLZ85oxO2L2cfORcXrqr0MzF/NQ7qQA5aVFF1+Euo+ypERPMsh2dk8/gyJW6\n",
              "gVKyWYtBbK6QwmWbbgR04z2VwX2o/2zh5gIddwhBkzvvHAdPAVNtKAtgrcd2t5dkR7WvJu0PhrpD\n",
              "sP2W0RhkhFmqIPH/Un6QE19SkWYje0/N+803Xg7okDcHFrerb0uT5GN5Jp1L+1KyDgS9nJ+SF+HT\n",
              "I8+RM//a8f+XXP2ZLtcQsLf9xYRgVwTriGzRXStXjfhwzAi2j6qWgaJVv/PJ4fMPx0RnGKLl5JiN\n",
              "LVtC18RuLsPfuV+Tth4IdsAA0tjqOqvh0DjEls25hFNASj/2EQGLM2NR9yCHooBCYkc9m3U528ts\n",
              "FJMEHcmwzaao63JMWfcNTptLBaXsH+tXQOZLXP0/sZpJoUNHAhgwNfH6l57roxA4RG4sgn+J9egl\n",
              "OWcV50d/9f1ucTg2oPwBCK8rKeX8QTMBoIn/kPqkxAer2RmYulB6EHL/v457OFQ3NRM2RmVhK5cO\n",
              "VPRVjlYmhHRVbzPzedoCmIQxgfIcIpua3yNLq1zvBSQoJj2JIR9b/navFXlCwj9w22ywxGTfie3A\n",
              "MgA29r3mDgHvKpA2MWighYMWChovUXr06prIzs6By9cUWy3vh2t1Y9J2Ljco44xmzzqukayhpz0g\n",
              "mXrzI7/aL69163WPSlkVrpJmC/3rj4kbH/jYFNBf/UxMQfMvORHNaXO31QI2G4+/hwj6g0L/aS03\n",
              "1T/FmLi9giz3f8uZ5fv2asfledUH7EF0WryR7MvDDNodqhwEFxd55bGA+tEFp+PKoJvN1sY2RbmZ\n",
              "2JCieWElZm377Ho9f6r0bMbUUFgIHmIGK+KWD08thJQ6FetgMTSKlhQREcbCC+V1Dp8nHxsjXhs5\n",
              "e99k8zPSzRS+ydoY9H+5ME4OZsBAZWzE4SgEaRXgDSYFTzum13/Dk3NqFtQgUF5Jy0P5ocp35YXE\n",
              "29znSyyanUURXclqtJP/9m/CY0YHgl4/K6G2Bd3QChUvXnbvRgGzN4IqL2qf0WDAyZbCUzCWle+n\n",
              "4krFL/7SYM9jNF8QkARIHjvIMiREfRFkPSpROrszUsXVqJNyjo3RW+Q/m9dLDmOiiyDCJxtZLUfD\n",
              "pup0aqcnXB4pzMkmMACAkg+dFH0JgAuYhBkTHC8qjJOV0LzvrUvs7r6hCoCkno//C8uI6EfL36rU\n",
              "TsULBZX3UZLsH2mkyKhf6D27UZc8coA+DX4/UlR9+c4hjr/zfM9o/N1sQ5KRr5vTuOQdxr/sgjf2\n",
              "3TpBT3ABIqCBmrFjM4Z2twu2toNfN6dxyDuNf9FiFnI8qxQzTFcadF9bG3CsgTLO0zDeXiD41tdv\n",
              "ErqJ8Ohsdgm6o2askJcHWM5mtuboAf+HunXsciFSem4GmfYNTn1bB7UUnNP8CPkAs/Ls8uUDOI8z\n",
              "jLwtNXkm8krM5nhR6sJYB34NJcA1mH1aAfLG7dccosKxpTq+DcLBu5cN9A9rhekwgYW44AYyykVp\n",
              "b/r57HC24NGy5Cz7ZQKuYK/j/rM0rG0J2ttXPiu0stNc815RTOdm3JJGD5VGOhtoF+OAuQpnNHu+\n",
              "anEpRMQO+lZh/Da9cYCP/5QEjYTqy7mcKI9rPfn5A6REP5Q6qdjpt/Ga5uuScvMniHWd/ivWn9rP\n",
              "Rk91egQgvnREQRJdn4Os89OxgToVkJvYyaDDpsDh9+hUk3HlMRMTepd8E7tssegwhWUpt61rL+uy\n",
              "LG4yq92QExBnYQym3L0g48B5gDHuspOUIY10ih2ZczNuz1Bq6yVXcpOeLyzkVntbQMT6u7ghJpq1\n",
              "aFejCgliWVhbFEbmal0AR/ab5ffoMOGjottkkaEaB63VQfX2nwFRqu6d20eDLOWaXPV0mjtU93pJ\n",
              "eVmwO0rI99TUPfuO4xgRi9tz2k+rbR3o9vS7+nNocpBHpRSkvhcTD4jY2qBUmnjTcwq88cpofWZl\n",
              "+lQI2v9i/mIc6qkSlEOQ7NkUx58bSyQnz2Rf7c5HkxPpv4k1mCcIDnlNCw39/kMpmSCNDDbOD3rA\n",
              "oPhq2T0XaAq0o+//tCoYMhR3+ZmP98MFO0MEGbwPREf1T7Erdi1Z5e/q9WzweC9bjxZKvd1kcxUd\n",
              "TiHOOTtsbGNt7oS1VHFvZzYcfLHABqaWXGbO1O78jJljjeIPdOjgnyaW/m6sKyF0IfczRl8a/duc\n",
              "y0/DISFW6YDjB4J+mj/s4qUyin/5cK2V2VVufYmLn2oMjHkNdjOrR+pJuJIhx6pay7Uhz5dghGYm\n",
              "V8IXhi3sG06LSYyenN4EfCbBzbIAmnTF+7DUCCfsTJJnf9LXuUVs8u1rawkxEsThWOqzmwvL0pVX\n",
              "Rf5HDEA7KZHQlROJ9U2XNzwP/8COhCQurJgoTunN8PMykQnj+zAj85F0FWUfwqIo3fJGA25fvrLS\n",
              "8cmLT9FugljrbxmB77XbRhhC9WzXsIwQb7mzYr8CWOFvpwzHYk1bvPGpYZkJbsNQIJg+iGJ0ADLc\n",
              "1sm3JXolZb2/rh6gHFvBsoWPRZ6H+h+oliGivDZGqkYUO0YPFqvkphzYhZEPfPXy0X1YcxT+rSYc\n",
              "/lSJoYoMZyw/NLMjRdFO4N9Cs90uI9i7DBB0C2l6zVzLuJi3KTfxmhOEH682gkF+d2RdlS7r+DdC\n",
              "bqHG6XF26YobzoW6jqeuSwZdMpujIZdZe/TUARh/xaE8hEhipSoJUb6XyKJPyO/5HmFTNSvv8P2A\n",
              "VL8OC7hx//DrYfkDkO6Mx19vPwnfQH9iVvMDj0f+GFlQ+BEw40qeSpRT6m6Pfo4gNCdnFB7pzcMr\n",
              "lZalA76XHf26keTfrXXsACIubCa4GaaYDrin4NqBAAAGj0GaIWxDf/6nhADH3JYAFApfK/KXqQxv\n",
              "A2HYo4WBetaiP44417RY5X1m0JFI4k7a9woF0RQBCqtMhD9Nvx+jaNLu1Ob1O51iz6ZD2EtaLnSg\n",
              "0v+/sHJCjOIU/+CK783+6vuTpvnRTykwunMq+egTjUIuilyBPt12vC44D/dCQ4NguSSS8VZFDmLG\n",
              "86m3F2DoIOOtd37JrunesD4BKplkCk0BowIOD/s8515t5vy+4dsqSmePSsFRSD0A46VUTu0Oiwg+\n",
              "3B7dDW6YNrrTKqAUO81UXEy+MLET7tMdUQF/98dqS9NHlIJWQo0wHBAAqbawOV4tVwECGLdwAuos\n",
              "hPgubEYOmGdGyWNutW1MlwQGFkJyp/ztN3KiI8r1ZgKvTEDOqDA9sMipuRJJfqSA4i9nOTafQa+h\n",
              "wcHuBPBjroJVSBQwItYgNvXo2yaMqqPs3nXPrcwqSlcbudNY6GDt5/awJc0LWFfaLYBHVW2dGsDN\n",
              "FdgicOdl12VtMil5VPDU36NMFNcrOSsioMSXYebiIW+H3XF+FedENZ+b0pUi+WIlIGGLtEJqkOKU\n",
              "FaVIBT7Bepy7UM1OOaPp3plJqKz9zGD19B52ZY9o8O2w3Xw5UbE+UecZs5MMo4gOBnvMMQhLYxSo\n",
              "E1uhTawrctN79WbI9wjMLkg8QxDTubzQtlYO8NhDN+M4BPDpGbAqMLLCLpYBhVFeBVaFrOICs6U8\n",
              "j3Y5gDYSm6pZD8bgehQyTVY6WlFuc6KNOU3xhN+ub46bRsl3+QH/g12Z+derxx8T2mOhinq+JjHZ\n",
              "Us8FPm+/WIn6jQhiaeRwuLNwGJ2vmviVv3jdNue76epSsiJs3kWstGFWASFBCzKUUI1NVXsxNfLV\n",
              "GG22TKAU22e/zTjZLBZWc1umtoUpgAL4wkkgQ3q6eMHxuGuqj+aVA1fTtQlIZTk/+WHHMWpT/23X\n",
              "v5LfZN6xyjqX3X+0VcDEr/TNVb2muoPk366bV6eu6HBoAq3C88hbfO5w+dWRgv+VUFk1fRbYA876\n",
              "Zo6Vt+pnUdfjxFRbGjbksRt4dpLbcuRiTGAt85gl9FloOjCEkjczIn4Oo5VPiWFy4VamSTncRfDo\n",
              "pb+eOAfAbigwiIPyEQf9ppA8UWAWz/qMFHojeqfXMJktoYCsMjTy/LRIpbza19bGjYPqD0kwackf\n",
              "SFXYoImYEU1PnW+6z9mQVhHHXwB5w/8bizL2qneTKMnNdYQD4dE4OKg1Y+wQuQ2zWrsYq19gKTDE\n",
              "81my2YsuTsqebVMkw/ifssjZOYSinjzMnAcdU4VZOzHMqKty4x9RN9OnJgqLY1aAWQqthRUJYoVj\n",
              "leQSRle5cSRQeclVdpimgu/yEJbecbaSi+mF0aylc+Ne6FSrfUqfW/Z8iS0SOgpVsKhU8DWpPuw8\n",
              "/U5H6X7bqEWw2o5iMTMsIHQ5/dukWqpECSCDdru1Pu2qLfqwxcwdCAvmjRvZEjrFBG5MvRhtvxHS\n",
              "jXBz6aXYuh1yZFRLmYQQgGsAmzVP4+6bw022dvesL3ghnYCeSyBViOpPFsyR4Bz/aYxjkc/vivSn\n",
              "Xf5B+EdNKZq9kh7HRUNKgUnpVY++R9AxZ6lp0wj299xJmehERsD1H7KWXLCSPdTt78K6q+SkqzyE\n",
              "VxEUHIxoNd59JVEZqKwO+BSDps/zIo9U6QGaBGcU32/xJWvCZtMBwWsxJzge2zrh0zwE9H/9Sikn\n",
              "fIhLsBf13gNOAc5Mg0IBu/SdcfxtarO2dDxI8K0hkVTXjZg8N7VFGe0gRpPxZOX9GMOoZIx+dQ4v\n",
              "hmNdLWJou1KnLusf345xAP6Lbg6WSOKL6PKBqIusDahEtNPq6VIahB+R5YQSmzO0HtVjXhfVgipA\n",
              "uYRcmuuCVan0QXJ1qSao040fynal4TiQBERde3cHG9gmHn1fIqN177MAc0Af18LoZdgWz0TkCvIr\n",
              "/0zEVsQDM7h7ZlAfEG51UN9NhrUUtgWfHDflfJ/tBCCC/6HY89oYa3b/7zvGohT/GweZdHuBrR5c\n",
              "oPNP/0tgy9j2W11KMCCw/2xnhs06kUcVmWhpGINM65q6RyNmX8VGjd2cENatk7gls1PutqvUPJen\n",
              "OubqePepdOqTc3yYgmUgXxkPw9mFT9l/14jasf1TJg7tBIqmHlJp9bB1ZGIOf8e3aDYz8BL2BMJo\n",
              "SPrDEC2viezrUxCcdMoZe9h8xEf5oH8Ap9f090B7fTiWbg2wcx8v8BIcug+UdTRAbJZVX1gwr3EM\n",
              "/aCgAAADGEGaQjwhkymEO//+qZYABW+MEgVJBpW3MyVweOGeE4r+78kArSBqA3sbk+9xsgT23L2Y\n",
              "s50UlsTxjT9Of+YSBF9BMP+w5SjlTy5OsTdatLio9rR3yJCTOjh3bNqRyj9sgMRRNqlc9EtxpAEF\n",
              "XwsdCBiDngr9VU3SqMZehPU+cuccaKqa4QG7f+0azp6VeA46wHj+Z8AjNE0G3XDUVbNBC6t2CocN\n",
              "9Mv5H0hf9jela5VwT2YOhBi9jeKDy6+Ck68II7WdxUQnVXIr6X5CVJgSqoRrSWd0epro95lsDChZ\n",
              "zYkKNs15y8EQf4gICWZjPpoZa5zeAoo/PzNYyGhySNwjyh+kBaa/n8UWKQ8kt3GR0V2IgH8GEGvc\n",
              "iHGcOx8QnxucqgEoZDrJ4eU6o2UCooFGOVCoSdkgYZjQ9f75zXu8V+iQ2L07sfC8NWllbgi7dd9m\n",
              "23jVx2AtEBNbgwqIjoezX4uBzTNmofz8xU3wxOeW7jyhmoznM3EK0t8Cl09FQ6pvkOhyAYPixSSs\n",
              "IaHXXOeF5h+0A1lcbrDL7biNVWEWCG365ATKxH7az85x/VXIMErDzuiPkGLsaINBmul3+bwtPhB8\n",
              "1eRhgtGf+ZLRjrYj3PADa3KqUQqJQ88HlOZqYXlQZednqr03PNvcO+MlASy+/IRBNLmLKOXvzyr2\n",
              "maJBS2/oTouL2rn7njGEQZh29Bz44rUpppjP6Ns0lrotwISw3qxGgI90geDzAbyFsg9ccxQlJmy7\n",
              "AwQZJ08C9Q76UF8sklKZZhftxpdRQ6I4oFoqiey5gIPRVFozOg1r18RmMDntCaDfg1Q3k0ObmU4m\n",
              "woheAZ4wGHb7msFBKHXQfWIhSFw8IAQ6r2yf15YPDsk3yluDN3e12f/YbyAhMKBReQPfwTF5aP24\n",
              "Oy7AlaRM9unnHmEmFX29EiPavdydvcQi1ZzpXEK5onjPr3Qko63X9GfyVdSiONVBperK3X4USJ1z\n",
              "Rjqd87jMajMQKDm11Y/FOMtI5MwWQCXIDckJGjQ02eOkd44InoPLfiFFhVdMnhr4hpcl6VkPQq4V\n",
              "8QAAAm5BmmRJ4Q8mUwU8N//+p4QACn74dAHzcHpfbvfFzi35OVQbCgfL7N4ohqrFctt7cthKPyu8\n",
              "Od7gdn11Q109GdIEwD7HmSpV3XF64ZggWIiY5Ygz4jAzb6ZwaUz4Qq6oN0bfvEQSnLVBMWCPsysx\n",
              "3TZWKywNEA++r9Qj36CcNEu8lLS0Cj2C3qWxCaM5YOFsnzoBR+/aR2eKpNYzPCM2IL7Z39G4/eH6\n",
              "UVrBNX8/BaVvwpnDf+0m26XOkGm7hHlU6/G9+N8p1lF5R+liGhxDzQ7srngycRAMcfSJ5Ko7/5If\n",
              "SyoabXtgIm6DDMcZldXlSR08XKU19YGZd5erKVFfCrhBXzsIhGlOrxcARNmAVI94pSDprKPsicig\n",
              "7UNKzmnDvivIc7NeGNJ53vCQ1rgviUJcEVIQ+mFfikQU588UpSGVBBJXH3KbMdGMuQp7NLOGxf4u\n",
              "xKUBJbN8jCe0oKjTT6770Behz+Rzjaz2NDrkXC69kEBeHA3d2SqYjacsbSfexHoP0h/h4PpkB6h6\n",
              "CqtTJPN1GTNHQFDklCgo3rY3oPaz5DqOaXj8fpmJJFVrwu6LmOeZVsyDnf+/DiMvXS4yQwD2Gr5z\n",
              "deC61q7YgUYcVEGrmvToHg+7/5O6WSb/WmsyEVe8Ok2fp/tq4y2rqV7kQSny5Ez5iysZVkpqOZ1M\n",
              "EV75RWzWBAeb9hgqyfC/zWPPJk+cbsYb5lplVrVJ4crniAmdDw4m8X21u4/g1LZ1/J1ggGGTLw1m\n",
              "K+6evVy2Lsw0TiWjL2yrJvVEPGD43mTGaiuz5GaKcP/2m7PvqtTuL/R0mvpEQkQXR+rrMfr/qth+\n",
              "AAAAdAGeg2pCvwAI7sCM2+IxKLwBw6UAHFkVUcssxwsvIrpnglp26PZGqii9Ri7OT52eVvP30klY\n",
              "WWP8iyCHbca02icnJ7EfGnph1Etoe9WIYagQGEyaBmvU2KAEFBg3Ftmo4SY0y/6iGVyZa6lAnm3F\n",
              "BvPIWM+5AAABSEGahUnhDyZTAh3//qmWAAMVKGnIYjDDh2fCQIvShP6AOHv+/Yc16UV/+aMncIMq\n",
              "T9PsSO5/uoHZvBkwvqczKkzLsL4N6iJAC5gUyIrS60YzlNwb7ljon8uYb5G9zFqIy83L4SEAoqmn\n",
              "wFWuZwa/BZ/bawLHNfs2BeGz8ebVb76UHHcwwJozfKHA9BzknONT3g0q99HzYG5kp+8uDLnz/jG2\n",
              "6W2gA/Kl1n1ysdLbn56UPx3PKKGzlXB4gObtKv+EXa0ECAbGOWPATUe/k14x/ckioiw2vdllp8Pb\n",
              "zRgq9nI2D2muNHl+qkhQRZ9YPm9OLBhKmsj0aBWeFsLjFKMoV4hGmMRkAQisvUKcLWnUFfgB2ApK\n",
              "YpckMp+WPSs8ss3OBpwALywN19K5/dgNOsH1HHwzmsyPtyNd5akd67X5lpUX2GjGdBSGVYEAAACp\n",
              "QZqmSeEPJlMCHf/+qZYAAxUE8U6gB0roBMiGqbVr5/7LnL7Fk4mv9fIfBxHN0oHKhlBTDwJN8a1e\n",
              "sltcXkPV8LG+JHaivSbV+YP+q1da9cvkj0DQZXCidko06ciPg7FARM9aEQ+MOC/d9/tW7r1r+2vJ\n",
              "U+cQ6tivbgmBVUDCxge5X8gOZ76z8Skt8CMoz3rlbhGTvTCRJNBNFLT8dp3TFiaqeWwqj4ZWgQAA\n",
              "ANFBmshJ4Q8mUwURPD///qmWAAMqEbysSXwgDo70JPmK92iGN3nsUP/oPTXNjVK98V8J79V3CqDT\n",
              "92vKm0+9M4wkacElgE9D8QctBSoE7ez14Umq2/Zhu1G/elvNOHAKjqpjiXz2ynM6plmBBTarzc7l\n",
              "V3+fzoaTD3pd7oPemWb3XtbOdjKSCLc1Dvg2WcyDyvqM0p7x8B5F9wnsrOkMSvKGX58Lw4/4+UW+\n",
              "jJPuDgPbJcOPw0BN76qjBbIkDFtQfPMaibbil6sDNP4v3elU1RxewQAAACgBnudqQr8ABR0/1NfC\n",
              "bMpAAnSQL+hutdQl0sxi0rMBQiD/hn/KGmjUAAABB0Ga7EnhDyZTAh///qmWAAM9GXE50AbJp491\n",
              "N/mwpCOSrSbNSZAaaiBbziFPody/QJXlhzo3qRUN+/viTxX94O3KY1tKbqi/K6WJq7OvIF66n/dV\n",
              "E4LN5Ro7X16pFt3FtDhSoALe61d3jsyf4o3f17Vj9nqLVyBvuS3hHsiqg8n4JkeeorD+2QPekfy2\n",
              "DVZrUx7p4JbHvTABiG9B/qguqJ0hVH0qpdf7euRhFEqsplp/yBM4+U5hJ9fnBsRmRZ3akVAMnOEz\n",
              "tc2QzMw8UxbGXs4i3kiw5sQIiLJ8qlKJDAHKchtVr2WKpCbVnpmtR9dKMCoCYxrfY5A4zfh23YyP\n",
              "n8XfvSk62zL4AAAAOkGfCkURPDP/AALWfo30AHz6iY+hd6ethRGWxFxnSHtbHsBdtJbahdTiFgZV\n",
              "kVRS16QkltDKk18MF4EAAAAlAZ8pdEK/AAVDHqUyx9TrSwwiJD1YlG7cJJYg6NmMoH5la9CfcAAA\n",
              "ACUBnytqQr8ABUFLvCE0ACdY+0eNS8EgcPV5sr4oyQwF4w0Bij6AAAAAcUGbMEmoQWiZTAh///6p\n",
              "lgADPg6YDi+GAQez7laHh3PdNYnx2vnbbpbRmyxBEWBwS2wcbI/kE8vp0x69S9Cy+wL5Imwe6XRk\n",
              "tIvqBFS20j2t/h/LiegKlwVR7QZYmzCiemf6iJRs2At5P6w/2/5epExRAAAALUGfTkURLDP/AALW\n",
              "JJDr+IAFvFEEbHPgwU8N69lIa7SeCyD4RZIGKrwOw9oN0QAAABkBn210Qr8ABT/0Z5fFPQZEeFZu\n",
              "puEXZxKpAAAAHgGfb2pCvwACoPMDACHbChhIH9woBipBESF0u8wLcAAAADNBm3RJqEFsmUwIf//+\n",
              "qZYAAz4XcJUAOla5i/cxoNPRfs3Ku9OKlw31Kkm+2uzbTWCQ9nQAAAAYQZ+SRRUsM/8AAAQqIjzW\n",
              "dy2WdT5HLbdhAAAAEgGfsXRCvwAAB8ODUSdW4ZCEQAAAABMBn7NqQr8AAAfFl1UPmFPrPGzQAAAA\n",
              "JUGbuEmoQWyZTAh///6plgADPhw5tAFZh6NaQuetQy4IMHhbTsEAAAAVQZ/WRRUsM/8AAAQ2LnL6\n",
              "0CO4okloAAAAEwGf9XRCvwAAB8ODUSdW4Y5t60EAAAAPAZ/3akK/AAVCv910F/BxAAAAH0Gb/Emo\n",
              "QWyZTAh///6plgADPTjhwA5loq4qVSQPFTAAAAAQQZ4aRRUsM/8AAAMB/GCe5wAAAA4Bnjl0Qr8A\n",
              "AAMDtcCMoAAAAA4BnjtqQr8AAAMDtsqMoQAAABVBmiBJqEFsmUwIf//+qZYAAAMA8IEAAAAQQZ5e\n",
              "RRUsM/8AAAMB/GCe5gAAAA4Bnn10Qr8AAAMDtcCMoAAAAA4Bnn9qQr8AAAMDtsqMoQAAABVBmmRJ\n",
              "qEFsmUwId//+qZYAAAMA8IAAAAAQQZ6CRRUsM/8AAAMB/GCe5wAAAA4BnqF0Qr8AAAMDtcCMoAAA\n",
              "AA4BnqNqQr8AAAMDtsqMoQAAABVBmqhJqEFsmUwId//+qZYAAAMA8IEAAAAQQZ7GRRUsM/8AAAMB\n",
              "/GCe5wAAAA4BnuV0Qr8AAAMDtcCMoQAAAA4BnudqQr8AAAMDtsqMoAAAABVBmuxJqEFsmUwId//+\n",
              "qZYAAAMA8IAAAAAQQZ8KRRUsM/8AAAMB/GCe5wAAAA4Bnyl0Qr8AAAMDtcCMoAAAAA4BnytqQr8A\n",
              "AAMDtsqMoAAAABNBmzBJqEFsmUwIZ//+nhAAAAdNAAAAEEGfTkUVLDP/AAADAfxgnucAAAAOAZ9t\n",
              "dEK/AAADA7XAjKEAAAAOAZ9vakK/AAADA7bKjKAAAAATQZtxSahBbJlMCFf//jhAAAAccAAABXJt\n",
              "b292AAAAbG12aGQAAAAAAAAAAAAAAAAAAAPoAAAJxAABAAABAAAAAAAAAAAAAAAAAQAAAAAAAAAA\n",
              "AAAAAAAAAAEAAAAAAAAAAAAAAAAAAEAAAAAAAAAAAAAAAAAAAAAAAAAAAAAAAAAAAAAAAAACAAAE\n",
              "nHRyYWsAAABcdGtoZAAAAAMAAAAAAAAAAAAAAAEAAAAAAAAJxAAAAAAAAAAAAAAAAAAAAAAAAQAA\n",
              "AAAAAAAAAAAAAAAAAAEAAAAAAAAAAAAAAAAAAEAAAAABsAAAASAAAAAAACRlZHRzAAAAHGVsc3QA\n",
              "AAAAAAAAAQAACcQAAAQAAAEAAAAABBRtZGlhAAAAIG1kaGQAAAAAAAAAAAAAAAAAACgAAABkAFXE\n",
              "AAAAAAAtaGRscgAAAAAAAAAAdmlkZQAAAAAAAAAAAAAAAFZpZGVvSGFuZGxlcgAAAAO/bWluZgAA\n",
              "ABR2bWhkAAAAAQAAAAAAAAAAAAAAJGRpbmYAAAAcZHJlZgAAAAAAAAABAAAADHVybCAAAAABAAAD\n",
              "f3N0YmwAAAC3c3RzZAAAAAAAAAABAAAAp2F2YzEAAAAAAAAAAQAAAAAAAAAAAAAAAAAAAAABsAEg\n",
              "AEgAAABIAAAAAAAAAAEAAAAAAAAAAAAAAAAAAAAAAAAAAAAAAAAAAAAAAAAAAAAY//8AAAA1YXZj\n",
              "QwFkABX/4QAYZ2QAFazZQbCWhAAAAwAEAAADAKA8WLZYAQAGaOvjyyLA/fj4AAAAABx1dWlka2hA\n",
              "8l8kT8W6OaUbzwMj8wAAAAAAAAAYc3R0cwAAAAAAAAABAAAAMgAAAgAAAAAUc3RzcwAAAAAAAAAB\n",
              "AAAAAQAAAYhjdHRzAAAAAAAAAC8AAAADAAAEAAAAAAEAAAYAAAAAAQAAAgAAAAACAAAEAAAAAAEA\n",
              "AAYAAAAAAQAAAgAAAAABAAAKAAAAAAEAAAQAAAAAAQAAAAAAAAABAAACAAAAAAEAAAoAAAAAAQAA\n",
              "BAAAAAABAAAAAAAAAAEAAAIAAAAAAQAACgAAAAABAAAEAAAAAAEAAAAAAAAAAQAAAgAAAAABAAAK\n",
              "AAAAAAEAAAQAAAAAAQAAAAAAAAABAAACAAAAAAEAAAoAAAAAAQAABAAAAAABAAAAAAAAAAEAAAIA\n",
              "AAAAAQAACgAAAAABAAAEAAAAAAEAAAAAAAAAAQAAAgAAAAABAAAKAAAAAAEAAAQAAAAAAQAAAAAA\n",
              "AAABAAACAAAAAAEAAAoAAAAAAQAABAAAAAABAAAAAAAAAAEAAAIAAAAAAQAACgAAAAABAAAEAAAA\n",
              "AAEAAAAAAAAAAQAAAgAAAAABAAAKAAAAAAEAAAQAAAAAAQAAAAAAAAABAAACAAAAAAEAAAQAAAAA\n",
              "HHN0c2MAAAAAAAAAAQAAAAEAAAAyAAAAAQAAANxzdHN6AAAAAAAAAAAAAAAyAAAWpAAABpMAAAMc\n",
              "AAACcgAAAHgAAAFMAAAArQAAANUAAAAsAAABCwAAAD4AAAApAAAAKQAAAHUAAAAxAAAAHQAAACIA\n",
              "AAA3AAAAHAAAABYAAAAXAAAAKQAAABkAAAAXAAAAEwAAACMAAAAUAAAAEgAAABIAAAAZAAAAFAAA\n",
              "ABIAAAASAAAAGQAAABQAAAASAAAAEgAAABkAAAAUAAAAEgAAABIAAAAZAAAAFAAAABIAAAASAAAA\n",
              "FwAAABQAAAASAAAAEgAAABcAAAAUc3RjbwAAAAAAAAABAAAAMAAAAGJ1ZHRhAAAAWm1ldGEAAAAA\n",
              "AAAAIWhkbHIAAAAAAAAAAG1kaXJhcHBsAAAAAAAAAAAAAAAALWlsc3QAAAAlqXRvbwAAAB1kYXRh\n",
              "AAAAAQAAAABMYXZmNTguNzYuMTAw\n",
              "\">\n",
              "  Your browser does not support the video tag.\n",
              "</video>"
            ],
            "text/plain": [
              "<IPython.core.display.HTML object>"
            ]
          },
          "execution_count": 153,
          "metadata": {},
          "output_type": "execute_result"
        },
        {
          "data": {
            "image/png": "[encoded data removed]",
            "text/plain": [
              "<Figure size 432x288 with 1 Axes>"
            ]
          },
          "metadata": {
            "needs_background": "light"
          },
          "output_type": "display_data"
        }
      ],
      "source": [
        "# Simulation parameters\n",
        "h = 1. / 4.\n",
        "numTimeSteps = 50\n",
        "initial_state, kx, ky = (1.0, 1.0), 1.0, 5.0\n",
        "\n",
        "# Systems & solvers\n",
        "systems = [BeadOnWire(initial_state, kx, ky) for _ in range(4)]\n",
        "solvers = [None, ExplicitEulerSolver(), MidpointSolver(), RK4Solver()]\n",
        "\n",
        "method_data = {\n",
        "  0: ('red', 'Analytical'),\n",
        "  1: ('green', 'Explicit Euler'),\n",
        "  2: ('blue', 'Midpoint'),\n",
        "  3: ('purple', 'RK4'),\n",
        "}\n",
        "\n",
        "# Figure setup\n",
        "from matplotlib import animation, rc\n",
        "\n",
        "fig, ax = plt.subplots()\n",
        "ax.set_xlim((-0.2, 1.2))\n",
        "ax.set_ylim((-1.2, 1.2))\n",
        "\n",
        "lines = [None] * len(systems)\n",
        "lines_non_null = []\n",
        "for idx, (color, label) in method_data.items():\n",
        "  kwargs = {'ls': ':', 'lw': 4} if idx == 0 else {'lw': 1}\n",
        "  line = ax.plot([], [], color=color, label=label, **kwargs)[0]\n",
        "  lines[idx] = line\n",
        "  lines_non_null.append(line)\n",
        "\n",
        "# Initialization function: plot the background of each frame\n",
        "def init():\n",
        "  for idx in method_data:\n",
        "    systems[idx].on_start_simulation(lines[idx])\n",
        "  return lines_non_null\n",
        "\n",
        "# Animation function. This is called sequentially\n",
        "def animate(i):\n",
        "  for idx in method_data:\n",
        "    system, solver = systems[idx], solvers[idx]\n",
        "    if solver is None:\n",
        "      system.analytical_state_update(i*h)\n",
        "    else:\n",
        "      solver.step(h,system)\n",
        "    system.on_step_simulation()\n",
        "\n",
        "  ax.legend()\n",
        "  return lines_non_null\n",
        "\n",
        "# Call the animator. blit=True means only re-draw the parts that have changed.\n",
        "anim = animation.FuncAnimation(fig, animate, init_func=init,\n",
        "                               frames=numTimeSteps, interval=50, blit=True)\n",
        "HTML(anim.to_html5_video())"
      ]
    },
    {
      "cell_type": "markdown",
      "metadata": {
        "id": "FgoZlXFbe1Lw"
      },
      "source": [
        "In the cell above, observe the output under 2 scenarios:\n",
        "1.   The original settings (i.e. run the cell as-is)\n",
        "2.   With a larger time step, `h = 1. / 2.`.\n",
        "\n",
        "Describe the behavior that each integrator exhibits in each case, specifically with regard to:\n",
        "1. simulation accuracy (how closely does the solver match the analytical solution, in comparison to the other integrators?)\n",
        "1. stability (can you observe any fluctuations of state, and is the trajectory converging or exploding?)\n",
        "\n",
        "**<font color='orange'> \\*\\*Write your code below (20 pts)\\*\\* </font>**"
      ]
    },
    {
      "cell_type": "markdown",
      "metadata": {
        "id": "OxOA_BOMg1W5"
      },
      "source": [
        "For the original case, with the smaller timestep of $h = 1 / 4$:\n",
        "1. Simulation accuracy:\n",
        "    - Explicit Euler: During the firt timestamp, it takes a step far off in the wrong direction. Then, it corrects itself, quickly landing back in roughly the same location as the analytical solution at the end of the third step.\n",
        "    It is worse than both other solvers at first, and then continues on with better accuracy than Midpoint, and slightly worse than RK4.\n",
        "    - Midpoint: This method consistently deviates from the analytical solution until the last step. It underestimates the magnitude of the slope at the start (vs the _overestimation_ of Explicit Euler), and doesn't course-correct fast enough to \"catch up\", like Explicit Euler does.\n",
        "    - RK4: This method aligns exactly with the analytical solution!\n",
        "2. Stability: Only the Explicit Euler changes the sign of its direction, starting by steping down too far, and then \"course correcting\" back up. The other two methods both consistently move in a consistent direction, just with varying magnitude.\n",
        "\n",
        "For the larger time step case, $h = 1 / 2$:\n",
        "1. Simulation accuracy:\n",
        "    - Explicit Euler: Even after the first timestep, the estimate position is slightly off of the chart, below the minimum displayed $y$ value. It then dramatically over-corrects, jumping back up above the chart's max $y$. It continues to exhibit this explosive jumping up and down outside of the chart's limits in the $y$-direction, with smaller and smaller steps in the $x$-direction.\n",
        "    - Midpoint: Goes in the wrong $y$-direction during the first timestep, jumping above the displayed area, and never returns back to the chart's area.\n",
        "    - RK4: This method consistently steps in the same direction for each timestep, ending up seemingly _exactly_ at the analytical value for the final timestamp, but deviating above the analytical solution during intermediate steps.\n",
        "2. Stability: Only RK4 is stable, as we found in class. The trajectories of the other solvers oscillate and explode."
      ]
    },
    {
      "cell_type": "markdown",
      "metadata": {
        "id": "sdcwtji7h-kU"
      },
      "source": [
        "# 4. Extra Questions"
      ]
    },
    {
      "cell_type": "markdown",
      "metadata": {
        "id": "XpJxjaMdqiGE"
      },
      "source": [
        "## 4.1 Implicit Euler (first order) method\n",
        "\n",
        "Please implement the implicit Eulier method. You may directly modify the above sections to implement the implicit Euler solver and visualize a new trajectory (with five balls).\n",
        "\n",
        "*Hint:* follow the implicit Euler equations and make use of `get_gradient_of_system_derivative()`.\n",
        "\n",
        "Useful Numpy functions: `np.eye()`, `np.linalg.inv()`\n",
        "\n",
        "**<font color='orange'> \\*\\*Write your code below (4 pts)\\*\\* </font>**"
      ]
    },
    {
      "cell_type": "code",
      "execution_count": 160,
      "metadata": {},
      "outputs": [],
      "source": [
        "class ImplicitEulerSolver(Solver):\n",
        "  \"\"\"A general Implicit Euler based solver.\"\"\"\n",
        "  def step(self, h: float, system: DynamicSystem):\n",
        "    \"\"\" Read the current system state, calculate the state after advancement by `h`, and use `set_state()` to update the system. Do not return anything.\n",
        "\n",
        "    Args:\n",
        "      system: the instance of the given dynamic system\n",
        "      h: an amount of the time step we want to integrate\n",
        "    \"\"\"\n",
        "    # Student answer begins\n",
        "    x = system.get_system_state()\n",
        "    f = system.get_system_derivative()\n",
        "    jacobian = system.get_gradient_of_system_derivative()\n",
        "    system.set_state(x + np.linalg.inv(np.eye(len(x)) / h - jacobian) @ f)\n",
        "    # Student answer ends"
      ]
    },
    {
      "cell_type": "markdown",
      "metadata": {
        "id": "McbkmnN3k8CW"
      },
      "source": [
        "## 4.2. Trapezoidal rule integrator: bead-on-wire"
      ]
    },
    {
      "cell_type": "markdown",
      "metadata": {
        "id": "HMmtthgQoAS5"
      },
      "source": [
        "You know the drill by now. Implement another solver, one which uses the trapezoidal rule.\n",
        "\n",
        "This time, refer to the trapezoidal rule equation from class and derive the final state update equation before coding it up in this cell. It will be visualized using the bead-on-wire system.\n",
        "\n",
        "*Hint:* you must implement the implicit Euler solver before this question.\n",
        "\n",
        "\n",
        "**<font color='orange'> \\*\\*Write your code below (3 pts)\\*\\* </font>**"
      ]
    },
    {
      "cell_type": "code",
      "execution_count": 161,
      "metadata": {
        "id": "CpSTFwDHnwXn"
      },
      "outputs": [],
      "source": [
        "class TrapezoidalSolver(Solver):\n",
        "  \"\"\"A general Trapezoidal Rule based solver.\"\"\"\n",
        "  def step(self, h: float, system: DynamicSystem):\n",
        "    \"\"\" Read the current system state, calculate the state after advancement by `h`, and use `set_state()` to update the system. Do not return anything.\n",
        "\n",
        "    Args:\n",
        "      system: the instance of the given dynamic system\n",
        "      h: an amount of the time step we want to integrate\n",
        "    \"\"\"\n",
        "    # Student answer begins\n",
        "    # Take a half step of explicit Euler and a half step of implicit Euler.\n",
        "    x = system.get_system_state()\n",
        "    f = system.get_system_derivative()\n",
        "    jacobian = system.get_gradient_of_system_derivative()\n",
        "    x_next = np.linalg.solve(np.eye(len(x)) - 0.5 * h * jacobian, x + 0.5 * h * f)\n",
        "    system.set_state(x_next)\n",
        "    # Student answer ends"
      ]
    },
    {
      "cell_type": "markdown",
      "metadata": {
        "id": "BfbsmtgxvxKv"
      },
      "source": [
        "### Simulation & visualization with matplotlib (do not edit)\n",
        "\n",
        "We now compare the trapezoidal solver with the analytical solution as well as the explicit and implicit Euler methods.\n",
        "\n",
        "Ensure that you get a curve in between those of the explicit and implicit Euler methods, which is also the closest of the three to the analytical solution."
      ]
    },
    {
      "cell_type": "code",
      "execution_count": 166,
      "metadata": {
        "id": "bmob7OsZvxKx"
      },
      "outputs": [
        {
          "data": {
            "text/html": [
              "<video width=\"432\" height=\"288\" controls autoplay loop>\n",
              "  <source type=\"video/mp4\" src=\"data:video/mp4;base64,AAAAIGZ0eXBNNFYgAAACAE00ViBpc29taXNvMmF2YzEAAAAIZnJlZQAAKf5tZGF0AAACrgYF//+q\n",
              "3EXpvebZSLeWLNgg2SPu73gyNjQgLSBjb3JlIDE2NCByMzA5NSBiYWVlNDAwIC0gSC4yNjQvTVBF\n",
              "Ry00IEFWQyBjb2RlYyAtIENvcHlsZWZ0IDIwMDMtMjAyMiAtIGh0dHA6Ly93d3cudmlkZW9sYW4u\n",
              "b3JnL3gyNjQuaHRtbCAtIG9wdGlvbnM6IGNhYmFjPTEgcmVmPTMgZGVibG9jaz0xOjA6MCBhbmFs\n",
              "eXNlPTB4MzoweDExMyBtZT1oZXggc3VibWU9NyBwc3k9MSBwc3lfcmQ9MS4wMDowLjAwIG1peGVk\n",
              "X3JlZj0xIG1lX3JhbmdlPTE2IGNocm9tYV9tZT0xIHRyZWxsaXM9MSA4eDhkY3Q9MSBjcW09MCBk\n",
              "ZWFkem9uZT0yMSwxMSBmYXN0X3Bza2lwPTEgY2hyb21hX3FwX29mZnNldD0tMiB0aHJlYWRzPTkg\n",
              "bG9va2FoZWFkX3RocmVhZHM9MSBzbGljZWRfdGhyZWFkcz0wIG5yPTAgZGVjaW1hdGU9MSBpbnRl\n",
              "cmxhY2VkPTAgYmx1cmF5X2NvbXBhdD0wIGNvbnN0cmFpbmVkX2ludHJhPTAgYmZyYW1lcz0zIGJf\n",
              "cHlyYW1pZD0yIGJfYWRhcHQ9MSBiX2JpYXM9MCBkaXJlY3Q9MSB3ZWlnaHRiPTEgb3Blbl9nb3A9\n",
              "MCB3ZWlnaHRwPTIga2V5aW50PTI1MCBrZXlpbnRfbWluPTIwIHNjZW5lY3V0PTQwIGludHJhX3Jl\n",
              "ZnJlc2g9MCByY19sb29rYWhlYWQ9NDAgcmM9Y3JmIG1idHJlZT0xIGNyZj0yMy4wIHFjb21wPTAu\n",
              "NjAgcXBtaW49MCBxcG1heD02OSBxcHN0ZXA9NCBpcF9yYXRpbz0xLjQwIGFxPTE6MS4wMACAAAAV\n",
              "aWWIhAA7//73Tr8Cm0WXagOSVwr2yqQmWblSawHypgAAAwAAEbBufJcNeavSJAAAr1vfSSubM9gG\n",
              "dUKgyXO3E5RXXzqYJrDREflMa8Tva1S3qZf1yPGShbei2N0/g9ItPJODVhoYAXiXlhJ661IMyG17\n",
              "/ghE/2IP43mZLfffyQA3y5etf4+6Ro3EQi9v1imRHZlCAVu6a3Izr0gA2p7+vk5jjw9d5rC5bdz6\n",
              "Yz6DYNYFhWWCR5ObKTjIiY0zfXHAqmfgqFabVCBu2KImLXLBBaT06AU5x2Wd2jHNMRtYjZtAmBmI\n",
              "eANsakVe4q8lOnUtHS5yIsf0+jRfnY6Do4EuGSJzDY16cxqvRcr2lygmim14POQ+l1eugCTTJobk\n",
              "W4CJiymKXyiUFUS4uOOnmyLmp65c1ZMfXCIQodz/uFcGqcuLIw/S3gbDmBRBRCaHrrAWooIhLGz5\n",
              "inmyZ3/9H4OYNd5oJ8e55LMEqH76gp+LvvyJgpWJQkokVpWoQ883nYLK5UNnvN7ZezWWJ4RwFn2Y\n",
              "XczEsCusCQ598BZS9NVCXUiCzkgHd+XkDFufjQmSsi057Kt7MwVCfb/7ZG87LHzWSFCC5vz1S+dL\n",
              "T7c/f6rDPuFmVEKD/GdX29+n2fFk8ZkgUyLL9MOKjAzNL5tKk/mLvnCaSPoGqbg5T4E4tnbCOmYb\n",
              "KG47fQTn1E2x2BffMku+USJosTcOB/eqVyP7T1GhaAIxSdGDSlNhLAN6kuk4mh8xki+s5M2EWQis\n",
              "Nf+Nju6VyF+ZBrjAUeviM8NyzgA7EjaCV7CPEohaqPZMTz9kEwD3HVj71kYez6NWQSDK/L065oeK\n",
              "2A8dAF+VzZsF2lPw37N+OzwdUH1gD+gQ2UpmxFmSgAx9H0IucxWXkIqH9BJQun6DqIfMxlH5KHNY\n",
              "ZWGOWzStvGCFJdvCMTxWaEdAh3U5K6uTDLKPJpL5qNwao85cISsWuSws0md01RZwNtZ2ORbrOfxl\n",
              "tO5G08iJlH/AluwfMM7+ci6C19/BJI0h5vMnsDpfQEfSCTm5mJCuSMYF//edqcQJh5q7Y/VJgp6T\n",
              "6ggHfaCZP10JU6AzlLonA8qF+LAcKAd9HONmp3RTyP/Jz8K0c2htc+MYDTR44d/CqNezb22UUZTb\n",
              "6Jz5Xa+XDnjRhJ+AMMFIqkfhM1/N3WCvb1p57ytLO6Pwrgctcy0pIs0nXrqJWVEaU+2GDxcN5bNW\n",
              "7IzY65UVbpI02sqnOoZtKcZdv566aaXQABgeCjTyu8UsyLgEcOrT1DU8VrV5vwm0g/o+7MBz6LzX\n",
              "lbH9KPyAyj2wUn8WDz9cAfXmkgjIoIERF7REgCGvqdqfb3INUT1ZBSiQvIWeeXwTX4A/3qAB1605\n",
              "2PPzTYe4i7Q8U5Xt85D6/6KaGmw0n9g31WV+DIPM/0P43CVIY4FAlNh0W9p66fxy7BxR8wJjtF4L\n",
              "cu/7P1yhg8McPs1yrieO3HDI9rpyLYxFUER8Kh44rYzRt/W7nlNqBEi02lXmTo2RiH7gWPG1arub\n",
              "HEAzgcONRGDAe67JrDLuAJR4l3VUqFTxP3wQzl0DEMKwFUHq8XCPGAJqOXwFbuV92SA16nLHaIcO\n",
              "clFZn6o3V2Em0j4pRYNaKgYLUp4fl91as+iz+iT5NdQTmNAfQFAoQimbv3xgdFUHqFvB9ltDO9Dg\n",
              "TozQxvbX4fqoU3JJ62pllCZOeVuWEH9zrDi36l1HNpFH1ltloSOP0MOPveJp95z0mgj2cmkJuXRY\n",
              "vBaLyfmBvonWznqzPG/97J2pGwtDjgXmQTtgq8Now/o74bc7ENGOKRwazxHTCxl7yvlwcstVVVl6\n",
              "8XWwMfW1mg3Dka3Nk5sgOixS3jvlDBEMzSfb4fsbGD5/obvSz4fBaOd/POn+gxdWwOE8kdVWH20/\n",
              "l6DHsEqBXe2uu3KQjnw3e9BttG0jPp13iaYl50VJXKHlRQMEXaKGeP6hgdN5NDfyPRBVvRFz5RUG\n",
              "t31l2JrnRwAR+iMlQ7l+Ov0M0dVpKjzG/9BAoUCjZUdr4X0C/sFeOebyOay5/uQBxMuE/61f+fUl\n",
              "uTx9kBH9UvUBvTlfPXgRQ2W1wT9sdV/RHrFeSiyQqjfsnKYINFATcPiSZAErCuALHqg0GlbYUf/c\n",
              "DYjwe07HjN18bMT3ejM0kJEX4fC2B32459y6EFzuM77DuTtXzNnJ0COoBD6Cg1CEp9Lqn7d30Vdm\n",
              "//gcfPXf0565cIc9Xl65jRD1q3Xwn/xP6+CtEsWsfgRf00a65fBUQ9kbCyKoP/znr0Hj0kjHR7Ha\n",
              "x8lMJImd0ZH81mKyerhJNqU0X1C45eyL1MIhqS5ZjjNMWQl58fQQkzTndMN5Cl9V86ztDuUMv9aa\n",
              "9im9qp3KG9ZFuHgCbOu0xVRLjjMqYuOGvtXwyeW4y4Q4MvyuXG+mm9lsUuUSI2Sp/mHEWqNGoV8w\n",
              "Mx4Sv+tJTaskz1An6rAHAPBqWR4i8eNEzz8aBx7uqYd22zAMhnBmzIn7mGcJv2tkUU9ZkEBtr3+o\n",
              "qtm3+7QAvKUjV5F1beAdJqB77Vu5G0ne/7S7E8trsM0YvIE0DYu9zVi5WCyxnzFP+YOqBCbwV1FZ\n",
              "nygG+ePG2ktsC5evHHtwq/4kJbjNq8zERAEcawEMFFIqKPj4+AOhPQGnGqtu5YK5uhcV70MyfwcK\n",
              "m7MyRwt6dLowvzxaed2KITBp12/6h8fPBo85lKTdPrjlz1FUfZTL+UU92gZqsq8/n/2azbXSO3rK\n",
              "HB3wjue0YW9iMnegSeBwJ/hw/DpjHbKOT4OHirKWn3dB0enS1l6R4Oxe0ZPPN99+2ldPQ8sVxJuO\n",
              "5op3U2xrzCV9EFwlD0qnEmVUd7asAhn5XFmNIyym2arxVpwJCgkNUxueyYIZsXOwTWRyeAoKuMBW\n",
              "P27bUj4OCqSFSpH7qQsDLAAUWPqEJuqodxBdnpQWgk9wwF/tReXnVuT+NMiUhVB81hQBtpFzWs70\n",
              "RpMXu32FfLFp4X3O15XrH6FxK/Z/oqSIfu64s0MO9Qzl5V7G+duIL/pya+V4ypPE091+g2CwNwfn\n",
              "+80s4vB0+Z8+9hIsyqr3TvpaqVoIb7mqbaRbgg5Fn66ieuDnzjPYfHEJKd3T+/p7mlyYWY0GMbj5\n",
              "7gQy1eiH9Ye5kAzPYfi9XU1ryDZZRCHyTGyILd9VH8ccAifwQR2DRYNZMKq8mziNjg+RlvMjV3LZ\n",
              "45YEis8AWHgBB5qEN5D5ZhxxeAXvBLgI9qSk+TBCKX1Yqr2i4Ao+QlXAVatEQeNkd9hecnhd+rF1\n",
              "drGrGyLF190CYTVq2Nf6/jiRcOhA1y7Ivkwwu9Du4jGf2KOcdDhB9/EzI5xF2AFr0G2/Jy0+zZkA\n",
              "Hlgx+r6GgIIiW8MX2coRXGbCr1t7PonieyOk6sdueZQv+j1geTsg0SZgCMMPWU6E5VlaiVH0USMv\n",
              "i4Dt/YdHMJriy5k52QCfiIhsOrqXINg/FS7XaHav7bA/1aAkd9mN5YgV6aJaq4vNL6sXexj3xaQA\n",
              "RMFzeyj4mZ9Tg9ixpxOMlA14eTHk17EXvA/ruztBRck/m68BSA/so+dEnuXLj65w/2AxhQ+VF8sT\n",
              "1YYtq1hI+M+4skpYtUswl9JsEfuR3EwOgWEHWRzWYvEvgtes5kwVhR9qiPjaNaWOBI/vAcf0/o9w\n",
              "t/nMSd53HSvdv5NM7tHtYP0w943vPAirwUtJTewrRKLjQAc4UF74qlfcZ/ehwQnSjnOn+WYlhUG3\n",
              "ynAeErT1tQwuNEpfhXIUih2ARxAth+3Vj50njvvXnP5AaOZh5oMIKWOfh/gClrTIIW8H/CbKK4gw\n",
              "pNc7/mzL9KWHWwE+QeiBRsv2WQrg8vgBu+o7kM3QD05+5eYFs/nSUU1YapnEoWjJZ3IcjS7gybEv\n",
              "hgVN4/OehcXvkElhoVmnKHdKKhcnH6qAkbJ4KBN46O7K6SH8SsbVwqcHHOJyCByVw49oU3dN1wMC\n",
              "NbshnBeImMMOjtofK5lsmM5rzU6RnNvNfxogQ51wQVZspr3HE/kqq7rhJ35iaWcpQRX7mV8gtWGD\n",
              "HfBVSFdbnXSmljJJgsldpJcvq28vE7BHfOly+nt65eut24g2kKA8uhLL/5P4zITU4+HtT++cBqO5\n",
              "2zIHEkTFFumxreGBOwvoa5LpAF1yD3/+q8uQ2AFtyTiIsX9XXdsaHBJ58DmnaV2CFV3WI3rHcgSJ\n",
              "+SemKdbuCJBIxd9D6PT8aFsL1Fa+mU4bxwJ5NbrTy+ahdxrJbJ0CORXIHdeOz6GXEuk8jLULFPtQ\n",
              "z9Hd1uhdgn4nmsw8FD5Xt6HVtjCUyG9La82p8CbtzJni21zTHEEjLi+f8mrW8nix2TNlaIyD/5rD\n",
              "6ClhfCCW4JfGov+1x19CHSq5LHTGHx+OJ9Gr4UFW4EPjAZKgRTI7mNKsj5pdtkb+Bz2B0LcqmMZ3\n",
              "l0CrIb1iT4PaE53TachH810I8uzZRWsjdE8mXzR1+IjI/bieyvp7jJ8/lVPJjldWQmiFvAMC07NL\n",
              "szQkMhbnXSdomN1SEFhZgntT4gesx+GWA5aym+JWWjsTYHbHC1qsyhWGmGiPmcZuim8wKjShdoQ8\n",
              "C4+WJBL8iZ46ynZqtZ1/tn67J++V0p8tvaXGpZwbvoQSqKvHtGBeAbqCGo62aCKI542pkv191/hg\n",
              "y7aBVISIa3ibICXlz55CAbywSQSjkMiQtKp/XFBVXIZ7s0//a8f+XXURD6io7kM+SvOk0ZAY1p5P\n",
              "JETja8hHn/cb4i+I0zvoYkohVoPFDcoWtVPc8+vin87pycuBLUsFsYoo05wgBwjQxFVnAnjhh47X\n",
              "TGvUvO3uYxEkLtOG0AILNsiLxLD/rIp7rrdPjbITua00eaeLDe64A4E5GPW4lMRAxXj2hMwJtGaT\n",
              "uFaoX6R9G/5q+2dUr+DzWGQIqqzJ+wSghGOZ1PCVQrJ+BwMFf1ucTg2TfSD7jqV9PpRWu5VqD+gt\n",
              "OkBhJbiQr4IOkzHgKarIsbDV2JXs4VDc2pyRuSR/E5ndJBckp5zrbzyCjouiE71DYwk6xkLFGdjo\n",
              "qjYSLlXBmbBLjLyyQpS9yMTpe2An8X6/P9l5eHS/QYjcig7zKs+6q97wIONc8A2VnzqO0kUPEIAC\n",
              "o68tvmz3FynX2x4Vj0bCsKG1tQsbe6pQMF03QNIF6CJiPRjQ2nfxAMe9WUrn9CnIX0cIfBV/9mEA\n",
              "t8rsDpkZU1QlMzfStnCiV2OY2/j9A/2F2clrMnLgzA11te6XB+92xY/K86oPyGdvyjwBBLEdmS31\n",
              "xLno2pCRC2MB9anZn8eVQTebrYxsi3OPcSFE8sJKzNv4kJsonSPsiw9ebrHmXRHc/yFLB6eWwkod\n",
              "CvYfEA6DDvzM/H8rqHT5OPjZG2GVFWf5LZ2eguil9k7QyTf+DHwYD7hygp/EshlAI0VqsECGOeN2\n",
              "v4j6V+hQVQR8SBQXknK+flkouWkq++XZLrfnsycpGKNfYpj4f/2b8JjRgd+Ih8gddX/7KqoAS9ed\n",
              "u9GAbN9lGMag0swaTGJjvdLfkY178Wb2yxwfpbwY3d+o1gSDGE6/oNuRkx76krIF6xdXXmpi2UnH\n",
              "y35Un9A4SPvifkjk6KLIMJBNt6DYsNuvYmKNUvWstfI9pSwAICSD50UfRQxAZ0AYfJsWOfzQQy6q\n",
              "yaRzzIyUsPEOtHw8KUZzfCx3LWOTBtVCUb5+nahm1d932jjWWJiqwZVKO9OoxAbQ4COtm63nr/0o\n",
              "/ETxA+d4/TsrMHsoabwRYLPUneoIxf6JOw09RzTfscYsFnqTuaKDclYySUXiF2L+89f+lH6cmFBd\n",
              "4qbvf90vWZrJFTk91q5GvSnuXBfJ0AOTEG7cC8Ae6oRF3mGDD7QausqO5ssIncD2GvH0QZrE6Qox\n",
              "qbxkzC00AY7RV4oVk6ywmMvkAs/Ls8pG5kZyF0ZCp/sXzjgiBdsUSD+7zGsx/LcQptZ1B4SMdZwh\n",
              "n6mQ9crAB4+ARMXcnwXmEvH13TJH9owM63CtGGg5JkFB2swr68JplQoF5SjTYvmdL1xeFzU8bsXC\n",
              "reExgdYo1xlQdeIS1YFdvlSdGdkD7lIuASq92+zWE/qE8E4ut4kgziqqkYef/rZjFgFLUybPWSkq\n",
              "9utjlRJEh4qMhC6dUG2uYjhjN16IZpF/0LMSKMb3JU3Q4PdeYaeNb0ulL7J/FWUvvAcg70dkYK1+\n",
              "kj597w51BBSXsUFzIM7G8x8inA0j2IkggK8lcrdQhQI5IFXi70xMIx/jFbnj6tDQjPbg5jSh84I6\n",
              "3bxjyTjv+H5u7xwq6yVXbo4ViQypi34bnGkBwP5q733XfdejCgliWVi9eOi6kzyfU50IZmy9G4cq\n",
              "ROuWpWiNA9bqoPr7T3qgksXeO3UOaxiBtLX2YP+ajdv3y26F0e+FxjT4IPDl6dbQ5u4vIR+iVJ4a\n",
              "YVidc0Fw7PU6zXir4mRbMaohIn45MKO44GMK/SFzUFMqnFpHbqlW9jGvf4KqSEzI5Ds2RTHnxwth\n",
              "2Hzp1fGSbGi1IvjZtBmZFNefQ0cMhRT7Z9Zw7GR/soGqRp7DU8qcu7QFWlH3/8mOFzB6uoFED2ol\n",
              "Z2n1gfrOfGlsH5PsSt2LVnmRy94Qq+bmwF3TlDzTIVTo+M0ZKTJaTU/uQXygCj69wDwwBONvk07m\n",
              "nj0Ti0jzHgVnBfOhWOkAnaIofZsimPPjo4lVKFgi1CtDQFqPvNm0GZkVFryUroctAIb//76hmSjD\n",
              "fAddMZNdWbmEtvAxho2FZBxLRMzTKWJllqrny7BCMwrYeQ8VnQKghNM5sytmO4r/lXYWxi/4B2C3\n",
              "jXAlE6RpmncWcXCLQCdtv6rT+jukZHWI2nNoMbNhErTvpUM9MwhMm6on2SixSJnR6Ox3aLhdWTBQ\n",
              "neS6+4RhMMNFqmrPXkXQVZR/CokvLvkjAbcv31lpeOSxp+i3QSx1mlNZS22x9LT6Hrs1ycSntN+A\n",
              "WjMW/19F9OGY7Emrd54zmANwm7DUCCf2Q/LTa6OOtQ7UWREN2UzqR4Hwbt4j1BfgzGUGXlePlBTP\n",
              "1EsQ0V4bI1VBerT9Xf5iyUQI3Hj39k4MP8KJ4B1CXfEyhnjp055ONRDASg8M47Avf/QSypow+HRs\n",
              "lR9+8N2FADduFT8YwD6aRbJwsAx3WoIZ8/u8JoV7nFPr6JkQEP0phDDgKu6Ec8OOoWoNl1iC9m7+\n",
              "qr5VC07bCN3hewa0cQ0ZTZcJjJfKV40CfkZpwmIeB8FWsw1/oKjKYhkCgz/YnCbF2QK+A+9YQrcy\n",
              "zHScw6BGyP/5EAhy1hCLBfHcC1D+qqyvVtkVxCmn9ObhlcrLUoYZxA26Pby8MGJ+fz84tNJoG/6A\n",
              "JOrvU251ExOYoQAAB8hBmiJsQ7/+qZYAgDWBUAVhNKghZjR1hrG/8EP9VobU1VJeWd1+H292tVJ0\n",
              "6hPetHzMLd+3d1HGiEfajpYT0BiVukjDaGIhINI+gn9s7DGeSvuOX13K0PsutPvrnt6Yv7G/UE+E\n",
              "zymWesC5JSF5ioiMOHj0hcKaxcjl+WEZlkqZ5W2plV5NDd05NBZOTJjS/7PWw3PtFnpcd7yzzuU8\n",
              "c4kv2jjL1GGekzAwH/9rwlkw5fhrfquIbSGz6j6UGtWhawcdZx2ucvMwGquAcFxXJPfA2QvXIsNJ\n",
              "OF9l7mlRNT0hDuVh4KPZU1O9C/2rnslnbJXvMyau4b/lbjP+Bib37DVhUKklgW7YSYAHgCX22uiI\n",
              "crwDk5SbPkC6NzyOX7zxjlcIz6ieFXmIcNP4fZtktAfxxJzcr1CT2vzAHSxOj0Ie0sipJd67V9E1\n",
              "ovKWntf6KJbWKItDkJJFdbGslmBLscX/xxu00QeTcUJpSHwsd1uyZNu3Vz7bJq21LsDROIT2eTPF\n",
              "jav3WfrA8qIQYwfhnGTBxeFXcUFIBDSbf0AdvkQLVfp9QXJPDCNwjlM8n29n9qiRoeyUuZ0QY0g8\n",
              "FmqfLrju5MtT3zh4kb1wCqNwT3BQCmrtzgEqT+CXk8XXD8uE3+3oyIdDZWiC4kzt8FHWbJwfZyvq\n",
              "84xDQPNn+QZk2BBhnJVYq3lMG+yiFBJ+nRPxfIz6yUK08c4qoof0MvftSOt3wEmFmC/vKGGrq8wX\n",
              "oSuejQAyw6O5tzdP5oiZGSRyaHONDqdSOh80jHGuVJPnT/3QUJ8rF7i7bK0gbHKz0wouklwPQhAs\n",
              "ET194KEbiuHug+jkqTPr1pcu2/qIIIgy6d0qzypdwJLLmI7Yz28zrDaV3gHqcnZs2clQGVO2I6KC\n",
              "Ib5yp/SpLZKCeP3TJRYm6irDkCIKLVMRU5d8KkCT9w/3PIOY4P9IFligWh04MJVttGVdg1HofWqS\n",
              "nd45wkcYFd4WrXXq2G/CjB5aCpO0TYl+z6L4WbnubDQtixQ+kC1qtMSVFyLfMH3j3ifiXftNAOAC\n",
              "y5uXmCtGt3nQDl8VsMcnEedBqNfQyD/JRN+itwNENxO8aBFLY9rSHoQiAu4zQ1KW8V/NhdCYNfaY\n",
              "TwQalA3dap9mj24/NC/8KVttVRu/BhzW7No7PdYkjjUq6qS/ioLaR0/mHww+ru5zUVtVdRE3M8Kp\n",
              "X2X4AEZ7b1fC6mi3DJbGgrFeru9vHuHnef6mECUsoT8nElP+jiWPTNW48+LVk3iIniYxtglPNCjc\n",
              "OCMGh6z8oHLbZ6mIMKrUErvmK2jACu6pg8PKY8nPVEFZbZRLfawiGBlphyFomYJH2oA92TBEJAGz\n",
              "mn/gl0w4trXlEWi/YeBb+R4EebxLRq0T1RwoBF+6ddrgff6CcNJYYUtnIxSfMgG3q5HaJXfvgCLu\n",
              "RKH+zY/11tOCBRAqks16HGqy7NdrQ/hffabjcfHJWw5g6QrE4Fs9KTs6jppWye0mu1MsGln/eNli\n",
              "xc+YRyfd3gVOeJCZ6fxhhUPR+7StmW4kI3/A0C/jLmImiDmr8DqKcXzwt3UuO7wfy9oE0+qvRoSo\n",
              "XZwZLFbKa1BN5d9erTwtvzFog41cTYzY0PesKOeMlVRtTjrtNaQuWRLu3/OQSeQPBWJVcB8g6nf+\n",
              "Pt2tIUdB6le9+E6LsK0IqUXMkzxZOf6y3BQmwbjH1YaaRqI3+xKmMGnjVXGlPRcbeZiWz9z3u/yH\n",
              "JaJm+TbIVnbYpGM1H/aB64u1Y58qCmU94EgM41on9idEmJcJgiFNbfOwxZLJQnJlQ5VB60VIuhE5\n",
              "Dz4fnpHM3cctHQIqHdX3mq6aNm+Fcx0H6SoSbCjBeAvantabHQer/wW7v3/It4qUF3sCQfzphGQb\n",
              "YHaFJVW8j3P4OEBKh/WZ+9ELofMgmOTRoaHaauixmEaz2dz7CvgRUdooTRPNU6nNmlytLLTIL4Bd\n",
              "PCnSMIy3IQiDenq/Sof2ILSPuPmWsLXe7Ck5yDCFWEUJV2X9SkBPIg3SOIOc8Gb1dZqPZ5JbRlC+\n",
              "eNi95Xp6DnvFNG6G6xebgU7sxLw2e5J9193ffngB6B7EgiGwccT534GUWMugBGFZPhyRGnQHsLt1\n",
              "IpF5urK6qWk1MW88dkvvqSBwQHHpiqayKEp3NPDywxk5ILGc0kuKE4J3l+p1GJAoF8GMyqR6yX7T\n",
              "e8oGJ65BVKd6aESJorYwejrkPGgzqNoDECE06imwPbidRqgaenm+h63Wb138+jI1wJ9uUqbBmYUS\n",
              "u4gFdy8UaoUE9OWr48UpsA7COQLLbsuBKUI+AfcVJYZmcnrmDbrhLixgct1RrenYIUkrn6zNTTut\n",
              "f9aA/iaI6Pz7zE2FlTtLYj67F6TL+1zRY2loM6YSNHDJO0qvIv0sXsJ1Ed0JaCQtbWUqdO3/f58C\n",
              "Za4SWBP/obAN9pamOwT7PMgvam9NYvr7KN/RJ+Xdzhiev+EbDPKNg+AR5Bx4Wcy3QscQw/zwfysL\n",
              "TMNw/zqa8XEL+HiUQ7ZzlLwFcL2mT9LO87n2JbsUEvshiDAgXX9wJMz4lKXKElZVpC7pVI2mv22B\n",
              "EPSuhT2rEkNIHGVkdKvnfqON0SLDC3PMH4bohX3T2SXsFBbT9gFLR1gy1AtLNHz1aLq0vJfD6Maz\n",
              "UE313vSQuwdABWwAAADKAZ5BeQr/ANKQz/7HwDLlNbsYU9bJhS2ZRUx3E+2QDV8sxfN7ClI/Zy+n\n",
              "kG7/cwKIQtG9dxqrAXYUMBgv6bjsEGLOXXt+nG7J6cuu/1+nlFstyu+ZSVybV7c3NMlCCHJh2eLf\n",
              "eLcG9j5QcL3rtUAbC4oD36xkaRgf0Ey7p0OUcuyQzQ3B6tUdefC4f8zJovedgudGzmlaLkMYH/Mg\n",
              "3AfRfxcn/0EN2Ftz0f6TNv6tVqnXXVOuc0V827GvubmbRRIYdqbSplOoe9ZGwQAAAhxBmkQ8IZMp\n",
              "hDv//qmWAATg2moAoBYDF5lvRZi3X9LSPlGt38DL0RU+4HR+4MhFw5fDRqL23fTsFtN94PqIuHDI\n",
              "Hq94rOSvIrTY2pAhoRnfZBBXt2UMSaddWczMtS0Of6f8lcxn2Q+THiHEQIN8fZK/y2+SBI08OyQW\n",
              "TiJbqNelY2KvSYD7ea2IsuTbtfFWmBzXMtjR09MIDliHaUp9GzQC8wovv3FxoD6uxbALJZAgWe6J\n",
              "CfkQoVkrDP8c04x9dC+N6/n5ARPzDtYKgdioo0Gr96jGWyQRfL69cJUHF02QacOT8kCnhkcuPHg4\n",
              "ptmxtbusE9Sm/BSXSIK9DrnPh3jewvcjyfbzkAFUeJxLPiZLd8h7pxuFZl+ye/j32wseSf1CFCQj\n",
              "KV/z3MrRKG1AX+pWrkkGpoxHvy36BLX7QX8/eiJjNx00ZYFICV+z8sOlmsJOwkEyn17Mb7VNgbgf\n",
              "yKixp4jmOky7m96E7RTh5L473mJeoSWz62JCmHI3CsHa7qbWGWQnHj0ytv3dp0T/7KUuhmofMPV1\n",
              "1kj9VpzVd17EK6m+rnljUUz9dQnDBIg3T408e+V1BuZ6BrdTSncZGMcDS12A4IaVjhsmBJptQRkk\n",
              "1m5T09+W+kQi2G3uMyvjLBIDj8ribitTaUJb7o1I4IKUjT3h5hVVAxtlj5ZrlafdwaoTldlv1Hvv\n",
              "XfvlvufefBWHQD8bSgIJJqtbziAAAABpAZ5jakK/AA/lepE3Tok3joHGNIAOGyi2or1JGT+1v2KT\n",
              "hP9DW+WciTztKbQqTohBd+JKGlYtzkjdQ+3Ky2lTc5QFEwcTKth05z9C3cF+bvhtc50iqP8luqyh\n",
              "+cNtUUNBWnHio0MCUY+BAAABAUGaZUnhDyZTAh3//qmWAAMVKFpdoYjC4w00f3W3kjWbmMVxNELy\n",
              "SiUdr9qv3ASp320E1+PqVow0Bja2WCzBIH2Pm0bgn82fyVRxZsGRnLm6BQkPBzJGfRHfVLn41jdH\n",
              "5YFoiclQa+bvGn5mGZuRrs6tF/P7huB1c+0aeWYkBodUAhS1d4w3UOQ7Whirv0Blqc4x/lASpuLt\n",
              "nj6qO+rdJ/2Opkc52pH1ajtMV6mddC+wsKK/rZZ9FyPaOiVAT6zI4686koq/iZve2+s+G5FiByR4\n",
              "MpleDwH9UsUKx1/d0ogvExTfDE8S++ip1Na3YhNcKyf9Ev3aKoFhcmK8DwgE9gNZAAAAxEGah0nh\n",
              "DyZTBRE8P//+qZYAAyk01QAXVdlejx8GB7kBCrCwyZk3Uc7UUk+WkcnS8AxFWlChZr3RpgXN+Apk\n",
              "qyLbz99gA8XgzxBExrRf1wuDMKGzb9AbAP4+sYJPWOXjoBWPyb/zb/TjeBQQsIJYPaBvkhQuom2s\n",
              "EEr0q7RUm10HgLHvAIZdIoNcla54x/f9R8qATEQDCaXUwhv9gF7ugu0LQ54s3HeiqzCI+7+MNtmZ\n",
              "KgYUfTo8brhGqpwpJA34mZHes20AAAAkAZ6makK/AAUeu+xBo3sYE/VW2dbBr3Pr/VACX80M12Fe\n",
              "RAaBAAAAl0GaqknhDyZTAh///qmWAAM9M20Ut2V522In2yQ6GuXmFkj8YBY4XI3/UydpL91TCrR9\n",
              "jLQB7HU/xoAz2JJKCpZcSsj6RMn4hSXmUYdBPcb2GJ4DG63D6TfTjwd7ZM4O8vCa0c+iEaGyWOv3\n",
              "0Xk6MJN2WMi3fielAAiS3taV2DjGBHZrduFXD6JPYAvYiO7ylhmvaTa5dv8AAAAfQZ7IRRE8L/8A\n",
              "A8yXEcTrIatTz/qN2Cjo6Vp9OyIeQAAAABcBnulqQr8ABUK8PUmE9LeAWrcWCNvlMQAAAItBmu5J\n",
              "qEFomUwIf//+qZYAAz48CYukAmlqpjiGgc9JfP9TQ3uvCJC4WgQY7970IPyzjxuu+5pXx6W22wnD\n",
              "GOZDrE53hKc2r+uJHHwcu8ZRDk/f90jfn0kgKuUTfKePrqBVlRStoHOq7IbWDc4idq4gdcyiE/X7\n",
              "oGIyE+orlSfILcRS1g0N9mFUqP2AAAAAI0GfDEURLDP/AALW8sNPgAiwIavRXRyAtVj+KuRXULUV\n",
              "E1cNAAAAGwGfK3RCvwAFQQJdZJeAE0yEYKY84cMMiX2oFwAAABUBny1qQr8ABUKbnxgA43dmM8+y\n",
              "SzkAAABSQZsySahBbJlMCH///qmWAAM9GrJQAOZdgpjLR1Kl2r4ye1ROIxQa87RZMZpSACnNTYDJ\n",
              "mikWuAONCr9kCksedhoBqWvsxWgNrjx4l+iIJ7qpeQAAABRBn1BFFSwz/wAC1ZaTBO8bgnf7wAAA\n",
              "AA0Bn290Qr8AAqBq3O6YAAAACwGfcWpCvwAAAwGLAAAAJEGbdkmoQWyZTAh///6plgADPTjhwA5l\n",
              "2SbABuuZAudmyVBxwAAAABBBn5RFFSwz/wAAAwE1139oAAAACwGfs3RCvwAAAwGLAAAACwGftWpC\n",
              "vwAAAwGLAAAAHUGbukmoQWyZTAh///6plgADPiIgWgC/waEg6wcdAAAAEEGf2EUVLDP/AAADATXX\n",
              "f2kAAAALAZ/3dEK/AAADAYsAAAALAZ/5akK/AAADAYsAAAAeQZv+SahBbJlMCH///qmWAAM9OOHA\n",
              "Ct48/N6jioOOAAAAEEGeHEUVLDP/AAADATXXf2kAAAALAZ47dEK/AAADAYsAAAALAZ49akK/AAAD\n",
              "AYsAAAAVQZoiSahBbJlMCH///qmWAAADAPCAAAAAEEGeQEUVLDP/AAADATXXf2kAAAALAZ5/dEK/\n",
              "AAADAYsAAAALAZ5hakK/AAADAYsAAAAVQZpmSahBbJlMCHf//qmWAAADAPCAAAAAEEGehEUVLDP/\n",
              "AAADATXXf2kAAAALAZ6jdEK/AAADAYsAAAALAZ6lakK/AAADAYsAAAAVQZqqSahBbJlMCHf//qmW\n",
              "AAADAPCBAAAAEEGeyEUVLDP/AAADATXXf2gAAAALAZ7ndEK/AAADAYsAAAALAZ7pakK/AAADAYsA\n",
              "AAAUQZruSahBbJlMCG///qeEAAADAd0AAAAQQZ8MRRUsM/8AAAMBNdd/aAAAAAsBnyt0Qr8AAAMB\n",
              "iwAAAAsBny1qQr8AAAMBiwAAABNBmzFJqEFsmUwIV//+OEAAABxxAAAAEEGfT0UVLC//AAADAaaI\n",
              "zNAAAAALAZ9wakK/AAADAYsAAAV6bW9vdgAAAGxtdmhkAAAAAAAAAAAAAAAAAAAD6AAACcQAAQAA\n",
              "AQAAAAAAAAAAAAAAAAEAAAAAAAAAAAAAAAAAAAABAAAAAAAAAAAAAAAAAABAAAAAAAAAAAAAAAAA\n",
              "AAAAAAAAAAAAAAAAAAAAAAAAAgAABKR0cmFrAAAAXHRraGQAAAADAAAAAAAAAAAAAAABAAAAAAAA\n",
              "CcQAAAAAAAAAAAAAAAAAAAAAAAEAAAAAAAAAAAAAAAAAAAABAAAAAAAAAAAAAAAAAABAAAAAAbAA\n",
              "AAEgAAAAAAAkZWR0cwAAABxlbHN0AAAAAAAAAAEAAAnEAAAEAAABAAAAAAQcbWRpYQAAACBtZGhk\n",
              "AAAAAAAAAAAAAAAAAAAoAAAAZABVxAAAAAAALWhkbHIAAAAAAAAAAHZpZGUAAAAAAAAAAAAAAABW\n",
              "aWRlb0hhbmRsZXIAAAADx21pbmYAAAAUdm1oZAAAAAEAAAAAAAAAAAAAACRkaW5mAAAAHGRyZWYA\n",
              "AAAAAAAAAQAAAAx1cmwgAAAAAQAAA4dzdGJsAAAAt3N0c2QAAAAAAAAAAQAAAKdhdmMxAAAAAAAA\n",
              "AAEAAAAAAAAAAAAAAAAAAAAAAbABIABIAAAASAAAAAAAAAABAAAAAAAAAAAAAAAAAAAAAAAAAAAA\n",
              "AAAAAAAAAAAAAAAAGP//AAAANWF2Y0MBZAAV/+EAGGdkABWs2UGwloQAAAMABAAAAwCgPFi2WAEA\n",
              "Bmjr48siwP34+AAAAAAcdXVpZGtoQPJfJE/FujmlG88DI/MAAAAAAAAAGHN0dHMAAAAAAAAAAQAA\n",
              "ADIAAAIAAAAAFHN0c3MAAAAAAAAAAQAAAAEAAAGQY3R0cwAAAAAAAAAwAAAAAQAABAAAAAABAAAG\n",
              "AAAAAAEAAAIAAAAAAQAABgAAAAABAAACAAAAAAEAAAQAAAAAAQAABgAAAAABAAACAAAAAAEAAAgA\n",
              "AAAAAgAAAgAAAAABAAAKAAAAAAEAAAQAAAAAAQAAAAAAAAABAAACAAAAAAEAAAoAAAAAAQAABAAA\n",
              "AAABAAAAAAAAAAEAAAIAAAAAAQAACgAAAAABAAAEAAAAAAEAAAAAAAAAAQAAAgAAAAABAAAKAAAA\n",
              "AAEAAAQAAAAAAQAAAAAAAAABAAACAAAAAAEAAAoAAAAAAQAABAAAAAABAAAAAAAAAAEAAAIAAAAA\n",
              "AQAACgAAAAABAAAEAAAAAAEAAAAAAAAAAQAAAgAAAAABAAAKAAAAAAEAAAQAAAAAAQAAAAAAAAAB\n",
              "AAACAAAAAAEAAAoAAAAAAQAABAAAAAABAAAAAAAAAAEAAAIAAAAAAQAACgAAAAABAAAEAAAAAAEA\n",
              "AAAAAAAAAQAAAgAAAAABAAAIAAAAAAIAAAIAAAAAHHN0c2MAAAAAAAAAAQAAAAEAAAAyAAAAAQAA\n",
              "ANxzdHN6AAAAAAAAAAAAAAAyAAAYHwAAB8wAAADOAAACIAAAAG0AAAEFAAAAyAAAACgAAACbAAAA\n",
              "IwAAABsAAACPAAAAJwAAAB8AAAAZAAAAVgAAABgAAAARAAAADwAAACgAAAAUAAAADwAAAA8AAAAh\n",
              "AAAAFAAAAA8AAAAPAAAAIgAAABQAAAAPAAAADwAAABkAAAAUAAAADwAAAA8AAAAZAAAAFAAAAA8A\n",
              "AAAPAAAAGQAAABQAAAAPAAAADwAAABgAAAAUAAAADwAAAA8AAAAXAAAAFAAAAA8AAAAUc3RjbwAA\n",
              "AAAAAAABAAAAMAAAAGJ1ZHRhAAAAWm1ldGEAAAAAAAAAIWhkbHIAAAAAAAAAAG1kaXJhcHBsAAAA\n",
              "AAAAAAAAAAAALWlsc3QAAAAlqXRvbwAAAB1kYXRhAAAAAQAAAABMYXZmNTguNzYuMTAw\n",
              "\">\n",
              "  Your browser does not support the video tag.\n",
              "</video>"
            ],
            "text/plain": [
              "<IPython.core.display.HTML object>"
            ]
          },
          "execution_count": 166,
          "metadata": {},
          "output_type": "execute_result"
        },
        {
          "data": {
            "image/png": "[encoded data removed]",
            "text/plain": [
              "<Figure size 432x288 with 1 Axes>"
            ]
          },
          "metadata": {
            "needs_background": "light"
          },
          "output_type": "display_data"
        }
      ],
      "source": [
        "# Simulation parameters\n",
        "h = 1. / 4.\n",
        "numTimeSteps = 50\n",
        "initial_state, kx, ky = (1.0, 1.0), 1.0, 5.0\n",
        "\n",
        "# Systems & solvers\n",
        "systems = [BeadOnWire(initial_state, kx, ky) for _ in range(4)]\n",
        "solvers = [None, ExplicitEulerSolver(), ImplicitEulerSolver(), TrapezoidalSolver()]\n",
        "\n",
        "method_data = {\n",
        "  0: ('red', 'Analytical'),\n",
        "  1: ('green', 'Explicit Euler'),\n",
        "  2: ('cyan', 'Implicit Euler'),\n",
        "  3: ('black', 'Trapezoidal Rule'),\n",
        "}\n",
        "\n",
        "# Figure setup\n",
        "from matplotlib import animation, rc\n",
        "\n",
        "fig, ax = plt.subplots()\n",
        "ax.set_xlim((-0.2, 1.2))\n",
        "ax.set_ylim((-1.2, 1.2))\n",
        "\n",
        "lines = [None] * len(systems)\n",
        "lines_non_null = []\n",
        "for idx, (color, label) in method_data.items():\n",
        "  kwargs = {'ls': ':', 'lw': 4} if idx == 0 else {'lw': 1}\n",
        "  line = ax.plot([], [], color=color, label=label, **kwargs)[0]\n",
        "  lines[idx] = line\n",
        "  lines_non_null.append(line)\n",
        "\n",
        "# Initialization function: plot the background of each frame\n",
        "def init():\n",
        "  for idx in method_data:\n",
        "    systems[idx].on_start_simulation(lines[idx])\n",
        "  return lines_non_null\n",
        "\n",
        "# Animation function. This is called sequentially\n",
        "def animate(i):\n",
        "  for idx in method_data:\n",
        "    system, solver = systems[idx], solvers[idx]\n",
        "    if solver is None:\n",
        "      system.analytical_state_update(i*h)\n",
        "    else:\n",
        "      solver.step(h,system)\n",
        "    system.on_step_simulation()\n",
        "\n",
        "  ax.legend()\n",
        "  return lines_non_null\n",
        "\n",
        "# Call the animator. blit=True means only re-draw the parts that have changed.\n",
        "anim = animation.FuncAnimation(fig, animate, init_func=init,\n",
        "                               frames=numTimeSteps, interval=50, blit=True)\n",
        "HTML(anim.to_html5_video())"
      ]
    },
    {
      "cell_type": "markdown",
      "metadata": {
        "id": "dWchNLgLk3GI"
      },
      "source": [
        "## 4.3. Step doubling: free-fall"
      ]
    },
    {
      "cell_type": "markdown",
      "metadata": {
        "id": "s1rP2jpo1ds_"
      },
      "source": [
        "Write a variation of the `ExplicitEulerSolver` that uses step doubling *repeatedly until the error is low enough*, and *returns the next time step to use*.\n",
        "\n",
        "You will see the results on the freefall system from before; simulation code has been implemented for you.\n",
        "\n",
        "Specifically, do the following in the `step()` function below:\n",
        "1. Compute the two candidte states `x_a` and `x_b` as seen in class\n",
        "1. Compare the mean absolute error between them with the provided `error_tol` value.\n",
        "1. *If error is within tolerance:*\n",
        "  - Set the state to `x_b`\n",
        "  - Return the current time step\n",
        "1. *Otherwise:*\n",
        "  - compute the new time step to use based on the formula learnt in class\n",
        "  - *reset the system state* to what it was before this `step()` function was called\n",
        "  - recursively call `step()` with the new time step.\n",
        "\n",
        "**<font color='orange'> \\*\\*Write your code below (3 pts)\\*\\* </font>**"
      ]
    },
    {
      "cell_type": "code",
      "execution_count": 157,
      "metadata": {
        "id": "TED9NyMh1rb5"
      },
      "outputs": [],
      "source": [
        "class SDExplicitEulerSolver(Solver):\n",
        "  \"\"\"A general Explicit Euler method solver with recursive step doubling.\"\"\"\n",
        "  def step(self, h: float, system: DynamicSystem, error_tol: float):\n",
        "    \"\"\" Read the current system state, calculate the state after advancement by `dt`, and use `set_state()` to update the system.\n",
        "    Now, though, return the next time step to use, according to step doubling using `error_tol`.\"\"\"\n",
        "    # Student answer begins\n",
        "\n",
        "    # Student answer ends"
      ]
    },
    {
      "cell_type": "markdown",
      "metadata": {
        "id": "Ae3SY6r7qdh0"
      },
      "source": [
        "### Simulation code (do not edit)"
      ]
    },
    {
      "cell_type": "markdown",
      "metadata": {
        "id": "P4GCZ7FEqZ8X"
      },
      "source": [
        "#### Load PyBullet objects and initialize required parameters"
      ]
    },
    {
      "cell_type": "code",
      "execution_count": 158,
      "metadata": {
        "id": "DvHNWdT6qZ8Y"
      },
      "outputs": [],
      "source": [
        "init_pybullet()\n",
        "\n",
        "initial_height = 10.0\n",
        "g = 9.8  # Acceleration due to gravity\n",
        "\n",
        "h = 1.  # Time step - step doubling can edit this\n",
        "error_tol = 1e-2\n",
        "\n",
        "# Order of methods (and corresponding systems)\n",
        "method_labels = {\n",
        "  0: 'Analytical solution',\n",
        "  1: 'Explicit Euler SD method',\n",
        "}\n",
        "\n",
        "# Construct all the systems\n",
        "systems = [Freefall(initial_height, g) for _ in range(len(method_labels))]\n",
        "\n",
        "\n",
        "# Load objects\n",
        "\n",
        "# Red Sphere - Analytical\n",
        "systems[0].on_start_simulation(rgbaColor=[1, 0, 0, 1], basePosition=[-1.0, 0.0, initial_height])\n",
        "# Green sphere - Explicit Euler (SD)\n",
        "systems[1].on_start_simulation(rgbaColor=[0, 1, 0, 1], basePosition=[ 1.0, 0.0, initial_height])"
      ]
    },
    {
      "cell_type": "markdown",
      "metadata": {
        "id": "ufWYNYtsqZ8a"
      },
      "source": [
        "#### Simulation loop"
      ]
    },
    {
      "cell_type": "code",
      "execution_count": 159,
      "metadata": {
        "id": "T8KOzZRaqZ8b"
      },
      "outputs": [
        {
          "ename": "TypeError",
          "evalue": "ufunc 'isfinite' not supported for the input types, and the inputs could not be safely coerced to any supported types according to the casting rule ''safe''",
          "output_type": "error",
          "traceback": [
            "\u001b[0;31m---------------------------------------------------------------------------\u001b[0m",
            "\u001b[0;31mTypeError\u001b[0m                                 Traceback (most recent call last)",
            "\u001b[0;32m/var/folders/wy/tjg12twn7ng380y1ml1z8hjm0000gn/T/ipykernel_8277/416845260.py\u001b[0m in \u001b[0;36m<module>\u001b[0;34m\u001b[0m\n\u001b[1;32m      9\u001b[0m \u001b[0;32mwhile\u001b[0m \u001b[0mmax\u001b[0m\u001b[0;34m(\u001b[0m\u001b[0mget_heights\u001b[0m\u001b[0;34m(\u001b[0m\u001b[0msystems\u001b[0m\u001b[0;34m)\u001b[0m\u001b[0;34m)\u001b[0m \u001b[0;34m>\u001b[0m \u001b[0;36m0.0\u001b[0m\u001b[0;34m:\u001b[0m\u001b[0;34m\u001b[0m\u001b[0;34m\u001b[0m\u001b[0m\n\u001b[1;32m     10\u001b[0m   \u001b[0mh_new\u001b[0m \u001b[0;34m=\u001b[0m \u001b[0msd_solver\u001b[0m\u001b[0;34m.\u001b[0m\u001b[0mstep\u001b[0m\u001b[0;34m(\u001b[0m\u001b[0mh\u001b[0m\u001b[0;34m,\u001b[0m\u001b[0msystems\u001b[0m\u001b[0;34m[\u001b[0m\u001b[0;36m1\u001b[0m\u001b[0;34m]\u001b[0m\u001b[0;34m,\u001b[0m \u001b[0merror_tol\u001b[0m\u001b[0;34m)\u001b[0m\u001b[0;34m\u001b[0m\u001b[0;34m\u001b[0m\u001b[0m\n\u001b[0;32m---> 11\u001b[0;31m   \u001b[0;32mif\u001b[0m \u001b[0;32mnot\u001b[0m \u001b[0mnp\u001b[0m\u001b[0;34m.\u001b[0m\u001b[0misclose\u001b[0m\u001b[0;34m(\u001b[0m\u001b[0mh\u001b[0m\u001b[0;34m,\u001b[0m \u001b[0mh_new\u001b[0m\u001b[0;34m)\u001b[0m\u001b[0;34m:\u001b[0m\u001b[0;34m\u001b[0m\u001b[0;34m\u001b[0m\u001b[0m\n\u001b[0m\u001b[1;32m     12\u001b[0m       \u001b[0mprint\u001b[0m\u001b[0;34m(\u001b[0m\u001b[0;34m\"\\n** h changed by SD: {} -> {} **\\n\"\u001b[0m\u001b[0;34m.\u001b[0m\u001b[0mformat\u001b[0m\u001b[0;34m(\u001b[0m\u001b[0mh\u001b[0m\u001b[0;34m,\u001b[0m \u001b[0mh_new\u001b[0m\u001b[0;34m)\u001b[0m\u001b[0;34m)\u001b[0m\u001b[0;34m\u001b[0m\u001b[0;34m\u001b[0m\u001b[0m\n\u001b[1;32m     13\u001b[0m       \u001b[0;32mif\u001b[0m \u001b[0mt\u001b[0m \u001b[0;34m==\u001b[0m \u001b[0;36m0.0\u001b[0m\u001b[0;34m:\u001b[0m\u001b[0;34m\u001b[0m\u001b[0;34m\u001b[0m\u001b[0m\n",
            "\u001b[0;32m~/.pyenv/versions/3.10.1/lib/python3.10/site-packages/numpy/core/overrides.py\u001b[0m in \u001b[0;36misclose\u001b[0;34m(*args, **kwargs)\u001b[0m\n",
            "\u001b[0;32m~/.pyenv/versions/3.10.1/lib/python3.10/site-packages/numpy/core/numeric.py\u001b[0m in \u001b[0;36misclose\u001b[0;34m(a, b, rtol, atol, equal_nan)\u001b[0m\n\u001b[1;32m   2357\u001b[0m \u001b[0;34m\u001b[0m\u001b[0m\n\u001b[1;32m   2358\u001b[0m     \u001b[0mxfin\u001b[0m \u001b[0;34m=\u001b[0m \u001b[0misfinite\u001b[0m\u001b[0;34m(\u001b[0m\u001b[0mx\u001b[0m\u001b[0;34m)\u001b[0m\u001b[0;34m\u001b[0m\u001b[0;34m\u001b[0m\u001b[0m\n\u001b[0;32m-> 2359\u001b[0;31m     \u001b[0myfin\u001b[0m \u001b[0;34m=\u001b[0m \u001b[0misfinite\u001b[0m\u001b[0;34m(\u001b[0m\u001b[0my\u001b[0m\u001b[0;34m)\u001b[0m\u001b[0;34m\u001b[0m\u001b[0;34m\u001b[0m\u001b[0m\n\u001b[0m\u001b[1;32m   2360\u001b[0m     \u001b[0;32mif\u001b[0m \u001b[0mall\u001b[0m\u001b[0;34m(\u001b[0m\u001b[0mxfin\u001b[0m\u001b[0;34m)\u001b[0m \u001b[0;32mand\u001b[0m \u001b[0mall\u001b[0m\u001b[0;34m(\u001b[0m\u001b[0myfin\u001b[0m\u001b[0;34m)\u001b[0m\u001b[0;34m:\u001b[0m\u001b[0;34m\u001b[0m\u001b[0;34m\u001b[0m\u001b[0m\n\u001b[1;32m   2361\u001b[0m         \u001b[0;32mreturn\u001b[0m \u001b[0mwithin_tol\u001b[0m\u001b[0;34m(\u001b[0m\u001b[0mx\u001b[0m\u001b[0;34m,\u001b[0m \u001b[0my\u001b[0m\u001b[0;34m,\u001b[0m \u001b[0matol\u001b[0m\u001b[0;34m,\u001b[0m \u001b[0mrtol\u001b[0m\u001b[0;34m)\u001b[0m\u001b[0;34m\u001b[0m\u001b[0;34m\u001b[0m\u001b[0m\n",
            "\u001b[0;31mTypeError\u001b[0m: ufunc 'isfinite' not supported for the input types, and the inputs could not be safely coerced to any supported types according to the casting rule ''safe''"
          ]
        }
      ],
      "source": [
        "i, t = 0, 0.  # Loop counter, Time\n",
        "heightsToPlot = [[initial_height] for _ in range(len(systems))]\n",
        "times = [t]\n",
        "\n",
        "# Constructs all the solvers\n",
        "sd_solver = SDExplicitEulerSolver()\n",
        "\n",
        "frames = []\n",
        "while max(get_heights(systems)) > 0.0:\n",
        "  h_new = sd_solver.step(h,systems[1], error_tol)\n",
        "  if not np.isclose(h, h_new):\n",
        "      print(\"\\n** h changed by SD: {} -> {} **\\n\".format(h, h_new))\n",
        "      if t == 0.0:\n",
        "        # use this as test case\n",
        "        assert np.isclose(h_new, 0.09035), \"Failed test case for SD\"\n",
        "\n",
        "  t += h_new\n",
        "  systems[0].analytical_state_update(t)\n",
        "\n",
        "  heights = get_heights(systems)\n",
        "\n",
        "  # Print the values for debugging.\n",
        "  if i % 5 == 0:\n",
        "      print(\"At time t = {}\".format(t))\n",
        "      for idx, label in method_labels.items():\n",
        "        print(\"Height of object using {} = {}\".format(label, heights[idx]))\n",
        "\n",
        "  # Update the values for plot and visualization\n",
        "  for j, system_j in enumerate(systems):\n",
        "    system_j.on_step_simulation()\n",
        "    heightsToPlot[j].append(heights[j])\n",
        "\n",
        "  # Render image\n",
        "  frames.append(render_pybullet())\n",
        "\n",
        "  times.append(t)\n",
        "  h = h_new\n",
        "  i += 1\n",
        "\n",
        "print(\"\\nDone, passing your test case. t = {}\".format(t))"
      ]
    },
    {
      "cell_type": "markdown",
      "metadata": {
        "id": "caKf6ZRwqZ8b"
      },
      "source": [
        "#### Visualize the results\n",
        "\n",
        "Make sure that you can see the animation of 2 free-falling objects, with the green one lagging behind the red one."
      ]
    },
    {
      "cell_type": "code",
      "execution_count": null,
      "metadata": {
        "id": "jEmw7o-UqZ8c"
      },
      "outputs": [],
      "source": [
        "sd_gif_path = './test_sd.gif'\n",
        "\n",
        "imageio.mimsave(sd_gif_path, np.stack(frames, axis=0), 'GIF', fps=20.0)\n",
        "ipythondisplay.Image(filename=sd_gif_path)"
      ]
    },
    {
      "cell_type": "markdown",
      "metadata": {
        "id": "PWUKU8xMqZ8d"
      },
      "source": [
        "#### Heights vs time\n",
        "\n",
        "This will look similar to the standard Explicit Euler plot from before."
      ]
    },
    {
      "cell_type": "code",
      "execution_count": null,
      "metadata": {
        "id": "tXVpRWcdqZ8d"
      },
      "outputs": [],
      "source": [
        "import matplotlib.pyplot as plt\n",
        "%matplotlib inline\n",
        "\n",
        "plt.figure(figsize=(8,8))\n",
        "plt.plot(times, heightsToPlot[0], 'r.', lw=4, label='Analytical')\n",
        "plt.plot(times, heightsToPlot[1], 'g-', lw=1, label='Explicit Euler SD')\n",
        "plt.xlabel('Time')\n",
        "plt.ylabel('Heights')\n",
        "plt.legend()\n",
        "plt.show()"
      ]
    }
  ],
  "metadata": {
    "accelerator": "GPU",
    "colab": {
      "collapsed_sections": [
        "1zRVBYMOQry8",
        "PSTL6hdzQt6M",
        "yXiQL6Retvz2",
        "8CteMs1u1Ve1"
      ],
      "provenance": []
    },
    "kernelspec": {
      "display_name": "Python 3.9.12 ('base')",
      "language": "python",
      "name": "python3"
    },
    "language_info": {
      "codemirror_mode": {
        "name": "ipython",
        "version": 3
      },
      "file_extension": ".py",
      "mimetype": "text/x-python",
      "name": "python",
      "nbconvert_exporter": "python",
      "pygments_lexer": "ipython3",
      "version": "3.10.1"
    },
    "vscode": {
      "interpreter": {
        "hash": "2e5314a4d3bbd0f86247ba18d17c0766895c8e7c17c397ab915e526c9228afab"
      }
    }
  },
  "nbformat": 4,
  "nbformat_minor": 0
}
