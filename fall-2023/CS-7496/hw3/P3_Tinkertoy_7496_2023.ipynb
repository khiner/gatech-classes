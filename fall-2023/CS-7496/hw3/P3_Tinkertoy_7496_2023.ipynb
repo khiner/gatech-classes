{
  "cells": [
    {
      "cell_type": "markdown",
      "metadata": {
        "id": "RGVmKOmCxrnv"
      },
      "source": [
        "# CS 4496/7496 Character Animation (Fall 2023)\n",
        "Copyright (c) Georgia Institute of Technology\n",
        "\n",
        "\n",
        "---\n"
      ]
    },
    {
      "cell_type": "markdown",
      "metadata": {
        "id": "ZnxYH1P1xwB1"
      },
      "source": [
        "## Project 3: Tinkertoy (due <font color='red'>11/3/2023</font>, 11:59PM)\n",
        "\n",
        "![tinkertoy.jpeg](data:image/jpeg;base64,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)\n",
        "\n",
        "Your task is to simulate two beads under gravity. One bead must stay on a circular wire and the second bead is connected to the first one by a fixed-length rod. You will implement one constraint that keeps a bead on the circle and another that keeps two beads a fixed distance apart. Your program should simulate the motion of the beads under gravity and should draw the beads as they move.\n",
        "\n",
        "In short, we want to simulate the motion of two beads under gravity for the following constraints:\n",
        "1.   First bead must stay on a circular wire of a given radius\n",
        "2.   Second bead is connected to the first one by a fixed-length rod.\n",
        "\n",
        "*Reference: 04_ConstrDyn.pdf *"
      ]
    },
    {
      "cell_type": "code",
      "execution_count": 1,
      "metadata": {
        "cellView": "form",
        "id": "hTmbpELDxtGR"
      },
      "outputs": [],
      "source": [
        "#@title import necessary libraries\n",
        "import numpy as np\n",
        "import matplotlib.pyplot as plt\n",
        "from matplotlib import animation, rc\n",
        "from IPython.display import HTML"
      ]
    },
    {
      "cell_type": "markdown",
      "metadata": {
        "id": "zPD9ygEGyFgf"
      },
      "source": [
        "# 1. Constrained system\n",
        "The initial state of the system consists of the positions and velocities of the two beads.\n",
        "\n",
        "1.   The first bead is at positon (0.6, 0.8) initially, and attached to a circle of radius 1, centered at origin\n",
        "2.   The second bead is at (0.6, 0.3) initially, connected to the first bead by a rod of length 0.5.\n",
        "3. Both the beads have zero initial velocity.\n",
        "\n",
        "We need to find the legal accelerations of the two beads to keep their respective velocities and positions valid throughout the motion."
      ]
    },
    {
      "cell_type": "code",
      "execution_count": 2,
      "metadata": {
        "id": "NCh4gDBcyGAG"
      },
      "outputs": [],
      "source": [
        "# number of beads in the system\n",
        "n_particles = 2\n",
        "\n",
        "# number of constraints in the system\n",
        "n_constraints = 2\n",
        "\n",
        "positions, velocities = None, None # placeholders\n",
        "constraint_values = list()\n",
        "\n",
        "def initialize():\n",
        "  global positions, velocities, constraint_values\n",
        "  # positions: column vector of size 2 * n_particles, concatenation of all positions of the beads\n",
        "  positions = np.array([0.6, 0.8, 0.6, 0.3]).reshape(-1, 1)\n",
        "  # velocities: column vector of size 2 * n_particles, concatenation of all velocities of the beads\n",
        "  velocities = np.array([0., 0., 0., 0.]).reshape(-1, 1)\n",
        "  # constraint_values: a list of constraint values over time\n",
        "  constraint_values = list()"
      ]
    },
    {
      "cell_type": "markdown",
      "metadata": {
        "id": "LepAjzodAaZU"
      },
      "source": [
        "Given the positions and velocities of the particles, evaluate the value of constraints, C(x). C[0] is the first constraint that keeps the first particple at a circular wire (radius 1.0, center at origin). C[1] is the second constraint that maintains the distance between two particles to be 0.5. Please fill two numbers.\n",
        "\n",
        "Compute C(*X*) for the two constraints to verify the legal positions of the two beads. (\"Legal positions\" are the positions at which C(*X*)=0)\n",
        "\n",
        "eval_C(system):\n",
        "  * Evaluates the corresponding constraints for the given system\n",
        "  * Returns an array of shape [n_constraints, 1]\n",
        "\n",
        "**Hint: You can access the elements of the N by 1 vector v as  ```v[0] or v[1]```.**\n",
        "\n",
        "**<font color='orange'> \\*\\*Task 1: Write your code below (20 pts)\\*\\* </font>**\n"
      ]
    },
    {
      "cell_type": "code",
      "execution_count": 3,
      "metadata": {
        "id": "POtcz9qXAzFA"
      },
      "outputs": [],
      "source": [
        "def eval_C(pos, vels):\n",
        "  \"\"\"Evaluates the value of constraints, C(x).\n",
        "  Args:\n",
        "    pos: a 2N by 1 position vector, [[x1], [y1], [x2], [y2], ...], where N = the number of particles (2 by default)\n",
        "    vels: a 2N by 1 velocity vector, [[vx1], [vy1], [vx2], [vy2], ...], where N = the number of particles (2 by default)\n",
        "  Returns:\n",
        "    The C vector as a np.array of shape (2, 1)\n",
        "\n",
        "  \"\"\"\n",
        "  C = np.zeros([n_constraints, 1])\n",
        "  # Student code starts here\n",
        "\n",
        "  # Student code ends here\n",
        "  return C"
      ]
    },
    {
      "cell_type": "markdown",
      "metadata": {
        "id": "FHgepK3jb3TQ"
      },
      "source": [
        "Cdot is its time derivative (hint: Use the chain rule, e.g., dC/dt = dC/dX dX/dt, where X is a position variable and \\dot{X} is velocity) to compute the time derivative of the first and second constraints.\n",
        "\n",
        "eval_Cdot(system):\n",
        "  * Evaluates time derivative of the constraints for the given system\n",
        "  * Returns an array of shape [n_constraints, 1].\n",
        "\n",
        "**<font color='orange'> \\*\\*Task 2: Write your code below (20 pts)\\*\\* </font>**\n"
      ]
    },
    {
      "cell_type": "code",
      "execution_count": 4,
      "metadata": {
        "id": "egILvi99Bpf-"
      },
      "outputs": [],
      "source": [
        "def eval_Cdot(pos, vels):\n",
        "  \"\"\"Evaluates the time derivative of constraints, Cdot(x).\n",
        "  Args:\n",
        "    pos: a 2N by 1 position vector, [[x1], [y1], [x2], [y2], ...], where N = the number of particles (2 by default)\n",
        "    vels: a 2N by 1 velocity vector, [[vx1], [vy1], [vx2], [vy2], ...], where N = the number of particles (2 by default)\n",
        "  Returns:\n",
        "    The Cdot vector as a np.array of shape (2, 1)\n",
        "  \"\"\"\n",
        "  Cdot = np.zeros([n_constraints, 1])\n",
        "  # Student code starts here\n",
        "\n",
        "  # Student code ends here\n",
        "  return Cdot\n"
      ]
    },
    {
      "cell_type": "markdown",
      "metadata": {
        "id": "bAIEj37zMIu8"
      },
      "source": [
        "Lets verify the results with a simple unit test.\n",
        "\n",
        "The test is design to verify whether\n",
        "  * C and Cdots are zero when it is at the valid state.\n",
        "  * C and Cdots are non zero when we perturb the state.\n",
        "  \n",
        "Note that our testing scenario is simple and not complete."
      ]
    },
    {
      "cell_type": "code",
      "execution_count": 5,
      "metadata": {
        "cellView": "form",
        "id": "fBM5T1vPfXRt"
      },
      "outputs": [
        {
          "ename": "AssertionError",
          "evalue": "",
          "output_type": "error",
          "traceback": [
            "\u001b[0;31m---------------------------------------------------------------------------\u001b[0m",
            "\u001b[0;31mAssertionError\u001b[0m                            Traceback (most recent call last)",
            "\u001b[0;32m/var/folders/wy/tjg12twn7ng380y1ml1z8hjm0000gn/T/ipykernel_36888/3694913391.py\u001b[0m in \u001b[0;36m<module>\u001b[0;34m\u001b[0m\n\u001b[1;32m      3\u001b[0m \u001b[0mp0\u001b[0m\u001b[0;34m,\u001b[0m \u001b[0mv0\u001b[0m \u001b[0;34m=\u001b[0m \u001b[0mnp\u001b[0m\u001b[0;34m.\u001b[0m\u001b[0marray\u001b[0m\u001b[0;34m(\u001b[0m\u001b[0;34m[\u001b[0m\u001b[0;36m0.6\u001b[0m\u001b[0;34m,\u001b[0m \u001b[0;36m0.8\u001b[0m\u001b[0;34m,\u001b[0m \u001b[0;36m0.6\u001b[0m\u001b[0;34m,\u001b[0m \u001b[0;36m0.3\u001b[0m\u001b[0;34m]\u001b[0m\u001b[0;34m)\u001b[0m\u001b[0;34m.\u001b[0m\u001b[0mreshape\u001b[0m\u001b[0;34m(\u001b[0m\u001b[0;34m-\u001b[0m\u001b[0;36m1\u001b[0m\u001b[0;34m,\u001b[0m \u001b[0;36m1\u001b[0m\u001b[0;34m)\u001b[0m\u001b[0;34m,\u001b[0m \u001b[0mnp\u001b[0m\u001b[0;34m.\u001b[0m\u001b[0marray\u001b[0m\u001b[0;34m(\u001b[0m\u001b[0;34m[\u001b[0m\u001b[0;36m0.0\u001b[0m\u001b[0;34m,\u001b[0m \u001b[0;36m0.0\u001b[0m\u001b[0;34m,\u001b[0m \u001b[0;36m0.0\u001b[0m\u001b[0;34m,\u001b[0m \u001b[0;36m0.0\u001b[0m\u001b[0;34m]\u001b[0m\u001b[0;34m)\u001b[0m\u001b[0;34m.\u001b[0m\u001b[0mreshape\u001b[0m\u001b[0;34m(\u001b[0m\u001b[0;34m-\u001b[0m\u001b[0;36m1\u001b[0m\u001b[0;34m,\u001b[0m \u001b[0;36m1\u001b[0m\u001b[0;34m)\u001b[0m\u001b[0;34m\u001b[0m\u001b[0;34m\u001b[0m\u001b[0m\n\u001b[1;32m      4\u001b[0m \u001b[0;32massert\u001b[0m\u001b[0;34m(\u001b[0m\u001b[0mnp\u001b[0m\u001b[0;34m.\u001b[0m\u001b[0mallclose\u001b[0m\u001b[0;34m(\u001b[0m\u001b[0meval_C\u001b[0m\u001b[0;34m(\u001b[0m\u001b[0mp0\u001b[0m\u001b[0;34m,\u001b[0m \u001b[0mv0\u001b[0m\u001b[0;34m)\u001b[0m\u001b[0;34m,\u001b[0m \u001b[0mnp\u001b[0m\u001b[0;34m.\u001b[0m\u001b[0marray\u001b[0m\u001b[0;34m(\u001b[0m\u001b[0;34m[\u001b[0m\u001b[0;34m[\u001b[0m\u001b[0;36m0.0\u001b[0m\u001b[0;34m]\u001b[0m\u001b[0;34m,\u001b[0m \u001b[0;34m[\u001b[0m\u001b[0;36m0.0\u001b[0m\u001b[0;34m]\u001b[0m\u001b[0;34m]\u001b[0m\u001b[0;34m)\u001b[0m\u001b[0;34m)\u001b[0m\u001b[0;34m)\u001b[0m\u001b[0;34m\u001b[0m\u001b[0;34m\u001b[0m\u001b[0m\n\u001b[0;32m----> 5\u001b[0;31m \u001b[0;32massert\u001b[0m\u001b[0;34m(\u001b[0m\u001b[0;32mnot\u001b[0m \u001b[0mnp\u001b[0m\u001b[0;34m.\u001b[0m\u001b[0mallclose\u001b[0m\u001b[0;34m(\u001b[0m\u001b[0meval_C\u001b[0m\u001b[0;34m(\u001b[0m\u001b[0mp0\u001b[0m \u001b[0;34m+\u001b[0m \u001b[0;36m0.1\u001b[0m\u001b[0;34m,\u001b[0m \u001b[0mv0\u001b[0m\u001b[0;34m)\u001b[0m\u001b[0;34m,\u001b[0m \u001b[0mnp\u001b[0m\u001b[0;34m.\u001b[0m\u001b[0marray\u001b[0m\u001b[0;34m(\u001b[0m\u001b[0;34m[\u001b[0m\u001b[0;34m[\u001b[0m\u001b[0;36m0.0\u001b[0m\u001b[0;34m]\u001b[0m\u001b[0;34m,\u001b[0m \u001b[0;34m[\u001b[0m\u001b[0;36m0.0\u001b[0m\u001b[0;34m]\u001b[0m\u001b[0;34m]\u001b[0m\u001b[0;34m)\u001b[0m\u001b[0;34m)\u001b[0m\u001b[0;34m)\u001b[0m\u001b[0;34m\u001b[0m\u001b[0;34m\u001b[0m\u001b[0m\n\u001b[0m\u001b[1;32m      6\u001b[0m \u001b[0;32massert\u001b[0m\u001b[0;34m(\u001b[0m\u001b[0mnp\u001b[0m\u001b[0;34m.\u001b[0m\u001b[0mallclose\u001b[0m\u001b[0;34m(\u001b[0m\u001b[0meval_Cdot\u001b[0m\u001b[0;34m(\u001b[0m\u001b[0mp0\u001b[0m\u001b[0;34m,\u001b[0m \u001b[0mv0\u001b[0m\u001b[0;34m)\u001b[0m\u001b[0;34m,\u001b[0m \u001b[0mnp\u001b[0m\u001b[0;34m.\u001b[0m\u001b[0marray\u001b[0m\u001b[0;34m(\u001b[0m\u001b[0;34m[\u001b[0m\u001b[0;34m[\u001b[0m\u001b[0;36m0.0\u001b[0m\u001b[0;34m]\u001b[0m\u001b[0;34m,\u001b[0m \u001b[0;34m[\u001b[0m\u001b[0;36m0.0\u001b[0m\u001b[0;34m]\u001b[0m\u001b[0;34m]\u001b[0m\u001b[0;34m)\u001b[0m\u001b[0;34m)\u001b[0m\u001b[0;34m)\u001b[0m\u001b[0;34m\u001b[0m\u001b[0;34m\u001b[0m\u001b[0m\n\u001b[1;32m      7\u001b[0m \u001b[0;32massert\u001b[0m\u001b[0;34m(\u001b[0m\u001b[0;32mnot\u001b[0m \u001b[0mnp\u001b[0m\u001b[0;34m.\u001b[0m\u001b[0mallclose\u001b[0m\u001b[0;34m(\u001b[0m\u001b[0meval_Cdot\u001b[0m\u001b[0;34m(\u001b[0m\u001b[0mp0\u001b[0m\u001b[0;34m,\u001b[0m \u001b[0mv0\u001b[0m \u001b[0;34m+\u001b[0m \u001b[0;36m0.1\u001b[0m\u001b[0;34m)\u001b[0m\u001b[0;34m,\u001b[0m \u001b[0mnp\u001b[0m\u001b[0;34m.\u001b[0m\u001b[0marray\u001b[0m\u001b[0;34m(\u001b[0m\u001b[0;34m[\u001b[0m\u001b[0;34m[\u001b[0m\u001b[0;36m0.0\u001b[0m\u001b[0;34m]\u001b[0m\u001b[0;34m,\u001b[0m \u001b[0;34m[\u001b[0m\u001b[0;36m0.0\u001b[0m\u001b[0;34m]\u001b[0m\u001b[0;34m]\u001b[0m\u001b[0;34m)\u001b[0m\u001b[0;34m)\u001b[0m\u001b[0;34m)\u001b[0m\u001b[0;34m\u001b[0m\u001b[0;34m\u001b[0m\u001b[0m\n",
            "\u001b[0;31mAssertionError\u001b[0m: "
          ]
        }
      ],
      "source": [
        "#@title Test case 1 (Do not modify)\n",
        "# Simple unit tests\n",
        "p0, v0 = np.array([0.6, 0.8, 0.6, 0.3]).reshape(-1, 1), np.array([0.0, 0.0, 0.0, 0.0]).reshape(-1, 1)\n",
        "assert(np.allclose(eval_C(p0, v0), np.array([[0.0], [0.0]])))\n",
        "assert(not np.allclose(eval_C(p0 + 0.1, v0), np.array([[0.0], [0.0]])))\n",
        "assert(np.allclose(eval_Cdot(p0, v0), np.array([[0.0], [0.0]])))\n",
        "assert(not np.allclose(eval_Cdot(p0, v0 + 0.1), np.array([[0.0], [0.0]])))"
      ]
    },
    {
      "cell_type": "markdown",
      "metadata": {
        "id": "dXIjDFqNCgC9"
      },
      "source": [
        "For simplicity, the mass of the beads are all set to 1. Therefore, the mass matrix and inverse mass matrix are simply identity matrices of size 2 * n_particles."
      ]
    },
    {
      "cell_type": "code",
      "execution_count": 6,
      "metadata": {
        "id": "Wp1O-r7KCqAe"
      },
      "outputs": [],
      "source": [
        "M = np.eye(n_particles * 2)\n",
        "# np.eye returns the identity matrix.\n",
        "# We can set the mass values, like M[0, 0] = 1.0, M[1, 1] = 1.0, ... M[3, 3] = 1.0\n",
        "# but not necessary because all the masses are assumed to be zero.\n",
        "W = np.eye(n_particles * 2)"
      ]
    },
    {
      "cell_type": "markdown",
      "metadata": {
        "id": "VCnxHDWhDEod"
      },
      "source": [
        "We can define external forces as [fx1, fy1, fx2, fy2]. In our scenario, the only external force is gravity. Therefore, we can define the force as follows."
      ]
    },
    {
      "cell_type": "code",
      "execution_count": 7,
      "metadata": {
        "id": "sX9tCh4XDWIJ"
      },
      "outputs": [
        {
          "name": "stdout",
          "output_type": "stream",
          "text": [
            "The external force vector = \n",
            " [[  0.]\n",
            " [-10.]\n",
            " [  0.]\n",
            " [-10.]]\n"
          ]
        }
      ],
      "source": [
        " g = -10 # approximated value, instead of -9.8\n",
        " Q = M @ np.tile([0, g], n_particles).reshape(-1, 1)\n",
        " print(\"The external force vector = \\n\", Q)"
      ]
    },
    {
      "cell_type": "markdown",
      "metadata": {
        "id": "qBbBWsS-Ddl1"
      },
      "source": [
        "In order to find lamda, we need to compute **Jacobian** i.e the partial derivative matrix of constraints with each particle and **Jacobian_dot** i.e the time derivative of Jacobian.\n",
        "\n",
        "**[Note]**: Multiplying the constraint function by any non-zero constant also gives a valid constraint.\n",
        "To remove the ambiguity, the given time derivative of Jacobian follows constraints of the form discussed in class: $C(x) =\\frac{1}{2} x^2 - \\frac{1}{2} r^2$\n",
        "\n",
        "**<font color='orange'> \\*\\*Task 3 and 4: Write your code below (10 + 10 pts)\\*\\* </font>**"
      ]
    },
    {
      "cell_type": "code",
      "execution_count": 8,
      "metadata": {
        "id": "rxgVlK83Dpsr"
      },
      "outputs": [],
      "source": [
        "def eval_J(pos, vels):\n",
        "  \"\"\"Evaluates the value of the Jacobian matrix, J.\n",
        "  Args:\n",
        "    pos: a 2N by 1 position vector, [[x1], [y1], [x2], [y2], ...], where N = the number of particles (2 by default)\n",
        "    vels: a 2N by 1 velocity vector, [[vx1], [vy1], [vx2], [vy2], ...], where N = the number of particles (2 by default)\n",
        "  Returns:\n",
        "    The Jacobian matrix, as a np.array of shape (M, 2N), where M = the number of constraints and  N = the number of particles (2 by 4 by default)\n",
        "  \"\"\"\n",
        "  J = np.zeros([n_constraints, n_particles * 2]) # fill in the correct dimension of J\n",
        "  # Student code starts here\n",
        "\n",
        "  # Student code ends here\n",
        "  return J"
      ]
    },
    {
      "cell_type": "code",
      "execution_count": 9,
      "metadata": {
        "id": "BmkLd2ofEXxj"
      },
      "outputs": [],
      "source": [
        "def eval_Jdot(poss, vels):\n",
        "  \"\"\"Evaluates the time derivative of the Jacobian matrix, Jdot.\n",
        "  Args:\n",
        "    pos: a 2N by 1 position vector, [[x1], [y1], [x2], [y2], ...], where N = the number of particles (2 by default)\n",
        "    vels: a 2N by 1 velocity vector, [[vx1], [vy1], [vx2], [vy2], ...], where N = the number of particles (2 by default)\n",
        "  Returns:\n",
        "    The derivative of the Jacobian matrix, as a np.array of shape (M, 2N), where M = the number of constraints and  N = the number of particles (2 by 4 by default)\n",
        "  \"\"\"\n",
        "  Jdot = np.zeros([n_constraints, n_particles * 2]) # fill in the correct dimension of Jdot\n",
        "  # Student code starts here\n",
        "\n",
        "  # Student code ends here\n",
        "  return Jdot"
      ]
    },
    {
      "cell_type": "markdown",
      "metadata": {
        "id": "HTDRe2EPSIzJ"
      },
      "source": [
        "Let's see if your codes can pass the unit test. By definition, J is a partial derivative of C with respect to x and Jdot is a partial derivative of Cdot with respect to x. The below test computes J and Jdot using numerical approximation (https://en.wikipedia.org/wiki/Finite_difference) and compares with your implementation. Please use this part as a sanity check."
      ]
    },
    {
      "cell_type": "code",
      "execution_count": 10,
      "metadata": {
        "cellView": "form",
        "id": "dTMOWDaG63P9"
      },
      "outputs": [],
      "source": [
        "#@title Test case 2 (Do not modify)\n",
        "# Unit tests for J and Jdot\n",
        "# By the definition, J is a partial derivative of C.\n",
        "# And Jdot is a partial derivative of Cdot.\n",
        "# Can we check them with a numerical approximation method?\n",
        "p0, v0 = np.array([0.6, 0.8, 0.6, 0.3]).reshape(-1, 1), np.array([0.0, 0.0, 0.0, 0.0]).reshape(-1, 1)\n",
        "# p0, v0 = np.array([0.6, 0.8, 0.6, 0.3]), np.array([0.8, -0.6, 0.0, 0.0])\n",
        "\n",
        "h = 0.001\n",
        "J = eval_J(p0, v0)\n",
        "Jdot = eval_Jdot(p0, v0)\n",
        "assert(J.shape == (n_constraints, n_particles * 2))\n",
        "assert(Jdot.shape == (n_constraints, n_particles * 2))\n",
        "\n",
        "for i in range(n_particles * 2):\n",
        "  delta = np.zeros([n_particles * 2, 1])\n",
        "  delta[i, 0] = h\n",
        "\n",
        "  # Perturb the i th element of p0 by h\n",
        "  Cm = eval_C(p0 - delta, v0)\n",
        "  Cp = eval_C(p0 + delta, v0)\n",
        "  dC_dpi = (Cp - Cm) / (2 * h) # Numerical approximation with finite difference\n",
        "  assert(np.allclose(dC_dpi, J[:, i].reshape(-1, 1)))\n",
        "\n",
        "  # Perturb the i th element of p0 by h\n",
        "  Cdotm = eval_Cdot(p0 - delta, v0)\n",
        "  Cdotp = eval_Cdot(p0 + delta, v0)\n",
        "  dCdot_dpi = (Cdotp - Cdotm) / (2 * h) # Numerical approximation with finite difference\n",
        "  assert(np.allclose(dCdot_dpi, Jdot[:, i].reshape(-1, 1)))"
      ]
    },
    {
      "cell_type": "markdown",
      "metadata": {
        "id": "HAYlcidjEreV"
      },
      "source": [
        "Now, we need to find the derivatives of positions and velocities of all particles at the current frame by solving the constrained dynamics. It takes the following three steps:\n",
        "\n",
        "1. Evaluate the Lagrangian multipliers (lambda) with feedback terms.\n",
        "2. Evaluate constraint force *Q_hat*.\n",
        "3. Derivatives of positions and velocities of the beads.\n",
        "\n",
        "**<font color='orange'> \\*\\*Task 5, 6, 7: Write your code below (10 + 10 + 10 pts)\\*\\* </font>**\n"
      ]
    },
    {
      "cell_type": "code",
      "execution_count": 11,
      "metadata": {
        "id": "T0XVSnzOE8aj"
      },
      "outputs": [],
      "source": [
        "def eval_derivative(pos, vels):\n",
        "  \"\"\"Evaluates derivaties of the given system by computing the collision forces.\n",
        "  Args:\n",
        "    pos: a 2N by 1 position vector, [[x1], [y1], [x2], [y2], ...], where N = the number of particles (2 by default)\n",
        "    vels: a 2N by 1 velocity vector, [[vx1], [vy1], [vx2], [vy2], ...], where N = the number of particles (2 by default)\n",
        "  Returns:\n",
        "    positions_derivative: a 2N by 1 vector that represents the derivative of the positions, [[xdot1], [ydot1], [xdot2], [ydot2], ...], where N = the number of particles (2 by default)\n",
        "    velocities_derivative: a 2N by 1 vector that represents the derivative of the velocities, [[xdotdot1], [ydotdot1], [xdotdot2], [ydotdot2], ...], where N = the number of particles (2 by default)\n",
        "  \"\"\"\n",
        "  global M, W, Q\n",
        "  C = eval_C(pos, vels)\n",
        "  Cdot = eval_Cdot(pos, vels)\n",
        "  J = eval_J(pos, vels)\n",
        "  Jdot = eval_Jdot(pos, vels)\n",
        "\n",
        "  positions_derivative = np.zeros(pos.shape)\n",
        "  velocities_derivative = np.zeros(vels.shape)\n",
        "\n",
        "  # Feedback terms parameters\n",
        "  # You can tune these values\n",
        "  ks = 1\n",
        "  kd = 1\n",
        "\n",
        "  # Student code starts here\n",
        "\n",
        "  # 1) Compute the Lagrangian multipliers w/ feedback terms\n",
        "\n",
        "  # 2) Compute the constraint forces\n",
        "\n",
        "  # 3) Compute positions_derivative and velocities_derivative\n",
        "\n",
        "\n",
        "  # Student code ends here\n",
        "  assert(positions_derivative.shape == positions.shape)\n",
        "  assert(velocities_derivative.shape == velocities.shape)\n",
        "  return positions_derivative, velocities_derivative\n"
      ]
    },
    {
      "cell_type": "markdown",
      "metadata": {
        "id": "NFeodX3bRaCt"
      },
      "source": [
        "Now we need the integrators.\n",
        "Two integrators, Explicit Euler and Midpoint methods are given."
      ]
    },
    {
      "cell_type": "code",
      "execution_count": 12,
      "metadata": {
        "id": "cMDDPBCB8UHK"
      },
      "outputs": [],
      "source": [
        "def explicit_euler(dt):\n",
        "  \"\"\"Advances the positions and velocities by dt using the Euler method.\"\"\"\n",
        "  global positions, velocities\n",
        "  # modifies positions, velocities\n",
        "  dp, dv = eval_derivative(positions, velocities)\n",
        "  positions += dt * dp\n",
        "  velocities += dt * dv\n",
        "\n",
        "def mid_point(dt):\n",
        "  \"\"\"Advances the positions and velocities by dt using the Midpoint method.\"\"\"\n",
        "  global positions, velocities\n",
        "  # modifies positions, velocities\n",
        "  dp, dv = eval_derivative(positions, velocities)\n",
        "  mp = positions + dt * dp * 0.5\n",
        "  mv = velocities + dt * dv * 0.5\n",
        "  dp, dv = eval_derivative(mp, mv)\n",
        "  positions += dt * dp\n",
        "  velocities += dt * dv\n",
        "\n",
        "def update(dt):\n",
        "  global positions, velocities, constraint_values\n",
        "  # **** change this line if you want to switch the integrator ****\n",
        "  # explicit_euler(dt)\n",
        "  mid_point(dt)\n",
        "\n",
        "  # record the constraint values\n",
        "  C = eval_C(positions, velocities)\n",
        "  constraint_values.append(C.reshape(-1))\n"
      ]
    },
    {
      "cell_type": "markdown",
      "metadata": {
        "id": "rs1p1POg3tCQ"
      },
      "source": [
        "Function calls for creating animations. Do not modify this part (unless you are working on extra questions)."
      ]
    },
    {
      "cell_type": "code",
      "execution_count": 13,
      "metadata": {
        "cellView": "form",
        "id": "3VF_nKcN30f8"
      },
      "outputs": [
        {
          "data": {
            "image/png": "[encoded data removed]",
            "text/plain": [
              "<Figure size 432x288 with 1 Axes>"
            ]
          },
          "metadata": {
            "needs_background": "light"
          },
          "output_type": "display_data"
        }
      ],
      "source": [
        "#@title Animation (do not modify)\n",
        "n = n_particles\n",
        "# Figure and shape placeholders\n",
        "fig, ax = plt.subplots()\n",
        "ax.set_xlim((-3.0, 3.0))\n",
        "ax.set_ylim((-2.0, 2.0))\n",
        "circle, = ax.plot([], [], 'b')\n",
        "rod, = ax.plot([], [], 'k')\n",
        "beads = []\n",
        "for i in range(n):\n",
        "  bead = plt.Circle((0, 0), 0.10, color='r')\n",
        "  beads.append(bead)\n",
        "  ax.add_artist(bead)\n",
        "\n",
        "# plot circle, rod and beads\n",
        "def plot_scene():\n",
        "  circle.set_data(np.cos(np.linspace(0, 2*np.pi, 100)), np.sin(np.linspace(0, 2*np.pi, 100)))\n",
        "  rod.set_data([positions[0], positions[2]], [positions[1], positions[3]])\n",
        "  for i in range(n):\n",
        "    beads[i].set_center(positions[2*i:2*i+2])\n",
        "\n",
        "# Called before the first frame\n",
        "def init_animation():\n",
        "  plot_scene()\n",
        "  return []\n",
        "\n",
        "# Called every frame\n",
        "def animate(i):\n",
        "  if i % 25 == 0:\n",
        "    print(\"Generating frame #%d...\" % i)\n",
        "  update(0.01)\n",
        "  plot_scene()\n",
        "  return []\n",
        "\n",
        "\n"
      ]
    },
    {
      "cell_type": "markdown",
      "metadata": {
        "id": "npYpPqYmdFWs"
      },
      "source": [
        "Generate your animation!"
      ]
    },
    {
      "cell_type": "code",
      "execution_count": 14,
      "metadata": {
        "id": "eZ1uSekS3Hhm"
      },
      "outputs": [
        {
          "name": "stdout",
          "output_type": "stream",
          "text": [
            "Generating frame #0...\n",
            "Generating frame #25...\n",
            "Generating frame #50...\n",
            "Generating frame #75...\n",
            "Generating frame #100...\n",
            "Generating frame #125...\n",
            "Generating frame #150...\n",
            "Generating frame #175...\n",
            "Generating frame #200...\n",
            "Generating frame #225...\n",
            "Generating frame #250...\n",
            "Generating frame #275...\n",
            "Generating frame #300...\n",
            "Generating frame #325...\n",
            "Generating frame #350...\n",
            "Generating frame #375...\n",
            "Generating frame #400...\n",
            "Generating frame #425...\n",
            "Generating frame #450...\n",
            "Generating frame #475...\n"
          ]
        },
        {
          "data": {
            "text/html": [
              "<video width=\"432\" height=\"288\" controls autoplay loop>\n",
              "  <source type=\"video/mp4\" src=\"data:video/mp4;base64,AAAAIGZ0eXBNNFYgAAACAE00ViBpc29taXNvMmF2YzEAAAAIZnJlZQAAUI5tZGF0AAACrgYF//+q\n",
              "3EXpvebZSLeWLNgg2SPu73gyNjQgLSBjb3JlIDE2NCByMzA5NSBiYWVlNDAwIC0gSC4yNjQvTVBF\n",
              "Ry00IEFWQyBjb2RlYyAtIENvcHlsZWZ0IDIwMDMtMjAyMiAtIGh0dHA6Ly93d3cudmlkZW9sYW4u\n",
              "b3JnL3gyNjQuaHRtbCAtIG9wdGlvbnM6IGNhYmFjPTEgcmVmPTMgZGVibG9jaz0xOjA6MCBhbmFs\n",
              "eXNlPTB4MzoweDExMyBtZT1oZXggc3VibWU9NyBwc3k9MSBwc3lfcmQ9MS4wMDowLjAwIG1peGVk\n",
              "X3JlZj0xIG1lX3JhbmdlPTE2IGNocm9tYV9tZT0xIHRyZWxsaXM9MSA4eDhkY3Q9MSBjcW09MCBk\n",
              "ZWFkem9uZT0yMSwxMSBmYXN0X3Bza2lwPTEgY2hyb21hX3FwX29mZnNldD0tMiB0aHJlYWRzPTkg\n",
              "bG9va2FoZWFkX3RocmVhZHM9MSBzbGljZWRfdGhyZWFkcz0wIG5yPTAgZGVjaW1hdGU9MSBpbnRl\n",
              "cmxhY2VkPTAgYmx1cmF5X2NvbXBhdD0wIGNvbnN0cmFpbmVkX2ludHJhPTAgYmZyYW1lcz0zIGJf\n",
              "cHlyYW1pZD0yIGJfYWRhcHQ9MSBiX2JpYXM9MCBkaXJlY3Q9MSB3ZWlnaHRiPTEgb3Blbl9nb3A9\n",
              "MCB3ZWlnaHRwPTIga2V5aW50PTI1MCBrZXlpbnRfbWluPTI1IHNjZW5lY3V0PTQwIGludHJhX3Jl\n",
              "ZnJlc2g9MCByY19sb29rYWhlYWQ9NDAgcmM9Y3JmIG1idHJlZT0xIGNyZj0yMy4wIHFjb21wPTAu\n",
              "NjAgcXBtaW49MCBxcG1heD02OSBxcHN0ZXA9NCBpcF9yYXRpbz0xLjQwIGFxPTE6MS4wMACAAAAP\n",
              "EWWIhAAz//727L4FNf2f0JcRLMXaSnA+KqSAgHc0wAAAAwAAeB3vPlFGzBiATJpO5zS2mjYBzLWG\n",
              "6U3OFTNj0AVfy5nS4RqjSkOm8KD08DhrBXJaApGYHCIxqJCFgAABT4kBqlpsur6pfDCYewK2UJak\n",
              "eZbVR7c+VcoJ2I/RZWSWJbFtcGjylg970S+uH6AEki5bz6D4/+eqNQZzb6Mg7r25XgRiMp8jKNNp\n",
              "KwZ4FeGhay8VTg9nCQzC9Z3+qTq0IJGaJoueiDR/vSkSOp8NFRPGM3CvNeQ6qLrHCGRATvfzN0Fa\n",
              "kYxTqfnCtczeOcf3R3Zm40kPi0ifVe7n2X8D8FLqqfAntiumX9nMZhEYrnJPvxcWGgQzv2uW1Vc6\n",
              "8x+O4LbjklCOPWtj8zq39aCXngF+qUldMTj0qIIlWn3dbdxP1m0CbTAAAAZN67/BjG1Grq8SCjEp\n",
              "jE+NRBPt1O9BxPCEg/ssy+uxDL2dkTKnibrFl+kbXw9T86bbo+AAHsrP5c6S3j6Wy4n/7/u9VTQB\n",
              "U+myrCrsLGziJeMpDNLtbt4flmtbv3L9PhZeXAIFCCAoJPhvXTzDnrGYRGOMmY8zuJnZQP9oJCPR\n",
              "q7uKLWC+/3pim2gsrzYgQsLilzYssWhZ70zZWJy+RGMC5P9/4fosoM189MzMnTwsy55GjxUOHpYp\n",
              "MqO0ooO0kuJD/4SdxYCv+wttCfgCh/xG6jn6D+NucEl8FbKU+tJb3v0gmbUAQw5YG+lDTOikZjLb\n",
              "OfAAV2ncdUm7VPyde8RwP23rdVND0OgnNkrMBT7Wgg+QEAf4y1rXA/z30qpvwuPXa/SNtq+jiElQ\n",
              "7LJeEL6yKzfnvtvRVhM7aMsfGuqzDS44/WlOswYlLnD8XlriXamKlxYqSNEQRiTaOTAbltogf6Qz\n",
              "lcjDBJ5WEtodvjCv+B+E/SiUsQjCAzHJjmXi7eU0Mzgs9huAWllDZlNeVeTFAGjRipKJvov+aNVZ\n",
              "ffgYd2pOAW6P+0QYx0PARlbbxEUO9nzN6HVhzL1K6r0Xq2nsJTgpRucXcLw9vQYBtAsrdaYkAmgN\n",
              "jqbPirY7sEF38xY2+XPD9VA/iVCdqBcwPvZWtOldOXsZeSliYQa7zAIXxCj+aQlojTOLu6RMfmnW\n",
              "j8UPylpCFKn/TVkgz3K1pX0QPP3iFjmpzkEKHHaH2E168CymH8F7ZW+ax+uBd641+VRUbQbO/VFZ\n",
              "WTVS7lFYHWYtybVLUf84mME/r8ZYaMP9XD486cZ6SrYStQRA0r10G53STVHrR0B6nKV/6k3ecWcY\n",
              "oAeHLdzFPz7OeMtH19Mn3A1YCEftrQ3r7LrzrhRl/jf1MJBBA3iWFYJarhfQh34cktoV1xxIGD4U\n",
              "kkWBTxOGA5gq+FKTNyJxq/9+U1AFX2NWzWxi5s5ENQjD6e+4OOS3hRVBz/j+sBrff9VNtQl/kj3y\n",
              "RiHDgVa4VcZjBVuH2ZXWs8niUO9dxCBz9qk2HF84veZ3ktuXyWOzM29bgr1MZ/MU0HfuTkgfd1BL\n",
              "lKbXbcMj726VPAjnkjs+4uHEdKSWfDcCCQe6khoDy0knRlIJ3oHRUXNBjU9T07BF+eHxxmqxoN8s\n",
              "9Edkso5PbekTb+j+m697T5fZ79mLA93srJRx6gvZzW4meMIMqcD2UHChLKrK9lGl9ikpwlgXxqUq\n",
              "ebCXyIzYmWt1Y50XfLU+553c0LorGpVHpMc0xrCFaXxHG1sLqHbXopQDlKMp+Yo1jFEFNaVT1hHV\n",
              "wLGu8DhuAXIFth2BJQRf2wSCEp/T++I3x3IC/vI9Jkfg8hAemSobSQHkxoyGRwdSet6dJ9AxZeTR\n",
              "v0VZubDBBDLxvVvnyQSwDQvtDXdRbxWBKHPuVbiQtSQ4pp+CJFk6Dv6NOP4lN2OldICU0ox1d/pA\n",
              "mFEKPub1TouKZE5uG2YlrZQulQHl8DHdTcEiN7fLcVxS0kHBQgN/4hR2kIQgcFWFtMz4WzLGacf8\n",
              "GfuMKKNCC6bkgcGNLEPj2v7mVHRk1D0DkJ576+O1FY2weLOckHlHec6JHciz91dBa/glWYNlMAio\n",
              "LekIPyhs9FXFCOGkL8qOTuji+Jo8bm1Rzp3jpq2VbrQaOUkFJpXZVNbqYRrgRqeVqhybTe3mZwrM\n",
              "lgGuNp3BZeVgiGEvXNp1QvkOaW94NkaEOqZtvP9UYkyy5tMyKMAPOzIIB4th+EnowqryjFpw4hba\n",
              "/gHtED+D+WS+cG94+wEwCiBTqtJ45YcsadXmK++aP9US7nQpOAGVPH9gv/MYatC2yFClsq8N9R24\n",
              "VYwQQCvvo7pepImX18ms+nmqeagOmHCYVla+kMjjSskLsA/dS0T7l6jlsizGfkP7yPZVQ3ALXnK3\n",
              "mJ6MRU8CaENtPA0Q7R25vZIQuyOLBAuZ9qHgRgwjOcoZ1gnFuxrwQMYFfoEFfG32VzpUStmumrSI\n",
              "pyIcQ6eRslIubz6sybCmE3furQRun4aczaBo9hkrV4GWPNyZkFTEMlCufbYpOBBJR06w0WwPPxej\n",
              "bY3khwUzNF0VPPMU3n12VBjV61hZqAsiFPjV6G0ub78k16YwC1gygoqOtRrqclsUg9vbVQbpk87o\n",
              "L38XZ3SpvGIecphPH7aJIOJQeld53GBJp7//87cFtm1x+RJqDxXzkbS4B92kybRQP0v2nLGVPXiS\n",
              "vmx7CsKKSP9ncXyb5cQIM4RwNu/2utAdFwIxYoBqKYDsVhVkRP1+fGBWIqc+N00zXHyuFEQkJ7Wq\n",
              "X0yieWfhx+IE6sBUPgt8pkKjXMSe/3gZHccNDIUpZanNYoS0nM/PGvXajo8f2ReLhQ9jkbI8XzBZ\n",
              "bAb7t0BxSqF6JT+HdaFi7uBrcwnmPRbdnIA1QRnAL3sOeAd47KiS83ugagMOl4HnJiIVJXVZzmf/\n",
              "9kIXwXuZXb229u6Y1r7CXYScj4NebBU4vSUGaPPsUm7+MFXT14HL3gJHz52w/gNAk+TYtX2j7rwb\n",
              "AUBdD5uhDNL4nc0Uc5AI0DyXlPHlu2BY9Bq6cesW6QFI/u18bhZiREM6DerRheHFApaWHMVJou9/\n",
              "MOSfTapN77N4Nx7tzzEkt3ZWJ1d/XPe67HOC48mkakYoRsBy7Je3TgxKK/aPNEiSJ+lkAAFEcUtD\n",
              "uyCgc/ONsFl4LeevVqGVl50+i0TiIv048XJLom8o32nhJWr7I96n1BZ90x4dqM0LPhJUePvnnBgD\n",
              "FydlEZwSrZcX6TMY/g+JXtneQNmodbcGAIux8hrjrUpL5VZu6R9dyS5rFSTdU+/CvC6ona8/Epu6\n",
              "Q4ONJuPpZkiVNLJG+4GekPLViteGh8LqfVXCp+pcxK2zJ+R092Z/mcxjzqCln7AGQnr26fHlOKvD\n",
              "uqm4GNYlqnHBecNAPPbgdU0by60aErAu8aPF2DSHViQBiBQZj8v/mcDZhtmmsTl/9qaOARfXKcit\n",
              "Rpsw4ZeDCcrmCeP5pPYpnMFD5oxcfYQ1MuI9TpLe+nFUg3JviOhbbmekJY/WMLXv+yEtYyZ/y4NC\n",
              "wHX9c8+IpL7BDjWP7kVHnxKNDQF2yLSmD7C3gOBX4ZQcJdT4USj+hb6/gcwdCBdktzhuHifz8Ffo\n",
              "CmVkhYHb1OQz6vac0sySTTfmCtwiclqelXvrQtEmhnZop5GdD5SNmXVlF7wKUzsrOlfv+/UbgnnB\n",
              "bi50p1GNAGoAtd0g9TBe823UfOkM2Qduai/a719MNxiBTtGpvxKeaCdBDst1Xo0H2+VK+Qwxgduv\n",
              "2HbDU5CRk+ThPLyG950ery6TfbvPjWfLN2bTVJYRBc3sMj+3rBsDqC3j1qn6dM4ouOd6nH+vafhD\n",
              "16aepBTSxth0lNlw9pkpnZwiqDrA1rRsooqD5hkW7Wf6sC9El8X0W2zcQZ8ZEdgEni0DOH6LLl0w\n",
              "+4aA2IhMG+pOnRohM7VndWy8UE/8UE3bkMhg1I6yNNnNdZM6cU7KHqCfiOEm0HXKXXukHY//U+o3\n",
              "IPGWDTUJ/X4RT77XXfl5S3g1cgGOYwVogDRuGWJAHoUtUM62lD+RC2y97Wol1ziYwEfsSiD9MYtj\n",
              "+7/8fTauxlAjAho4wpCI0dlsNkNB6cxNYfWuwc2asiy+i2Mre65GSynbiidFI7ChE3n7LszAnGpw\n",
              "jviwbav3s0sLNpEA2mCT/2wCDZDVKxkyyoMctHKxnF1alXpmCfjhjtu+OG6B7qVxPw4KabkVCwuR\n",
              "Pxi+D961FET+ZMn+urOwaDlOH+BzSRl7laot///JBf/TlrwB08pQywf7dvOv1gTlRHvZ5tmaDWi2\n",
              "xkUPiJ0GZuGC0sf3Rg2HP9j5pAuRCJn8kI5YlkHM7+qzefZMNTOgjjijKTbHyKjjWXTfjNLcJMyN\n",
              "HsOzX/Owbj6TO4F6HI1WHBRofWttwzgabOrJeT3dr3YdMWSuS5lrk5CEzKhUzLINFsAZAmR04IUJ\n",
              "pxPty/eg+tRkIeXToDR/tfMNPbln5kGi2AMgRcunmzsvlstSoMTVh91vC2p/IgrP6M0PNzUDd6Ow\n",
              "eVXujc9Pfuo7D0EEKZKjsNSIzfXz61smJzza4ZqskbvcI+ToMIYyfqk5gjanl5uoX4JKW24aPODC\n",
              "v7EAHcoMcPOscJNaHE1CKP6ZLtDb5t7RlZTeU/gBsW46RZFeL3DnAcCmAo/F2BfZPCGxzMK+WJuR\n",
              "KXfDILRO+g0XuyWmElesEHRgB5sRLqvrLY2bbi4rpqNUeJ2Vf+qK6tE2LSGlr1Z5y9oSihAOYx/z\n",
              "OF6VYBRkU1Q/lzrUgjWYoRg+X1CPEmKcqNLNil+hmRA539VkcU4u/wAeMEy1ol6IdcpQLP8Fi0VA\n",
              "psVyVQiwcQ4Ub5zQNcIpTB62b5Rm/MsF9m93ei1ZzGzLiB3VIsgaH0EaxFtqvHjhyn1WSCR7nrKS\n",
              "JDBa8ynkZ+Djot0f0IXkfqNvY9aEYh7MRrgQBvMKuvF1+UUisma2BzCNDeWH0wRE7P9Hpe3yS4QO\n",
              "aw7uRAuftrbgeP+DEVbk2OQ3Eue2x2/CMMpkXCVt4DHVC0h3GaWG64Silz42/JWp2d9Dt5t0aDu/\n",
              "4BS+f3h2GNU+fFKwMmLFAgSQhZHp10TJl+WduxKoobaQ603Iqi3f3mcgexTOQ3FVW/xcymsQaVg8\n",
              "3HZ9lM7612wEKOHn3CxPFOoSjakTsh8No3jMQAC0Td46fRv5CS2hAAABNUGaJGxDP/6eEAeyoFgA\n",
              "5VFWas0IOO9ghWgHzoLhaBM+P0W1HrZl2Is7MyRvgVFswIa66ESjtl3PvyF9vsupa+KqbElLK/Du\n",
              "KS2hGMaBax7talUOzgGUjtSoSfCJRJ8ZvujXEpoouu/kINcIyxBEXUoQBUwoIa+lSqqSWfAz64jw\n",
              "zOURNZ7ec/86yWXfsaTM6Q7txijNsuS04l5vG6hVbarxPpbBixmjl85q+9C0lUzkEP6S9nVn8omg\n",
              "JK8KyKTzmq/JpMdq61oaOen7Qjv4e2hXHO9djwnLkfWJKESReanNbWJj+yRnSt1WNWX806qQLnF1\n",
              "vVFinGy8btYZoFRYR5u9oaAoxyKawFEvrnQ1pWGSVeVChpaPSSvXIj6hcr5Xk3pO+BO0ynd1jLiD\n",
              "eqJRz0jzDSUDDAAAAExBnkJ4hH8CKvZeC1AJAQ+2Xrdmco12o+6YYIolS7ooujNwNlutGWmix5rY\n",
              "rmdMpQb9zxqt8WzORFWPINxOrj2qCk1+Bi3sslCC0WJXAAAALwGeYXRH/wNvgCwpmZ07cQAAAwAm\n",
              "IaPapliVJRCfAEsnwhyRsF0X/dpeOsWJCXHzAAAAJQGeY2pH/wNdJUgmm5nWDgAAAwAGu9UyyohZ\n",
              "jKBMYAwgfUm8uIEAAAAvQZpoSahBaJlMCGf//p4Qf+LFc4XPFjPr9tk8fixiAAAF75aplgAiWg+m\n",
              "x1INFYEAAAAoQZ6GRREsI/8CGv6u/JvrwxAAAcu2pVK6LQSTSN6kCMvT18II3jP14QAAACUBnqV0\n",
              "R/8H53Crgi8xrpd1oAAAAwLJjRllCC9oaEJh7z+5kZwxAAAAFQGep2pH/wfkq4CwKUq7NWw4q63p\n",
              "2wAAABNBmqxJqEFsmUwIZ//+nhAAAAdMAAAAFUGeykUVLCP/ACPFQGIEqBqWIL47KQAAABIBnul0\n",
              "R/8AOJFN+J4Q7VLnWCgAAAASAZ7rakf/ADiwAZfCgp0IFoi6AAAAE0Ga8EmoQWyZTAhn//6eEAAA\n",
              "B00AAAAVQZ8ORRUsI/8AI8VAYgSoGpYgvjspAAAAEgGfLXRH/wA4kU34nhDtUudYKQAAABIBny9q\n",
              "R/8AOLABl8KCnQgWiLoAAAATQZs0SahBbJlMCGf//p4QAAAHTAAAABVBn1JFFSwj/wAjxUBiBKga\n",
              "liC+OykAAAASAZ9xdEf/ADiRTfieEO1S51goAAAAEgGfc2pH/wA4sAGXwoKdCBaIugAAABNBm3hJ\n",
              "qEFsmUwIZ//+nhAAAAdNAAAAFUGflkUVLCP/ACPFQGIEqBqWIL47KAAAABIBn7V0R/8AOJFN+J4Q\n",
              "7VLnWCkAAAASAZ+3akf/ADiwAZfCgp0IFoi7AAAAE0GbvEmoQWyZTAhn//6eEAAAB0wAAAAVQZ/a\n",
              "RRUsI/8AI8VAYgSoGpYgvjspAAAAEgGf+XRH/wA4kU34nhDtUudYKAAAABIBn/tqR/8AOLABl8KC\n",
              "nQgWiLsAAAATQZvgSahBbJlMCGf//p4QAAAHTQAAABVBnh5FFSwj/wAjxUBiBKgaliC+OygAAAAS\n",
              "AZ49dEf/ADiRTfieEO1S51goAAAAEgGeP2pH/wA4sAGXwoKdCBaIuwAAABNBmiRJqEFsmUwIZ//+\n",
              "nhAAAAdMAAAAFUGeQkUVLCP/ACPFQGIEqBqWIL47KQAAABIBnmF0R/8AOJFN+J4Q7VLnWCgAAAAS\n",
              "AZ5jakf/ADiwAZfCgp0IFoi7AAAAE0GaaEmoQWyZTAhn//6eEAAAB00AAAAVQZ6GRRUsI/8AI8VA\n",
              "YgSoGpYgvjspAAAAEgGepXRH/wA4kU34nhDtUudYKQAAABIBnqdqR/8AOLABl8KCnQgWiLoAAAAT\n",
              "QZqsSahBbJlMCGf//p4QAAAHTAAAABVBnspFFSwj/wAjxUBiBKgaliC+OykAAAASAZ7pdEf/ADiR\n",
              "TfieEO1S51goAAAAEgGe62pH/wA4sAGXwoKdCBaIugAAABNBmvBJqEFsmUwIZ//+nhAAAAdNAAAA\n",
              "FUGfDkUVLCP/ACPFQGIEqBqWIL47KQAAABIBny10R/8AOJFN+J4Q7VLnWCkAAAASAZ8vakf/ADiw\n",
              "AZfCgp0IFoi6AAAAE0GbNEmoQWyZTAhn//6eEAAAB0wAAAAVQZ9SRRUsI/8AI8VAYgSoGpYgvjsp\n",
              "AAAAEgGfcXRH/wA4kU34nhDtUudYKAAAABIBn3NqR/8AOLABl8KCnQgWiLoAAAATQZt4SahBbJlM\n",
              "CGf//p4QAAAHTQAAABVBn5ZFFSwj/wAjxUBiBKgaliC+OygAAAASAZ+1dEf/ADiRTfieEO1S51gp\n",
              "AAAAEgGft2pH/wA4sAGXwoKdCBaIuwAAABNBm7xJqEFsmUwIZ//+nhAAAAdMAAAAFUGf2kUVLCP/\n",
              "ACPFQGIEqBqWIL47KQAAABIBn/l0R/8AOJFN+J4Q7VLnWCgAAAASAZ/7akf/ADiwAZfCgp0IFoi7\n",
              "AAAAE0Gb4EmoQWyZTAhn//6eEAAAB00AAAAVQZ4eRRUsI/8AI8VAYgSoGpYgvjsoAAAAEgGePXRH\n",
              "/wA4kU34nhDtUudYKAAAABIBnj9qR/8AOLABl8KCnQgWiLsAAAATQZokSahBbJlMCGf//p4QAAAH\n",
              "TAAAABVBnkJFFSwj/wAjxUBiBKgaliC+OykAAAASAZ5hdEf/ADiRTfieEO1S51goAAAAEgGeY2pH\n",
              "/wA4sAGXwoKdCBaIuwAAABNBmmhJqEFsmUwIZ//+nhAAAAdNAAAAFUGehkUVLCP/ACPFQGIEqBqW\n",
              "IL47KQAAABIBnqV0R/8AOJFN+J4Q7VLnWCkAAAASAZ6nakf/ADiwAZfCgp0IFoi6AAAAE0GarEmo\n",
              "QWyZTAhn//6eEAAAB0wAAAAVQZ7KRRUsI/8AI8VAYgSoGpYgvjspAAAAEgGe6XRH/wA4kU34nhDt\n",
              "UudYKAAAABIBnutqR/8AOLABl8KCnQgWiLoAAAATQZrwSahBbJlMCGf//p4QAAAHTQAAABVBnw5F\n",
              "FSwj/wAjxUBiBKgaliC+OykAAAASAZ8tdEf/ADiRTfieEO1S51gpAAAAEgGfL2pH/wA4sAGXwoKd\n",
              "CBaIugAAABNBmzRJqEFsmUwIZ//+nhAAAAdMAAAAFUGfUkUVLCP/ACPFQGIEqBqWIL47KQAAABIB\n",
              "n3F0R/8AOJFN+J4Q7VLnWCgAAAASAZ9zakf/ADiwAZfCgp0IFoi6AAAAE0GbeEmoQWyZTAhn//6e\n",
              "EAAAB00AAAAVQZ+WRRUsI/8AI8VAYgSoGpYgvjsoAAAAEgGftXRH/wA4kU34nhDtUudYKQAAABIB\n",
              "n7dqR/8AOLABl8KCnQgWiLsAAAATQZu8SahBbJlMCGf//p4QAAAHTAAAABVBn9pFFSwj/wAjxUBi\n",
              "BKgaliC+OykAAAASAZ/5dEf/ADiRTfieEO1S51goAAAAEgGf+2pH/wA4sAGXwoKdCBaIuwAAABNB\n",
              "m+BJqEFsmUwIZ//+nhAAAAdNAAAAFUGeHkUVLCP/ACPFQGIEqBqWIL47KAAAABIBnj10R/8AOJFN\n",
              "+J4Q7VLnWCgAAAASAZ4/akf/ADiwAZfCgp0IFoi7AAAAE0GaJEmoQWyZTAhn//6eEAAAB0wAAAAV\n",
              "QZ5CRRUsI/8AI8VAYgSoGpYgvjspAAAAEgGeYXRH/wA4kU34nhDtUudYKAAAABIBnmNqR/8AOLAB\n",
              "l8KCnQgWiLsAAAATQZpoSahBbJlMCGf//p4QAAAHTQAAABVBnoZFFSwj/wAjxUBiBKgaliC+OykA\n",
              "AAASAZ6ldEf/ADiRTfieEO1S51gpAAAAEgGep2pH/wA4sAGXwoKdCBaIugAAABNBmqxJqEFsmUwI\n",
              "Z//+nhAAAAdMAAAAFUGeykUVLCP/ACPFQGIEqBqWIL47KQAAABIBnul0R/8AOJFN+J4Q7VLnWCgA\n",
              "AAASAZ7rakf/ADiwAZfCgp0IFoi6AAAAE0Ga8EmoQWyZTAhn//6eEAAAB00AAAAVQZ8ORRUsI/8A\n",
              "I8VAYgSoGpYgvjspAAAAEgGfLXRH/wA4kU34nhDtUudYKQAAABIBny9qR/8AOLABl8KCnQgWiLoA\n",
              "AAATQZs0SahBbJlMCGf//p4QAAAHTAAAABVBn1JFFSwj/wAjxUBiBKgaliC+OykAAAASAZ9xdEf/\n",
              "ADiRTfieEO1S51goAAAAEgGfc2pH/wA4sAGXwoKdCBaIugAAABNBm3hJqEFsmUwIZ//+nhAAAAdN\n",
              "AAAAFUGflkUVLCP/ACPFQGIEqBqWIL47KAAAABIBn7V0R/8AOJFN+J4Q7VLnWCkAAAASAZ+3akf/\n",
              "ADiwAZfCgp0IFoi7AAAAE0GbvEmoQWyZTAhn//6eEAAAB0wAAAAVQZ/aRRUsI/8AI8VAYgSoGpYg\n",
              "vjspAAAAEgGf+XRH/wA4kU34nhDtUudYKAAAABIBn/tqR/8AOLABl8KCnQgWiLsAAAATQZvgSahB\n",
              "bJlMCGf//p4QAAAHTQAAABVBnh5FFSwj/wAjxUBiBKgaliC+OygAAAASAZ49dEf/ADiRTfieEO1S\n",
              "51goAAAAEgGeP2pH/wA4sAGXwoKdCBaIuwAAABNBmiRJqEFsmUwIZ//+nhAAAAdMAAAAFUGeQkUV\n",
              "LCP/ACPFQGIEqBqWIL47KQAAABIBnmF0R/8AOJFN+J4Q7VLnWCgAAAASAZ5jakf/ADiwAZfCgp0I\n",
              "Foi7AAAAE0GaaEmoQWyZTAhn//6eEAAAB00AAAAVQZ6GRRUsI/8AI8VAYgSoGpYgvjspAAAAEgGe\n",
              "pXRH/wA4kU34nhDtUudYKQAAABIBnqdqR/8AOLABl8KCnQgWiLoAAAATQZqsSahBbJlMCGf//p4Q\n",
              "AAAHTAAAABVBnspFFSwj/wAjxUBiBKgaliC+OykAAAASAZ7pdEf/ADiRTfieEO1S51goAAAAEgGe\n",
              "62pH/wA4sAGXwoKdCBaIugAAABNBmvBJqEFsmUwIZ//+nhAAAAdNAAAAFUGfDkUVLCP/ACPFQGIE\n",
              "qBqWIL47KQAAABIBny10R/8AOJFN+J4Q7VLnWCkAAAASAZ8vakf/ADiwAZfCgp0IFoi6AAAAE0Gb\n",
              "NEmoQWyZTAhn//6eEAAAB0wAAAAVQZ9SRRUsI/8AI8VAYgSoGpYgvjspAAAAEgGfcXRH/wA4kU34\n",
              "nhDtUudYKAAAABIBn3NqR/8AOLABl8KCnQgWiLoAAAATQZt4SahBbJlMCGf//p4QAAAHTQAAABVB\n",
              "n5ZFFSwj/wAjxUBiBKgaliC+OygAAAASAZ+1dEf/ADiRTfieEO1S51gpAAAAEgGft2pH/wA4sAGX\n",
              "woKdCBaIuwAAABNBm7xJqEFsmUwIZ//+nhAAAAdMAAAAFUGf2kUVLCP/ACPFQGIEqBqWIL47KQAA\n",
              "ABIBn/l0R/8AOJFN+J4Q7VLnWCgAAAASAZ/7akf/ADiwAZfCgp0IFoi7AAAAE0Gb4EmoQWyZTAhn\n",
              "//6eEAAAB00AAAAVQZ4eRRUsI/8AI8VAYgSoGpYgvjsoAAAAEgGePXRH/wA4kU34nhDtUudYKAAA\n",
              "ABIBnj9qR/8AOLABl8KCnQgWiLsAAAATQZokSahBbJlMCGf//p4QAAAHTAAAABVBnkJFFSwj/wAj\n",
              "xUBiBKgaliC+OykAAAASAZ5hdEf/ADiRTfieEO1S51goAAAAEgGeY2pH/wA4sAGXwoKdCBaIuwAA\n",
              "ABNBmmhJqEFsmUwIZ//+nhAAAAdNAAAAFUGehkUVLCP/ACPFQGIEqBqWIL47KQAAABIBnqV0R/8A\n",
              "OJFN+J4Q7VLnWCkAAAASAZ6nakf/ADiwAZfCgp0IFoi6AAAAE0GarEmoQWyZTAhn//6eEAAAB0wA\n",
              "AAAVQZ7KRRUsI/8AI8VAYgSoGpYgvjspAAAAEgGe6XRH/wA4kU34nhDtUudYKAAAABIBnutqR/8A\n",
              "OLABl8KCnQgWiLoAAAATQZrwSahBbJlMCGf//p4QAAAHTQAAABVBnw5FFSwj/wAjxUBiBKgaliC+\n",
              "OykAAAASAZ8tdEf/ADiRTfieEO1S51gpAAAAEgGfL2pH/wA4sAGXwoKdCBaIugAAABNBmzRJqEFs\n",
              "mUwIZ//+nhAAAAdMAAAAFUGfUkUVLCP/ACPFQGIEqBqWIL47KQAAABIBn3F0R/8AOJFN+J4Q7VLn\n",
              "WCgAAAASAZ9zakf/ADiwAZfCgp0IFoi6AAAAE0GbeEmoQWyZTAhn//6eEAAAB00AAAAVQZ+WRRUs\n",
              "I/8AI8VAYgSoGpYgvjsoAAAAEgGftXRH/wA4kU34nhDtUudYKQAAABIBn7dqR/8AOLABl8KCnQgW\n",
              "iLsAAAATQZu8SahBbJlMCGf//p4QAAAHTAAAABVBn9pFFSwj/wAjxUBiBKgaliC+OykAAAASAZ/5\n",
              "dEf/ADiRTfieEO1S51goAAAAEgGf+2pH/wA4sAGXwoKdCBaIuwAAABNBm+BJqEFsmUwIZ//+nhAA\n",
              "AAdNAAAAFUGeHkUVLCP/ACPFQGIEqBqWIL47KAAAABIBnj10R/8AOJFN+J4Q7VLnWCgAAAASAZ4/\n",
              "akf/ADiwAZfCgp0IFoi7AAAAE0GaJEmoQWyZTAhn//6eEAAAB0wAAAAVQZ5CRRUsI/8AI8VAYgSo\n",
              "GpYgvjspAAAAEgGeYXRH/wA4kU34nhDtUudYKAAAABIBnmNqR/8AOLABl8KCnQgWiLsAAAATQZpo\n",
              "SahBbJlMCGf//p4QAAAHTQAAABVBnoZFFSwj/wAjxUBiBKgaliC+OykAAAASAZ6ldEf/ADiRTfie\n",
              "EO1S51gpAAAAEgGep2pH/wA4sAGXwoKdCBaIugAAABNBmqxJqEFsmUwIZ//+nhAAAAdMAAAAFUGe\n",
              "ykUVLCP/ACPFQGIEqBqWIL47KQAAABIBnul0R/8AOJFN+J4Q7VLnWCgAAAASAZ7rakf/ADiwAZfC\n",
              "gp0IFoi6AAAAE0Ga8EmoQWyZTAhn//6eEAAAB00AAAAVQZ8ORRUsI/8AI8VAYgSoGpYgvjspAAAA\n",
              "EgGfLXRH/wA4kU34nhDtUudYKQAAABIBny9qR/8AOLABl8KCnQgWiLoAAAATQZs0SahBbJlMCGf/\n",
              "/p4QAAAHTAAAABVBn1JFFSwj/wAjxUBiBKgaliC+OykAAAASAZ9xdEf/ADiRTfieEO1S51goAAAA\n",
              "EgGfc2pH/wA4sAGXwoKdCBaIugAAABNBm3hJqEFsmUwIZ//+nhAAAAdNAAAAFUGflkUVLCP/ACPF\n",
              "QGIEqBqWIL47KAAAABIBn7V0R/8AOJFN+J4Q7VLnWCkAAAASAZ+3akf/ADiwAZfCgp0IFoi7AAAA\n",
              "E0GbvEmoQWyZTAhn//6eEAAAB0wAAAAVQZ/aRRUsI/8AI8VAYgSoGpYgvjspAAAAEgGf+XRH/wA4\n",
              "kU34nhDtUudYKAAAABIBn/tqR/8AOLABl8KCnQgWiLsAAAATQZvgSahBbJlMCGf//p4QAAAHTQAA\n",
              "ABVBnh5FFSwj/wAjxUBiBKgaliC+OygAAAASAZ49dEf/ADiRTfieEO1S51goAAAAEgGeP2pH/wA4\n",
              "sAGXwoKdCBaIuwAAABNBmiRJqEFsmUwIZ//+nhAAAAdMAAAAFUGeQkUVLCP/ACPFQGIEqBqWIL47\n",
              "KQAAABIBnmF0R/8AOJFN+J4Q7VLnWCgAAAASAZ5jakf/ADiwAZfCgp0IFoi7AAAAE0GaaEmoQWyZ\n",
              "TAhn//6eEAAAB00AAAAVQZ6GRRUsI/8AI8VAYgSoGpYgvjspAAAAEgGepXRH/wA4kU34nhDtUudY\n",
              "KQAAABIBnqdqR/8AOLABl8KCnQgWiLoAAAATQZqsSahBbJlMCGf//p4QAAAHTAAAABVBnspFFSwj\n",
              "/wAjxUBiBKgaliC+OykAAAASAZ7pdEf/ADiRTfieEO1S51goAAAAEgGe62pH/wA4sAGXwoKdCBaI\n",
              "ugAAABNBmvBJqEFsmUwIZ//+nhAAAAdNAAAAFUGfDkUVLCP/ACPFQGIEqBqWIL47KQAAABIBny10\n",
              "R/8AOJFN+J4Q7VLnWCkAAAASAZ8vakf/ADiwAZfCgp0IFoi6AAAAE0GbNEmoQWyZTAhn//6eEAAA\n",
              "B0wAAAAVQZ9SRRUsI/8AI8VAYgSoGpYgvjspAAAAEgGfcXRH/wA4kU34nhDtUudYKAAAABIBn3Nq\n",
              "R/8AOLABl8KCnQgWiLoAAAATQZt4SahBbJlMCGf//p4QAAAHTQAAABVBn5ZFFSwj/wAjxUBiBKga\n",
              "liC+OygAAAASAZ+1dEf/ADiRTfieEO1S51gpAAAAEgGft2pH/wA4sAGXwoKdCBaIuwAAABJBm7lJ\n",
              "qEFsmUwI//yEAAADAbMAABDmZYiCAA///vdonwKbWkN6gOSVxSXbT4H/q2dwfI/pAwAAAwAArq0z\n",
              "P7yqvI1AIK730jDS//IS9ZKMu2ll2DJF2PkCig60dJMkEZ/vZopGe5KzNGuOk/QKSRdk53hOHlEX\n",
              "CwlgACahO7k+Xi78RFCUCEtkyfosAWUQX5S09bA4/KcdDUyxG66nJ4dcuBpiaMwXF9y4dtw0DBmS\n",
              "HI1WJt6wgld+n+zSleeEbNNHHt6k0fUJO3yZYQ2G65h8P2oULjPgjYg4OudboxBT1P2fdP5gYpJd\n",
              "b7XblryF+YX7ZZ9LMmt4hM4mV184k2gPPXl2sZUio096eA0TbNziRFfYNj8CBALpW1GQFS9FexPT\n",
              "/fyWlwl1Jkvz50KtoYdp7MDomF7tLxZG8QbHb+fAyeRsqSrU6yoWOYhnXjJ9eoI3vpRRLPaBsvp5\n",
              "LLD7AGj58msFq/++zXaTgDwmsEmuXD9PuPyf2FFGNPmz7RAAgNHPLs0A7RP2zCPljKD+/PwcLDdl\n",
              "UD4sEuhWPd0d33wtTR/VqyoteuouiT41KItOQjgBjjwxwUSAC8nqfCT4cHRO5ZwEuTS0sErS3RWY\n",
              "4qUiRC8q1d4tFzhrVH9aRZOpxr17F+66bloXnF296l0WfKiZb351cJycmP11MwbtUqpKwu8Jv8oO\n",
              "HeQrHY38y0a/Hc9ZEaP4WcIP9e+cHM7hH58l+cKWB2ig/qNb66wAbG8f5Q5zPaWamlQDVoNc1/Cl\n",
              "tBBRyBqVP7PZm0VtVVTZfChDjrOOpOTGwiVr2tYp7/dPOvZ0SkA7+7QtzOYRlfIl0kagJFSaiT0Z\n",
              "uHwtpPkqFchOCDIfTzrJLAfTNLSbz31JQrJU3nLqEDIWZEfEsEkWrtsYnPTmVDVrBEyUoTxgJxzD\n",
              "Us/2rODUl4PgbjpGO3tQyctV/nelvNbqCnuOkYoKVgHX0oCMrYu1y2ATVKSbshkFTa6hLIpTuRQ+\n",
              "RDit+nKMOAkfDLzEpVYQ9FHmDx8Ffu8/FKaMGnSa6owWWE0POSaIJ4X6WNTAdIBjWDiUYdVJZ7ZO\n",
              "t2tzHUysCeojSMliJCQoLW9zxTm3LBlveJhxSGkIegoMQJ9DTY+HKu/ih3P5Po4bnbB04UXfnM+D\n",
              "LMbNrbkIFsaO9xCWUu68tT/hXOKvbkDCMMfhBmhsC9lqQamnyhJB67l9rUx6JrqbJw5Wy4Y/uFcB\n",
              "cWV23oXiGPdZLqjTltFh4ANQR7IzfbIimG5TehmFFbbDsF+IPdzfl9pfdB4FbFRAAAToIAi2FYKv\n",
              "qVR6eQWszxwrQXRZ6NHpOQV8dkTTS3TAMHJOz70dcO5kI80rMrn144myhYNitJlPJMPVsIEFHQay\n",
              "+Vsz26ZQxpmqsYja4LY2Kxu+PMRH/W8U5UF5SUe3yWhCrJ/6G2jNbcQYNsPmIK5XnOGEkrFSzTl6\n",
              "aZGH3l/Of0BJp5OZ9coRMilkGpkd1S0lCiMMYUxhy2G2ihbVSeKQb0op/+YN1o3aF2WjoNSKmKos\n",
              "KJ4Q2qgtjGl9yBf0Igy0WrKdQAI1Drfc02ku+hs1g64596/bwRO3nmpG3m7J0jqfH9kjL50dg6Lb\n",
              "g8+ewFF5xIGW1f6DqcBPGvrTDbSg3kiJNUStQE+O4FXu/OK1/tyeWFUHpiW6U1hU5s8GUMYJjVSA\n",
              "s8kFSciRaohnQTTwNoOPoeqdbxhaKPQf62fpwjXfkgPbO+fWb9peMHEcSN4FErvZ1gW3/zRbcYZe\n",
              "/ROsoil3CNkMopr5snXnAmg6iulO09gHVC59GIs7ANNI+aQmUh1hbbtg784tpog+A3jbMTwJjsTj\n",
              "hh+jFQWs1YQ+MhZinrxnk2fkl2PcR33D1CC/Dm/mHwqsNACi46AmpteY8bV7wqbpMkClz+Dqlvwk\n",
              "LWDZ89IKfaqoQWAvOS01PpGfHQOL+GtEoP/SxV4ETFzULwv8e3z9P3F0TedMsvVPn+gP7dqxdgbU\n",
              "AAmDCAAAUFPu0vAHY57nRxlI8ISeKk2ReoHhb7pzTesss8Jze7hAiusz0wpmNZ6lxtIAxkmYV3gx\n",
              "dfXJB4hzGrPdGfGU9bDni5gh7g1mHZvtgKmDgyEgw5Lh/YyyXXIU3kcioyC4sJVIr+BWfZ4VMGif\n",
              "c3gz6qhOu3hM9T8b8JMLllhffx8xC+MJldqrZiC29VqTYGmK8l/Xri578JK+dpBrvNOI0IGOgWNY\n",
              "5bLsgpTYm7G2gHhHZHi2CtG9kOGYF3/4YKTnAgLOMr7LJoN+sFxwluSRUQrrjY/d960bWPD/FXnq\n",
              "UizEb2n+PdBdwNDYrwX+R9cXq29Lk+Rjdr0zPpmzrIocvaJeVJf4FmWtYk//a8f+XVqo7VMLytLs\n",
              "zFIPA4tG/hkApxgY9ppQVSTt2LdRS4+3FGwnl9K71gCoI9PaQYP0YzGalw9SvTa7n9wMjGADaPVL\n",
              "rOo4cT+TqDtw1wZzn3QDxLyJuzahcveG84Dqm5KQbHD7uJc4RPHj/qg19AQaZmXuSeIsFmKtlpV2\n",
              "Hc+VsB8UcWLDgOg1JckIFb7qvMtD5EC/APYmGiPLPRX2f3n5G0dD/e0PMfhMOzKs4UC2TDesl/Iq\n",
              "GCHhldww2oNB8dmh5rC+wDS5pxpkj41/wa8HgIsnOo7yJHTEhb3GnL3ObGNJb2avj9z9Z/oXg6Re\n",
              "grZAmHy4fgqaV9iYSMPk7Sqe0acHHyovhv//7qIpAgny7kBAgO+eORQhhwAj4tvdoPA5qqYDj10k\n",
              "oUGPTxnSY3AnE8MUw0W0irKAPUHESPe2+xr1wqPgAVk4K/WTh6suTJHjL8zD6nGgM6m9k3pgVnDl\n",
              "Rt2woC5quBvQIfGfS/ujoSUGdRfiXKSaSLYfGtN0hplv6+wrTO7yVa0m9GvDrVLGqUOEXLNaOvUL\n",
              "YZlcJRO1zYkosLQq6P8WDX5p1oQGTSqCYRS6IDXqfdMu6lwqrx3aQukMlHEURmCIeIgNWj+HxJlO\n",
              "sQDiKYOlCVMIRoW8YF3UT9p8e1wIr+eQTZdMUreXh/VwPO3PEbsShtYTW/8koL807UhReAncN9dl\n",
              "RR6FK1Y7FCxM+swmfgpq8LJKfONaLmTDgc8fseuP0Coz+Ri/Yu4fZEMGoQIAfqeKCjXph9+l0jPM\n",
              "NSW0I+Vt1t+hjpEM8Oc5s2KcCPCdOMzHtpvAniPUQWFS3wObXogKI/OgSQXhzDd8RICeceiWWY6g\n",
              "WBV95MPGl5FZ5gussniQud7gyy8sDjyibjbz/pniPKlLVFWhBgLRsYKD9d/riZNnIR40A0PnuXYX\n",
              "ExLZ40nz28/l2z+BDtWMsDOQw7FuCuuq+P/coZ/gRK65DrXEvAqbyu3HFsaMczYbiG/pWFZw6Q0p\n",
              "HESBWcLjPzitxX6Kaul3Rns4NJtfLqAcAFTwa5NdypP2TiPpfDcRy89ExieTAtE0NR3Xgp4xV5VD\n",
              "GLVtUyIo6zEQF8bJPMeYa4skbdDRePQGDpDSyXJH4XOiuqOqvRGtRGmzOLkWoXAh2u/AULNk8YGg\n",
              "FFpJJKdJQoQFxZ3jr5vJ6bG8yYrA4KXY7S+nqZ5bwUTJRwWa85Fwu9EcuLEA5a/c0AHJPyCA2I8N\n",
              "FIVcrNMBfStq9SHkom24MRx14TZzi/t9DxrAkufHZXVqda/5hHwLG8+E4p/Em8+ikCBhSQ4hqJM1\n",
              "5TKRt8vqCw4YWSuHrrkeS1BudopVNEd9ZaW87vmH8WV5qYBKS4mWUGZdV0ExZVUdAhSSdxcwBvbT\n",
              "A8itrEEH5TFzY4N9ysIVVzA/n842v3e/FsGhhmqL2RIYJCK+LbQLBGn/I3yrqti9d9sCovbYD7ZL\n",
              "rkQA5P+qMKYO/mPkQCZAR8jZX6b8nDHNDjLcec0H/hSHWbb/7LDeIWH18WnKDhXoAfq1wwN7lhW6\n",
              "3s/lbiJ9MzeipCzlIdjONWVT9mGK3tfJQ038vJC/Pah12VaKZclY24IuMXSkr2eJ3mQCA6Z3uSuj\n",
              "WEooltDiHTSjPbngiLAkiC6vbEfEQUviukpPdF+l1ijo88zAxdlqTbpX537g84e9K3BDXYYuPr/t\n",
              "/Qkown6K6JA90/t5ZAiPhQNlIRL7GLvBvBw5xa19f/sGGIngq45HUOTguAIZ/Ij6YY3FoDCUQZzJ\n",
              "kD5QL0pX0NOShAJg2/P+WeJYoju8DwPmOGCfDvYsnyCK7z5hfqM/nDrEGkGp2f/2rnid+jvG8G4V\n",
              "J2+cuTHHiv5q8KGSJZ0EcpiHob8JwcX3w14imEFCsMogPcUmiK0oVxjprheMfsdHtsAPMpOtw1bl\n",
              "MNgr9QpizGrg3+mw+7GzbZ+zepUqBtYiZYmokiQOUzkodw/g1/TR+rTJKjGg6ZdjGkLh8MbnLOxd\n",
              "y+R7ldIdt9nIUo5HxH32xGMsLiZK0bn4c8f8VBWN24cCEKlT7DMU43JVm7O1pr0UNOQwSs1r5ub0\n",
              "MkW/JFqJQYz8UEr5mvu8QiishefMm3iN9URCoeVVbY1lSzHVInyNJK5uqEgY4rNISEfSc376LlD7\n",
              "kuUqGOPGBu1hwcl5vol2prCXKZ68aOi7fQa1ZXGa3ypM3L57RtYGAKtnJBqgS5y9BOwOS3wxRlqH\n",
              "AtijnFxzIw4y6gMmxGu1JIxHrS5yIyzALdnm3ynRnrLQSebipI0ZjPk+3NC/H6OD9Ti793cOvcH2\n",
              "+r311fn7rkhzK11p51I0i10CRr95FVI7CCPNXOUfXfT9v+tD/b65Gw5YLiu/nkBqx4LM27Ra3fKR\n",
              "i027lGEanlS6eGcLv5HRNMx6YABeazytr9X3CnTpayQRmq1zrFiUi6id20yZfJgzIUFQJqHSOmFF\n",
              "3EbmdIQrD7jH6oQF4dOwp5KbJmSBwNTwIChzd2wE01AbGgxlR05se3Eyb9/HXXUzz7J9JiXmxPCx\n",
              "6hJYZiQ0sSUB7wjMmltOslGS2apvr7+Kc4G6yOVH6O5mnOJ29vQe1oIu5bi4EX6ey9crBDSi8xuo\n",
              "e96cw/27UT0QKndOkAupMpPYsHtTSlRUL/Qe3amRS1BU+qanqloO45B3Gv+oYGbJNg1mSqWg7jkH\n",
              "ca/12IQujfPc4Hiyccg7jX/TmsQHOoOBpiuNOi+tjbhl23H8tqWJmQONFHv5+M4430TjFGzIeSf6\n",
              "VeaJ2QKJcRxxwb2WvzW7rP3n+L1r2GXvp24nZfoIMKxP8odDDcvZQEjkLVMfabR0ZanUbCOeuyXa\n",
              "LS6p0wZ6XwpiiXLv2MiUSRhNqGSnk1RZhxxLciguGykU+h1j04+m4OIWdZGn7K1sJ5ScQx3pufOB\n",
              "ncapXgA7aHTeRxpqET5KmHLKEn2E0mazo23ChQO05wY+ihPeH9Ya343a3iea08HPWazagnAcu4fZ\n",
              "Ib+dAWW9n0IaugleAHOdEQ14WhTVSo686WYTHhjE9D0IIc5nBKPJG6jyTc8l9DnYZqlNByOxGFna\n",
              "RgT1ek93oB6h+l9PF6wxML+Nv3w4IDigWgq+36ySx2Zumz8MKaeFoLcnGw7BF4DFsRVy6lNHOdT8\n",
              "3DJPKh4GJ5+uMpli7mWaNdNytsyY4SE5AmwdqmYKspYBoMmBG+nl/XFYtkIOIm7uirmL9wLUX0fT\n",
              "n/zLkXg3WJYBczSNL9q5sk0LMwIv2Eo9xdmXhXG9HAxBh26Mp1NRQAMEv8hAC1iq+ex3f2DrQOzg\n",
              "B4432Mc9OqTJQ7FeVP6j++U5fYcpfUBUZsY8APTiYVECHCIG9juJqaPLw1DSVBEuGkmg+XT8P/5H\n",
              "9cTc0EbZ5UFGzEQGz8imcCQGHL6+foXP8rFDbZPk1G26uHL9fTNzcBhbFtlSMrBDHl2zGcT6239k\n",
              "PSOt0hGOEFAJOzl5AAAAq0GaJGxDP/6eEANvVaAArj0E+Eti57VQjsSlfcBp6lYPhgPl3S5Iede9\n",
              "FfPtl4F/kil8TEPVt0bNuuF7eTOYFzhGazEyfxrbmLjfmJgWQxSSSadnMkDIXtjyj3ohUpZUbfq/\n",
              "J3+bvWzbzXEiapXMZ6SRKnaaTixuPbWebqDxS7nRNlynoxXuWiOETjdD91EeCzHy8Uc4ibTNoTdw\n",
              "H/jmVhIDEzENdP/PO9h3QAAAACFBnkJ4hH8AR2BCBQwIMeNRnYlk4SaGhTKVoD31y8zlhq0AAAAe\n",
              "AZ5hdEf/AHEijaYPT2+wAwB1HpqxnXOy0hYNsiIDAAAAEgGeY2pH/wB0O+QnibnQPHqVIgAAABdB\n",
              "mmhJqEFomUwIZ//+nhAAAA/vseGA4AAAABVBnoZFESwj/wBJgp5KZQcqIuS293EAAAASAZ6ldEf/\n",
              "AHPiqyQq5T9x3Hu4AAAAEAGep2pH/wB0IBBPEPOgelEAAAATQZqsSahBbJlMCGf//p4QAAAHTAAA\n",
              "ABNBnspFFSwj/wBJioQMyg5UOYyJAAAAEAGe6XRH/wBz4qskKuU/bUsAAAAQAZ7rakf/AHQgEE8Q\n",
              "86B6UQAAABNBmvBJqEFsmUwIZ//+nhAAAAdNAAAAE0GfDkUVLCP/AEmKhAzKDlQ5jIgAAAAQAZ8t\n",
              "dEf/AHPiqyQq5T9tSgAAABABny9qR/8AdCAQTxDzoHpRAAAAE0GbNEmoQWyZTAhn//6eEAAAB0wA\n",
              "AAATQZ9SRRUsI/8ASYqEDMoOVDmMiAAAABABn3F0R/8Ac+KrJCrlP21LAAAAEAGfc2pH/wB0IBBP\n",
              "EPOgelEAAAATQZt4SahBbJlMCGf//p4QAAAHTQAAABNBn5ZFFSwj/wBJioQMyg5UOYyIAAAAEAGf\n",
              "tXRH/wBz4qskKuU/bUoAAAAQAZ+3akf/AHQgEE8Q86B6UQAAABNBm7xJqEFsmUwIZ//+nhAAAAdM\n",
              "AAAAE0Gf2kUVLCP/AEmKhAzKDlQ5jIgAAAAQAZ/5dEf/AHPiqyQq5T9tSwAAABABn/tqR/8AdCAQ\n",
              "TxDzoHpRAAAAE0Gb4EmoQWyZTAhn//6eEAAAB00AAAATQZ4eRRUsI/8ASYqEDMoOVDmMiQAAABAB\n",
              "nj10R/8Ac+KrJCrlP21KAAAAEAGeP2pH/wB0IBBPEPOgelEAAAATQZokSahBbJlMCGf//p4QAAAH\n",
              "TAAAABNBnkJFFSwj/wBJioQMyg5UOYyJAAAAEAGeYXRH/wBz4qskKuU/bUsAAAAQAZ5jakf/AHQg\n",
              "EE8Q86B6UQAAABNBmmhJqEFsmUwIZ//+nhAAAAdMAAAAE0GehkUVLCP/AEmKhAzKDlQ5jIkAAAAQ\n",
              "AZ6ldEf/AHPiqyQq5T9tSgAAABABnqdqR/8AdCAQTxDzoHpRAAAAE0GarEmoQWyZTAhn//6eEAAA\n",
              "B0wAAAATQZ7KRRUsI/8ASYqEDMoOVDmMiQAAABABnul0R/8Ac+KrJCrlP21LAAAAEAGe62pH/wB0\n",
              "IBBPEPOgelEAAAATQZrwSahBbJlMCGf//p4QAAAHTQAAABNBnw5FFSwj/wBJioQMyg5UOYyIAAAA\n",
              "EAGfLXRH/wBz4qskKuU/bUoAAAAQAZ8vakf/AHQgEE8Q86B6UQAAABNBmzRJqEFsmUwIZ//+nhAA\n",
              "AAdMAAAAE0GfUkUVLCP/AEmKhAzKDlQ5jIgAAAAQAZ9xdEf/AHPiqyQq5T9tSwAAABABn3NqR/8A\n",
              "dCAQTxDzoHpRAAAAE0GbeEmoQWyZTAhn//6eEAAAB00AAAATQZ+WRRUsI/8ASYqEDMoOVDmMiAAA\n",
              "ABABn7V0R/8Ac+KrJCrlP21KAAAAEAGft2pH/wB0IBBPEPOgelEAAAATQZu8SahBbJlMCGf//p4Q\n",
              "AAAHTAAAABNBn9pFFSwj/wBJioQMyg5UOYyIAAAAEAGf+XRH/wBz4qskKuU/bUsAAAAQAZ/7akf/\n",
              "AHQgEE8Q86B6UQAAABNBm+BJqEFsmUwIZ//+nhAAAAdNAAAAE0GeHkUVLCP/AEmKhAzKDlQ5jIkA\n",
              "AAAQAZ49dEf/AHPiqyQq5T9tSgAAABABnj9qR/8AdCAQTxDzoHpRAAAAE0GaJEmoQWyZTAhn//6e\n",
              "EAAAB0wAAAATQZ5CRRUsI/8ASYqEDMoOVDmMiQAAABABnmF0R/8Ac+KrJCrlP21LAAAAEAGeY2pH\n",
              "/wB0IBBPEPOgelEAAAATQZpoSahBbJlMCGf//p4QAAAHTAAAABNBnoZFFSwj/wBJioQMyg5UOYyJ\n",
              "AAAAEAGepXRH/wBz4qskKuU/bUoAAAAQAZ6nakf/AHQgEE8Q86B6UQAAABNBmqxJqEFsmUwIZ//+\n",
              "nhAAAAdMAAAAE0GeykUVLCP/AEmKhAzKDlQ5jIkAAAAQAZ7pdEf/AHPiqyQq5T9tSwAAABABnutq\n",
              "R/8AdCAQTxDzoHpRAAAAE0Ga8EmoQWyZTAhn//6eEAAAB00AAAATQZ8ORRUsI/8ASYqEDMoOVDmM\n",
              "iAAAABABny10R/8Ac+KrJCrlP21KAAAAEAGfL2pH/wB0IBBPEPOgelEAAAATQZs0SahBbJlMCGf/\n",
              "/p4QAAAHTAAAABNBn1JFFSwj/wBJioQMyg5UOYyIAAAAEAGfcXRH/wBz4qskKuU/bUsAAAAQAZ9z\n",
              "akf/AHQgEE8Q86B6UQAAABNBm3hJqEFsmUwIZ//+nhAAAAdNAAAAE0GflkUVLCP/AEmKhAzKDlQ5\n",
              "jIgAAAAQAZ+1dEf/AHPiqyQq5T9tSgAAABABn7dqR/8AdCAQTxDzoHpRAAAAE0GbvEmoQWyZTAhn\n",
              "//6eEAAAB0wAAAATQZ/aRRUsI/8ASYqEDMoOVDmMiAAAABABn/l0R/8Ac+KrJCrlP21LAAAAEAGf\n",
              "+2pH/wB0IBBPEPOgelEAAAATQZvgSahBbJlMCGf//p4QAAAHTQAAABNBnh5FFSwj/wBJioQMyg5U\n",
              "OYyJAAAAEAGePXRH/wBz4qskKuU/bUoAAAAQAZ4/akf/AHQgEE8Q86B6UQAAABNBmiRJqEFsmUwI\n",
              "Z//+nhAAAAdMAAAAE0GeQkUVLCP/AEmKhAzKDlQ5jIkAAAAQAZ5hdEf/AHPiqyQq5T9tSwAAABAB\n",
              "nmNqR/8AdCAQTxDzoHpRAAAAE0GaaEmoQWyZTAhn//6eEAAAB0wAAAATQZ6GRRUsI/8ASYqEDMoO\n",
              "VDmMiQAAABABnqV0R/8Ac+KrJCrlP21KAAAAEAGep2pH/wB0IBBPEPOgelEAAAATQZqsSahBbJlM\n",
              "CGf//p4QAAAHTAAAABNBnspFFSwj/wBJioQMyg5UOYyJAAAAEAGe6XRH/wBz4qskKuU/bUsAAAAQ\n",
              "AZ7rakf/AHQgEE8Q86B6UQAAABNBmvBJqEFsmUwIZ//+nhAAAAdNAAAAE0GfDkUVLCP/AEmKhAzK\n",
              "DlQ5jIgAAAAQAZ8tdEf/AHPiqyQq5T9tSgAAABABny9qR/8AdCAQTxDzoHpRAAAAE0GbNEmoQWyZ\n",
              "TAhn//6eEAAAB0wAAAATQZ9SRRUsI/8ASYqEDMoOVDmMiAAAABABn3F0R/8Ac+KrJCrlP21LAAAA\n",
              "EAGfc2pH/wB0IBBPEPOgelEAAAATQZt4SahBbJlMCGf//p4QAAAHTQAAABNBn5ZFFSwj/wBJioQM\n",
              "yg5UOYyIAAAAEAGftXRH/wBz4qskKuU/bUoAAAAQAZ+3akf/AHQgEE8Q86B6UQAAABNBm7xJqEFs\n",
              "mUwIZ//+nhAAAAdMAAAAE0Gf2kUVLCP/AEmKhAzKDlQ5jIgAAAAQAZ/5dEf/AHPiqyQq5T9tSwAA\n",
              "ABABn/tqR/8AdCAQTxDzoHpRAAAAE0Gb4EmoQWyZTAhn//6eEAAAB00AAAATQZ4eRRUsI/8ASYqE\n",
              "DMoOVDmMiQAAABABnj10R/8Ac+KrJCrlP21KAAAAEAGeP2pH/wB0IBBPEPOgelEAAAATQZokSahB\n",
              "bJlMCGf//p4QAAAHTAAAABNBnkJFFSwj/wBJioQMyg5UOYyJAAAAEAGeYXRH/wBz4qskKuU/bUsA\n",
              "AAAQAZ5jakf/AHQgEE8Q86B6UQAAABNBmmhJqEFsmUwIZ//+nhAAAAdMAAAAE0GehkUVLCP/AEmK\n",
              "hAzKDlQ5jIkAAAAQAZ6ldEf/AHPiqyQq5T9tSgAAABABnqdqR/8AdCAQTxDzoHpRAAAAE0GarEmo\n",
              "QWyZTAhn//6eEAAAB0wAAAATQZ7KRRUsI/8ASYqEDMoOVDmMiQAAABABnul0R/8Ac+KrJCrlP21L\n",
              "AAAAEAGe62pH/wB0IBBPEPOgelEAAAATQZrwSahBbJlMCGf//p4QAAAHTQAAABNBnw5FFSwj/wBJ\n",
              "ioQMyg5UOYyIAAAAEAGfLXRH/wBz4qskKuU/bUoAAAAQAZ8vakf/AHQgEE8Q86B6UQAAABNBmzRJ\n",
              "qEFsmUwIZ//+nhAAAAdMAAAAE0GfUkUVLCP/AEmKhAzKDlQ5jIgAAAAQAZ9xdEf/AHPiqyQq5T9t\n",
              "SwAAABABn3NqR/8AdCAQTxDzoHpRAAAAE0GbeEmoQWyZTAhn//6eEAAAB00AAAATQZ+WRRUsI/8A\n",
              "SYqEDMoOVDmMiAAAABABn7V0R/8Ac+KrJCrlP21KAAAAEAGft2pH/wB0IBBPEPOgelEAAAATQZu8\n",
              "SahBbJlMCGf//p4QAAAHTAAAABNBn9pFFSwj/wBJioQMyg5UOYyIAAAAEAGf+XRH/wBz4qskKuU/\n",
              "bUsAAAAQAZ/7akf/AHQgEE8Q86B6UQAAABNBm+BJqEFsmUwIZ//+nhAAAAdNAAAAE0GeHkUVLCP/\n",
              "AEmKhAzKDlQ5jIkAAAAQAZ49dEf/AHPiqyQq5T9tSgAAABABnj9qR/8AdCAQTxDzoHpRAAAAE0Ga\n",
              "JEmoQWyZTAhn//6eEAAAB0wAAAATQZ5CRRUsI/8ASYqEDMoOVDmMiQAAABABnmF0R/8Ac+KrJCrl\n",
              "P21LAAAAEAGeY2pH/wB0IBBPEPOgelEAAAATQZpoSahBbJlMCGf//p4QAAAHTAAAABNBnoZFFSwj\n",
              "/wBJioQMyg5UOYyJAAAAEAGepXRH/wBz4qskKuU/bUoAAAAQAZ6nakf/AHQgEE8Q86B6UQAAABNB\n",
              "mqxJqEFsmUwIZ//+nhAAAAdMAAAAE0GeykUVLCP/AEmKhAzKDlQ5jIkAAAAQAZ7pdEf/AHPiqyQq\n",
              "5T9tSwAAABABnutqR/8AdCAQTxDzoHpRAAAAE0Ga8EmoQWyZTAhn//6eEAAAB00AAAATQZ8ORRUs\n",
              "I/8ASYqEDMoOVDmMiAAAABABny10R/8Ac+KrJCrlP21KAAAAEAGfL2pH/wB0IBBPEPOgelEAAAAT\n",
              "QZs0SahBbJlMCGf//p4QAAAHTAAAABNBn1JFFSwj/wBJioQMyg5UOYyIAAAAEAGfcXRH/wBz4qsk\n",
              "KuU/bUsAAAAQAZ9zakf/AHQgEE8Q86B6UQAAABNBm3hJqEFsmUwIZ//+nhAAAAdNAAAAE0GflkUV\n",
              "LCP/AEmKhAzKDlQ5jIgAAAAQAZ+1dEf/AHPiqyQq5T9tSgAAABABn7dqR/8AdCAQTxDzoHpRAAAA\n",
              "E0GbvEmoQWyZTAhn//6eEAAAB0wAAAATQZ/aRRUsI/8ASYqEDMoOVDmMiAAAABABn/l0R/8Ac+Kr\n",
              "JCrlP21LAAAAEAGf+2pH/wB0IBBPEPOgelEAAAATQZvgSahBbJlMCGf//p4QAAAHTQAAABNBnh5F\n",
              "FSwj/wBJioQMyg5UOYyJAAAAEAGePXRH/wBz4qskKuU/bUoAAAAQAZ4/akf/AHQgEE8Q86B6UQAA\n",
              "ABNBmiRJqEFsmUwIZ//+nhAAAAdMAAAAE0GeQkUVLCP/AEmKhAzKDlQ5jIkAAAAQAZ5hdEf/AHPi\n",
              "qyQq5T9tSwAAABABnmNqR/8AdCAQTxDzoHpRAAAAE0GaaEmoQWyZTAhn//6eEAAAB0wAAAATQZ6G\n",
              "RRUsI/8ASYqEDMoOVDmMiQAAABABnqV0R/8Ac+KrJCrlP21KAAAAEAGep2pH/wB0IBBPEPOgelEA\n",
              "AAATQZqsSahBbJlMCGf//p4QAAAHTAAAABNBnspFFSwj/wBJioQMyg5UOYyJAAAAEAGe6XRH/wBz\n",
              "4qskKuU/bUsAAAAQAZ7rakf/AHQgEE8Q86B6UQAAABNBmvBJqEFsmUwIZ//+nhAAAAdNAAAAE0Gf\n",
              "DkUVLCP/AEmKhAzKDlQ5jIgAAAAQAZ8tdEf/AHPiqyQq5T9tSgAAABABny9qR/8AdCAQTxDzoHpR\n",
              "AAAAE0GbNEmoQWyZTAhn//6eEAAAB0wAAAATQZ9SRRUsI/8ASYqEDMoOVDmMiAAAABABn3F0R/8A\n",
              "c+KrJCrlP21LAAAAEAGfc2pH/wB0IBBPEPOgelEAAAATQZt4SahBbJlMCGf//p4QAAAHTQAAABNB\n",
              "n5ZFFSwj/wBJioQMyg5UOYyIAAAAEAGftXRH/wBz4qskKuU/bUoAAAAQAZ+3akf/AHQgEE8Q86B6\n",
              "UQAAABNBm7xJqEFsmUwIZ//+nhAAAAdMAAAAE0Gf2kUVLCP/AEmKhAzKDlQ5jIgAAAAQAZ/5dEf/\n",
              "AHPiqyQq5T9tSwAAABABn/tqR/8AdCAQTxDzoHpRAAAAE0Gb4EmoQWyZTAhn//6eEAAAB00AAAAT\n",
              "QZ4eRRUsI/8ASYqEDMoOVDmMiQAAABABnj10R/8Ac+KrJCrlP21KAAAAEAGeP2pH/wB0IBBPEPOg\n",
              "elEAAAATQZokSahBbJlMCGf//p4QAAAHTAAAABNBnkJFFSwj/wBJioQMyg5UOYyJAAAAEAGeYXRH\n",
              "/wBz4qskKuU/bUsAAAAQAZ5jakf/AHQgEE8Q86B6UQAAABNBmmhJqEFsmUwIX//+jLAAAAdUAAAA\n",
              "E0GehkUVLCP/AEmKhAzKDlQ5jIkAAAAQAZ6ldEf/AHPiqyQq5T9tSgAAABABnqdqR/8AdCAQTxDz\n",
              "oHpRAAAAE0GarEmoQWyZTAhf//6MsAAAB1QAAAATQZ7KRRUsI/8ASYqEDMoOVDmMiQAAABABnul0\n",
              "R/8Ac+KrJCrlP21LAAAAEAGe62pH/wB0IBBPEPOgelEAAAATQZrwSahBbJlMCF///oywAAAHVQAA\n",
              "ABNBnw5FFSwj/wBJioQMyg5UOYyIAAAAEAGfLXRH/wBz4qskKuU/bUoAAAAQAZ8vakf/AHQgEE8Q\n",
              "86B6UQAAABNBmzRJqEFsmUwIV//+OEAAABxwAAAAE0GfUkUVLCP/AEmKhAzKDlQ5jIgAAAAQAZ9x\n",
              "dEf/AHPiqyQq5T9tSwAAABABn3NqR/8AdCAQTxDzoHpRAAAAFEGbeEmoQWyZTAhH//3hAAADAG9B\n",
              "AAAAE0GflkUVLCP/AEmKhAzKDlQ5jIgAAAAQAZ+1dEf/AHPiqyQq5T9tSgAAABABn7dqR/8AdCAQ\n",
              "TxDzoHpRAAAAEkGbuUmoQWyZTAj//IQAAAMBswAAGp5tb292AAAAbG12aGQAAAAAAAAAAAAAAAAA\n",
              "AAPoAAAnEAABAAABAAAAAAAAAAAAAAAAAQAAAAAAAAAAAAAAAAAAAAEAAAAAAAAAAAAAAAAAAEAA\n",
              "AAAAAAAAAAAAAAAAAAAAAAAAAAAAAAAAAAAAAAACAAAZyHRyYWsAAABcdGtoZAAAAAMAAAAAAAAA\n",
              "AAAAAAEAAAAAAAAnEAAAAAAAAAAAAAAAAAAAAAAAAQAAAAAAAAAAAAAAAAAAAAEAAAAAAAAAAAAA\n",
              "AAAAAEAAAAABsAAAASAAAAAAACRlZHRzAAAAHGVsc3QAAAAAAAAAAQAAJxAAAAIAAAEAAAAAGUBt\n",
              "ZGlhAAAAIG1kaGQAAAAAAAAAAAAAAAAAADIAAAH0AFXEAAAAAAAtaGRscgAAAAAAAAAAdmlkZQAA\n",
              "AAAAAAAAAAAAAFZpZGVvSGFuZGxlcgAAABjrbWluZgAAABR2bWhkAAAAAQAAAAAAAAAAAAAAJGRp\n",
              "bmYAAAAcZHJlZgAAAAAAAAABAAAADHVybCAAAAABAAAYq3N0YmwAAAC3c3RzZAAAAAAAAAABAAAA\n",
              "p2F2YzEAAAAAAAAAAQAAAAAAAAAAAAAAAAAAAAABsAEgAEgAAABIAAAAAAAAAAEAAAAAAAAAAAAA\n",
              "AAAAAAAAAAAAAAAAAAAAAAAAAAAAAAAY//8AAAA1YXZjQwFkAB7/4QAYZ2QAHqzZQbCWhAAAAwAE\n",
              "AAADAZA8WLZYAQAGaOvjyyLA/fj4AAAAABx1dWlka2hA8l8kT8W6OaUbzwMj8wAAAAAAAAAYc3R0\n",
              "cwAAAAAAAAABAAAB9AAAAQAAAAAYc3RzcwAAAAAAAAACAAAAAQAAAPsAAA+oY3R0cwAAAAAAAAHz\n",
              "AAAAAQAAAgAAAAABAAAFAAAAAAEAAAIAAAAAAQAAAAAAAAABAAABAAAAAAEAAAUAAAAAAQAAAgAA\n",
              "AAABAAAAAAAAAAEAAAEAAAAAAQAABQAAAAABAAACAAAAAAEAAAAAAAAAAQAAAQAAAAABAAAFAAAA\n",
              "AAEAAAIAAAAAAQAAAAAAAAABAAABAAAAAAEAAAUAAAAAAQAAAgAAAAABAAAAAAAAAAEAAAEAAAAA\n",
              "AQAABQAAAAABAAACAAAAAAEAAAAAAAAAAQAAAQAAAAABAAAFAAAAAAEAAAIAAAAAAQAAAAAAAAAB\n",
              "AAABAAAAAAEAAAUAAAAAAQAAAgAAAAABAAAAAAAAAAEAAAEAAAAAAQAABQAAAAABAAACAAAAAAEA\n",
              "AAAAAAAAAQAAAQAAAAABAAAFAAAAAAEAAAIAAAAAAQAAAAAAAAABAAABAAAAAAEAAAUAAAAAAQAA\n",
              "AgAAAAABAAAAAAAAAAEAAAEAAAAAAQAABQAAAAABAAACAAAAAAEAAAAAAAAAAQAAAQAAAAABAAAF\n",
              "AAAAAAEAAAIAAAAAAQAAAAAAAAABAAABAAAAAAEAAAUAAAAAAQAAAgAAAAABAAAAAAAAAAEAAAEA\n",
              "AAAAAQAABQAAAAABAAACAAAAAAEAAAAAAAAAAQAAAQAAAAABAAAFAAAAAAEAAAIAAAAAAQAAAAAA\n",
              "AAABAAABAAAAAAEAAAUAAAAAAQAAAgAAAAABAAAAAAAAAAEAAAEAAAAAAQAABQAAAAABAAACAAAA\n",
              "AAEAAAAAAAAAAQAAAQAAAAABAAAFAAAAAAEAAAIAAAAAAQAAAAAAAAABAAABAAAAAAEAAAUAAAAA\n",
              "AQAAAgAAAAABAAAAAAAAAAEAAAEAAAAAAQAABQAAAAABAAACAAAAAAEAAAAAAAAAAQAAAQAAAAAB\n",
              "AAAFAAAAAAEAAAIAAAAAAQAAAAAAAAABAAABAAAAAAEAAAUAAAAAAQAAAgAAAAABAAAAAAAAAAEA\n",
              "AAEAAAAAAQAABQAAAAABAAACAAAAAAEAAAAAAAAAAQAAAQAAAAABAAAFAAAAAAEAAAIAAAAAAQAA\n",
              "AAAAAAABAAABAAAAAAEAAAUAAAAAAQAAAgAAAAABAAAAAAAAAAEAAAEAAAAAAQAABQAAAAABAAAC\n",
              "AAAAAAEAAAAAAAAAAQAAAQAAAAABAAAFAAAAAAEAAAIAAAAAAQAAAAAAAAABAAABAAAAAAEAAAUA\n",
              "AAAAAQAAAgAAAAABAAAAAAAAAAEAAAEAAAAAAQAABQAAAAABAAACAAAAAAEAAAAAAAAAAQAAAQAA\n",
              "AAABAAAFAAAAAAEAAAIAAAAAAQAAAAAAAAABAAABAAAAAAEAAAUAAAAAAQAAAgAAAAABAAAAAAAA\n",
              "AAEAAAEAAAAAAQAABQAAAAABAAACAAAAAAEAAAAAAAAAAQAAAQAAAAABAAAFAAAAAAEAAAIAAAAA\n",
              "AQAAAAAAAAABAAABAAAAAAEAAAUAAAAAAQAAAgAAAAABAAAAAAAAAAEAAAEAAAAAAQAABQAAAAAB\n",
              "AAACAAAAAAEAAAAAAAAAAQAAAQAAAAABAAAFAAAAAAEAAAIAAAAAAQAAAAAAAAABAAABAAAAAAEA\n",
              "AAUAAAAAAQAAAgAAAAABAAAAAAAAAAEAAAEAAAAAAQAABQAAAAABAAACAAAAAAEAAAAAAAAAAQAA\n",
              "AQAAAAABAAAFAAAAAAEAAAIAAAAAAQAAAAAAAAABAAABAAAAAAEAAAUAAAAAAQAAAgAAAAABAAAA\n",
              "AAAAAAEAAAEAAAAAAQAABQAAAAABAAACAAAAAAEAAAAAAAAAAQAAAQAAAAABAAAFAAAAAAEAAAIA\n",
              "AAAAAQAAAAAAAAABAAABAAAAAAEAAAUAAAAAAQAAAgAAAAABAAAAAAAAAAEAAAEAAAAAAQAABQAA\n",
              "AAABAAACAAAAAAEAAAAAAAAAAQAAAQAAAAABAAAFAAAAAAEAAAIAAAAAAQAAAAAAAAABAAABAAAA\n",
              "AAEAAAUAAAAAAQAAAgAAAAABAAAAAAAAAAEAAAEAAAAAAQAABQAAAAABAAACAAAAAAEAAAAAAAAA\n",
              "AQAAAQAAAAABAAAFAAAAAAEAAAIAAAAAAQAAAAAAAAABAAABAAAAAAEAAAUAAAAAAQAAAgAAAAAB\n",
              "AAAAAAAAAAEAAAEAAAAAAQAABQAAAAABAAACAAAAAAEAAAAAAAAAAQAAAQAAAAABAAAFAAAAAAEA\n",
              "AAIAAAAAAQAAAAAAAAABAAABAAAAAAEAAAUAAAAAAQAAAgAAAAABAAAAAAAAAAEAAAEAAAAAAQAA\n",
              "BQAAAAABAAACAAAAAAEAAAAAAAAAAQAAAQAAAAABAAAFAAAAAAEAAAIAAAAAAQAAAAAAAAABAAAB\n",
              "AAAAAAEAAAUAAAAAAQAAAgAAAAABAAAAAAAAAAEAAAEAAAAAAQAABQAAAAABAAACAAAAAAEAAAAA\n",
              "AAAAAQAAAQAAAAABAAAFAAAAAAEAAAIAAAAAAQAAAAAAAAABAAABAAAAAAEAAAUAAAAAAQAAAgAA\n",
              "AAABAAAAAAAAAAEAAAEAAAAAAQAABQAAAAABAAACAAAAAAEAAAAAAAAAAQAAAQAAAAABAAAFAAAA\n",
              "AAEAAAIAAAAAAQAAAAAAAAABAAABAAAAAAEAAAUAAAAAAQAAAgAAAAABAAAAAAAAAAEAAAEAAAAA\n",
              "AgAAAgAAAAABAAAFAAAAAAEAAAIAAAAAAQAAAAAAAAABAAABAAAAAAEAAAUAAAAAAQAAAgAAAAAB\n",
              "AAAAAAAAAAEAAAEAAAAAAQAABQAAAAABAAACAAAAAAEAAAAAAAAAAQAAAQAAAAABAAAFAAAAAAEA\n",
              "AAIAAAAAAQAAAAAAAAABAAABAAAAAAEAAAUAAAAAAQAAAgAAAAABAAAAAAAAAAEAAAEAAAAAAQAA\n",
              "BQAAAAABAAACAAAAAAEAAAAAAAAAAQAAAQAAAAABAAAFAAAAAAEAAAIAAAAAAQAAAAAAAAABAAAB\n",
              "AAAAAAEAAAUAAAAAAQAAAgAAAAABAAAAAAAAAAEAAAEAAAAAAQAABQAAAAABAAACAAAAAAEAAAAA\n",
              "AAAAAQAAAQAAAAABAAAFAAAAAAEAAAIAAAAAAQAAAAAAAAABAAABAAAAAAEAAAUAAAAAAQAAAgAA\n",
              "AAABAAAAAAAAAAEAAAEAAAAAAQAABQAAAAABAAACAAAAAAEAAAAAAAAAAQAAAQAAAAABAAAFAAAA\n",
              "AAEAAAIAAAAAAQAAAAAAAAABAAABAAAAAAEAAAUAAAAAAQAAAgAAAAABAAAAAAAAAAEAAAEAAAAA\n",
              "AQAABQAAAAABAAACAAAAAAEAAAAAAAAAAQAAAQAAAAABAAAFAAAAAAEAAAIAAAAAAQAAAAAAAAAB\n",
              "AAABAAAAAAEAAAUAAAAAAQAAAgAAAAABAAAAAAAAAAEAAAEAAAAAAQAABQAAAAABAAACAAAAAAEA\n",
              "AAAAAAAAAQAAAQAAAAABAAAFAAAAAAEAAAIAAAAAAQAAAAAAAAABAAABAAAAAAEAAAUAAAAAAQAA\n",
              "AgAAAAABAAAAAAAAAAEAAAEAAAAAAQAABQAAAAABAAACAAAAAAEAAAAAAAAAAQAAAQAAAAABAAAF\n",
              "AAAAAAEAAAIAAAAAAQAAAAAAAAABAAABAAAAAAEAAAUAAAAAAQAAAgAAAAABAAAAAAAAAAEAAAEA\n",
              "AAAAAQAABQAAAAABAAACAAAAAAEAAAAAAAAAAQAAAQAAAAABAAAFAAAAAAEAAAIAAAAAAQAAAAAA\n",
              "AAABAAABAAAAAAEAAAUAAAAAAQAAAgAAAAABAAAAAAAAAAEAAAEAAAAAAQAABQAAAAABAAACAAAA\n",
              "AAEAAAAAAAAAAQAAAQAAAAABAAAFAAAAAAEAAAIAAAAAAQAAAAAAAAABAAABAAAAAAEAAAUAAAAA\n",
              "AQAAAgAAAAABAAAAAAAAAAEAAAEAAAAAAQAABQAAAAABAAACAAAAAAEAAAAAAAAAAQAAAQAAAAAB\n",
              "AAAFAAAAAAEAAAIAAAAAAQAAAAAAAAABAAABAAAAAAEAAAUAAAAAAQAAAgAAAAABAAAAAAAAAAEA\n",
              "AAEAAAAAAQAABQAAAAABAAACAAAAAAEAAAAAAAAAAQAAAQAAAAABAAAFAAAAAAEAAAIAAAAAAQAA\n",
              "AAAAAAABAAABAAAAAAEAAAUAAAAAAQAAAgAAAAABAAAAAAAAAAEAAAEAAAAAAQAABQAAAAABAAAC\n",
              "AAAAAAEAAAAAAAAAAQAAAQAAAAABAAAFAAAAAAEAAAIAAAAAAQAAAAAAAAABAAABAAAAAAEAAAUA\n",
              "AAAAAQAAAgAAAAABAAAAAAAAAAEAAAEAAAAAAQAABQAAAAABAAACAAAAAAEAAAAAAAAAAQAAAQAA\n",
              "AAABAAAFAAAAAAEAAAIAAAAAAQAAAAAAAAABAAABAAAAAAEAAAUAAAAAAQAAAgAAAAABAAAAAAAA\n",
              "AAEAAAEAAAAAAQAABQAAAAABAAACAAAAAAEAAAAAAAAAAQAAAQAAAAABAAAFAAAAAAEAAAIAAAAA\n",
              "AQAAAAAAAAABAAABAAAAAAEAAAUAAAAAAQAAAgAAAAABAAAAAAAAAAEAAAEAAAAAAQAABQAAAAAB\n",
              "AAACAAAAAAEAAAAAAAAAAQAAAQAAAAABAAAFAAAAAAEAAAIAAAAAAQAAAAAAAAABAAABAAAAAAEA\n",
              "AAUAAAAAAQAAAgAAAAABAAAAAAAAAAEAAAEAAAAAAQAABQAAAAABAAACAAAAAAEAAAAAAAAAAQAA\n",
              "AQAAAAABAAAFAAAAAAEAAAIAAAAAAQAAAAAAAAABAAABAAAAAAEAAAUAAAAAAQAAAgAAAAABAAAA\n",
              "AAAAAAEAAAEAAAAAAQAABQAAAAABAAACAAAAAAEAAAAAAAAAAQAAAQAAAAABAAAFAAAAAAEAAAIA\n",
              "AAAAAQAAAAAAAAABAAABAAAAAAEAAAUAAAAAAQAAAgAAAAABAAAAAAAAAAEAAAEAAAAAAQAABQAA\n",
              "AAABAAACAAAAAAEAAAAAAAAAAQAAAQAAAAABAAAFAAAAAAEAAAIAAAAAAQAAAAAAAAABAAABAAAA\n",
              "AAEAAAUAAAAAAQAAAgAAAAABAAAAAAAAAAEAAAEAAAAAAQAABQAAAAABAAACAAAAAAEAAAAAAAAA\n",
              "AQAAAQAAAAABAAAFAAAAAAEAAAIAAAAAAQAAAAAAAAABAAABAAAAAAEAAAUAAAAAAQAAAgAAAAAB\n",
              "AAAAAAAAAAEAAAEAAAAAAQAABQAAAAABAAACAAAAAAEAAAAAAAAAAQAAAQAAAAABAAAFAAAAAAEA\n",
              "AAIAAAAAAQAAAAAAAAABAAABAAAAAAEAAAUAAAAAAQAAAgAAAAABAAAAAAAAAAEAAAEAAAAAAQAA\n",
              "AgAAAAAcc3RzYwAAAAAAAAABAAAAAQAAAfQAAAABAAAH5HN0c3oAAAAAAAAAAAAAAfQAABHHAAAB\n",
              "OQAAAFAAAAAzAAAAKQAAADMAAAAsAAAAKQAAABkAAAAXAAAAGQAAABYAAAAWAAAAFwAAABkAAAAW\n",
              "AAAAFgAAABcAAAAZAAAAFgAAABYAAAAXAAAAGQAAABYAAAAWAAAAFwAAABkAAAAWAAAAFgAAABcA\n",
              "AAAZAAAAFgAAABYAAAAXAAAAGQAAABYAAAAWAAAAFwAAABkAAAAWAAAAFgAAABcAAAAZAAAAFgAA\n",
              "ABYAAAAXAAAAGQAAABYAAAAWAAAAFwAAABkAAAAWAAAAFgAAABcAAAAZAAAAFgAAABYAAAAXAAAA\n",
              "GQAAABYAAAAWAAAAFwAAABkAAAAWAAAAFgAAABcAAAAZAAAAFgAAABYAAAAXAAAAGQAAABYAAAAW\n",
              "AAAAFwAAABkAAAAWAAAAFgAAABcAAAAZAAAAFgAAABYAAAAXAAAAGQAAABYAAAAWAAAAFwAAABkA\n",
              "AAAWAAAAFgAAABcAAAAZAAAAFgAAABYAAAAXAAAAGQAAABYAAAAWAAAAFwAAABkAAAAWAAAAFgAA\n",
              "ABcAAAAZAAAAFgAAABYAAAAXAAAAGQAAABYAAAAWAAAAFwAAABkAAAAWAAAAFgAAABcAAAAZAAAA\n",
              "FgAAABYAAAAXAAAAGQAAABYAAAAWAAAAFwAAABkAAAAWAAAAFgAAABcAAAAZAAAAFgAAABYAAAAX\n",
              "AAAAGQAAABYAAAAWAAAAFwAAABkAAAAWAAAAFgAAABcAAAAZAAAAFgAAABYAAAAXAAAAGQAAABYA\n",
              "AAAWAAAAFwAAABkAAAAWAAAAFgAAABcAAAAZAAAAFgAAABYAAAAXAAAAGQAAABYAAAAWAAAAFwAA\n",
              "ABkAAAAWAAAAFgAAABcAAAAZAAAAFgAAABYAAAAXAAAAGQAAABYAAAAWAAAAFwAAABkAAAAWAAAA\n",
              "FgAAABcAAAAZAAAAFgAAABYAAAAXAAAAGQAAABYAAAAWAAAAFwAAABkAAAAWAAAAFgAAABcAAAAZ\n",
              "AAAAFgAAABYAAAAXAAAAGQAAABYAAAAWAAAAFwAAABkAAAAWAAAAFgAAABcAAAAZAAAAFgAAABYA\n",
              "AAAXAAAAGQAAABYAAAAWAAAAFwAAABkAAAAWAAAAFgAAABcAAAAZAAAAFgAAABYAAAAXAAAAGQAA\n",
              "ABYAAAAWAAAAFwAAABkAAAAWAAAAFgAAABcAAAAZAAAAFgAAABYAAAAXAAAAGQAAABYAAAAWAAAA\n",
              "FwAAABkAAAAWAAAAFgAAABcAAAAZAAAAFgAAABYAAAAXAAAAGQAAABYAAAAWAAAAFwAAABkAAAAW\n",
              "AAAAFgAAABcAAAAZAAAAFgAAABYAAAAWAAAQ6gAAAK8AAAAlAAAAIgAAABYAAAAbAAAAGQAAABYA\n",
              "AAAUAAAAFwAAABcAAAAUAAAAFAAAABcAAAAXAAAAFAAAABQAAAAXAAAAFwAAABQAAAAUAAAAFwAA\n",
              "ABcAAAAUAAAAFAAAABcAAAAXAAAAFAAAABQAAAAXAAAAFwAAABQAAAAUAAAAFwAAABcAAAAUAAAA\n",
              "FAAAABcAAAAXAAAAFAAAABQAAAAXAAAAFwAAABQAAAAUAAAAFwAAABcAAAAUAAAAFAAAABcAAAAX\n",
              "AAAAFAAAABQAAAAXAAAAFwAAABQAAAAUAAAAFwAAABcAAAAUAAAAFAAAABcAAAAXAAAAFAAAABQA\n",
              "AAAXAAAAFwAAABQAAAAUAAAAFwAAABcAAAAUAAAAFAAAABcAAAAXAAAAFAAAABQAAAAXAAAAFwAA\n",
              "ABQAAAAUAAAAFwAAABcAAAAUAAAAFAAAABcAAAAXAAAAFAAAABQAAAAXAAAAFwAAABQAAAAUAAAA\n",
              "FwAAABcAAAAUAAAAFAAAABcAAAAXAAAAFAAAABQAAAAXAAAAFwAAABQAAAAUAAAAFwAAABcAAAAU\n",
              "AAAAFAAAABcAAAAXAAAAFAAAABQAAAAXAAAAFwAAABQAAAAUAAAAFwAAABcAAAAUAAAAFAAAABcA\n",
              "AAAXAAAAFAAAABQAAAAXAAAAFwAAABQAAAAUAAAAFwAAABcAAAAUAAAAFAAAABcAAAAXAAAAFAAA\n",
              "ABQAAAAXAAAAFwAAABQAAAAUAAAAFwAAABcAAAAUAAAAFAAAABcAAAAXAAAAFAAAABQAAAAXAAAA\n",
              "FwAAABQAAAAUAAAAFwAAABcAAAAUAAAAFAAAABcAAAAXAAAAFAAAABQAAAAXAAAAFwAAABQAAAAU\n",
              "AAAAFwAAABcAAAAUAAAAFAAAABcAAAAXAAAAFAAAABQAAAAXAAAAFwAAABQAAAAUAAAAFwAAABcA\n",
              "AAAUAAAAFAAAABcAAAAXAAAAFAAAABQAAAAXAAAAFwAAABQAAAAUAAAAFwAAABcAAAAUAAAAFAAA\n",
              "ABcAAAAXAAAAFAAAABQAAAAXAAAAFwAAABQAAAAUAAAAFwAAABcAAAAUAAAAFAAAABcAAAAXAAAA\n",
              "FAAAABQAAAAXAAAAFwAAABQAAAAUAAAAFwAAABcAAAAUAAAAFAAAABcAAAAXAAAAFAAAABQAAAAX\n",
              "AAAAFwAAABQAAAAUAAAAFwAAABcAAAAUAAAAFAAAABcAAAAXAAAAFAAAABQAAAAXAAAAFwAAABQA\n",
              "AAAUAAAAFwAAABcAAAAUAAAAFAAAABcAAAAXAAAAFAAAABQAAAAYAAAAFwAAABQAAAAUAAAAFgAA\n",
              "ABRzdGNvAAAAAAAAAAEAAAAwAAAAYnVkdGEAAABabWV0YQAAAAAAAAAhaGRscgAAAAAAAAAAbWRp\n",
              "cmFwcGwAAAAAAAAAAAAAAAAtaWxzdAAAACWpdG9vAAAAHWRhdGEAAAABAAAAAExhdmY1OC43Ni4x\n",
              "MDA=\n",
              "\">\n",
              "  Your browser does not support the video tag.\n",
              "</video>"
            ],
            "text/plain": [
              "<IPython.core.display.HTML object>"
            ]
          },
          "execution_count": 14,
          "metadata": {},
          "output_type": "execute_result"
        }
      ],
      "source": [
        "#@title Animation2 (do not modify)\n",
        "initialize()\n",
        "anim = animation.FuncAnimation(fig, animate, init_func=init_animation, frames=500, interval=20, blit=False)\n",
        "HTML(anim.to_html5_video())"
      ]
    },
    {
      "cell_type": "markdown",
      "metadata": {
        "id": "7u0ShLVZdT5C"
      },
      "source": [
        "Let's plot both constraint values. Are they near zero during the entire simulation?"
      ]
    },
    {
      "cell_type": "code",
      "execution_count": 15,
      "metadata": {
        "id": "hfllOzsBv_lk"
      },
      "outputs": [
        {
          "data": {
            "text/plain": [
              "<matplotlib.legend.Legend at 0x129badb40>"
            ]
          },
          "execution_count": 15,
          "metadata": {},
          "output_type": "execute_result"
        },
        {
          "data": {
            "image/png": "[encoded data removed]",
            "text/plain": [
              "<Figure size 432x288 with 1 Axes>"
            ]
          },
          "metadata": {
            "needs_background": "light"
          },
          "output_type": "display_data"
        }
      ],
      "source": [
        "#@title Plotting (do not modify)\n",
        "constraint_values = np.array(constraint_values)\n",
        "plt.plot(constraint_values[:, 0], label=\"C [0]\")\n",
        "plt.plot(constraint_values[:, 1], label=\"C [1]\")\n",
        "plt.legend()"
      ]
    },
    {
      "cell_type": "markdown",
      "metadata": {
        "id": "yM0-17gqfaYU"
      },
      "source": [
        "What is the purpose of feedback terms (ks/kd)? Repeat the experiments without the feedback terms by setting ks=kd=0, and discuss the results.\n",
        "\n",
        "**<font color='orange'> \\*\\*Task 8: Write your code below (10 pts)\\*\\* </font>**\n"
      ]
    },
    {
      "cell_type": "markdown",
      "metadata": {
        "id": "CKlDw2eSf9d5"
      },
      "source": [
        "(please edit this cell)\n"
      ]
    },
    {
      "cell_type": "markdown",
      "metadata": {
        "id": "WRGdjXAAgOKu"
      },
      "source": [
        "# 2. Extra points\n",
        "\n",
        "## 2.1. Dynamic Forces\n",
        "Apply extra forces a few times during the simulation. Don't forget to visualize the forces as lines. You are expected to directly modify the above code (hint: update the global force vector Q with respect to time. You can modify either update or animate functions).\n",
        "\n",
        "**<font color='orange'> \\*\\*edit the above code directly and explain your implmenetation below (2 pts)\\*\\* </font>**"
      ]
    },
    {
      "cell_type": "markdown",
      "metadata": {
        "id": "5pAjVwl4h4uG"
      },
      "source": [
        "(explain your implementation here)"
      ]
    },
    {
      "cell_type": "markdown",
      "metadata": {
        "id": "b8-mWgGqiL95"
      },
      "source": [
        "## 2.2. Advanced Solver\n",
        "Implement the RK4 solver and verify that it is better than other methods.\n",
        "\n",
        "**<font color='orange'> \\*\\*edit the above code directly and explain your implmenetation below (2 pts)\\*\\* </font>**"
      ]
    },
    {
      "cell_type": "markdown",
      "metadata": {
        "id": "X4Q1CaKwjWUS"
      },
      "source": [
        "(explain your implementation here)"
      ]
    },
    {
      "cell_type": "markdown",
      "metadata": {
        "id": "PVe_gaNRiqKp"
      },
      "source": [
        "## 2.3. Novel Constraints\n",
        "Implement additional types of constraints for the tinkertoy (e.g. an additional bead is connected to the second bead or three beads should always form an equilateral triangle). If the constraint outputs more than a single scalar, you need to modify the indexing scheme for the global matrices and vectors so that the constraint evaluations and derivatives are stored in the correct places.\n",
        "\n",
        "Here's one inspiring example: https://youtu.be/ShtiCeJWIxw\n",
        "\n",
        "Here's another example: https://youtu.be/owtcj_SIYO8 This example simulates staircase motions of a particle by toggling between the vertical (x=Cx) and horizontal (y = Cy) line constraints. Toggling of the constraints may give you a chance to generate more expressive animations.\n",
        "\n",
        "\n",
        "**<font color='orange'> \\*\\*edit the above code directly and explain your implmenetation below (6 pts)\\*\\* </font>**"
      ]
    },
    {
      "cell_type": "markdown",
      "metadata": {
        "id": "RDgYq3MEjXIL"
      },
      "source": [
        "(explain your implementation here)"
      ]
    }
  ],
  "metadata": {
    "colab": {
      "provenance": []
    },
    "kernelspec": {
      "display_name": "Python 3",
      "name": "python3"
    },
    "language_info": {
      "codemirror_mode": {
        "name": "ipython",
        "version": 3
      },
      "file_extension": ".py",
      "mimetype": "text/x-python",
      "name": "python",
      "nbconvert_exporter": "python",
      "pygments_lexer": "ipython3",
      "version": "3.10.1"
    }
  },
  "nbformat": 4,
  "nbformat_minor": 0
}
