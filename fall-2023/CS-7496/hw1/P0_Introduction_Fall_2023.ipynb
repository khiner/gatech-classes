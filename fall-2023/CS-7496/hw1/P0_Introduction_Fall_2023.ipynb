{
  "nbformat": 4,
  "nbformat_minor": 0,
  "metadata": {
    "colab": {
      "private_outputs": true,
      "provenance": []
    },
    "kernelspec": {
      "name": "python3",
      "display_name": "Python 3"
    },
    "accelerator": "GPU"
  },
  "cells": [
    {
      "cell_type": "markdown",
      "metadata": {
        "id": "NpxfhoHZYu3e"
      },
      "source": [
        "# CS 4496/7496 Character Animation (Fall 2023)\n",
        "Copyright (c) Georgia Institute of Technology\n",
        "\n",
        "\n",
        "---\n",
        "\n",
        "\n",
        "\n"
      ]
    },
    {
      "cell_type": "markdown",
      "metadata": {
        "id": "TETm3FEUOyqZ"
      },
      "source": [
        "# Project 0: Introduction (due 9/8/2023, Friday, 11:59 PM)\n",
        "Google Colab (https://colab.research.google.com) is an interactive web framework that can include live codes, texts, equations, and visualizations. This will be the perfect framework for learning computer animation because you can write the code and visualize the results interactively!\n",
        "\n",
        "The goal of this first project is simple: setting up your homework environment, running the example snippets, and making sure that the results are rendered okay.  **Please get in touch with the instructors if you have any trouble with the notebook.** Don't worry (at this point) if you do not understand the example codes in Section 2 and 3: they are just skeleton codes and not the main learning objectives of the class."
      ]
    },
    {
      "cell_type": "markdown",
      "metadata": {
        "id": "VbjiFVVg6sRY"
      },
      "source": [
        "# 1. Numpy Practice\n",
        "In this section, we will learn how to use numpy (https://numpy.org/), which is the most popular numerical computation framework in Python.\n",
        "\n",
        "We begin by importing the required libraries."
      ]
    },
    {
      "cell_type": "code",
      "metadata": {
        "id": "ffjx1rx_7AnA"
      },
      "source": [
        "import numpy as np"
      ],
      "execution_count": null,
      "outputs": []
    },
    {
      "cell_type": "markdown",
      "metadata": {
        "id": "E1Ury89L7EWo"
      },
      "source": [
        "As the first example, let's create two vectors and add them together. You can simply run the below code."
      ]
    },
    {
      "cell_type": "code",
      "metadata": {
        "id": "pRX-Jkk171xc"
      },
      "source": [
        "a = np.array([1.0, -2.0])\n",
        "b = np.array([3.0, 3.0])\n",
        "c = a + b\n",
        "print(\"the sum of %s and %s = %s\" % (str(a), str(b), str(c)))"
      ],
      "execution_count": null,
      "outputs": []
    },
    {
      "cell_type": "markdown",
      "metadata": {
        "id": "rEetA57G8E3D"
      },
      "source": [
        "See? It is not too difficult. We can also repeat the same for two dimensional arrays. We will also check the validity of the code by adding an assertion statement."
      ]
    },
    {
      "cell_type": "code",
      "metadata": {
        "id": "2HFJ3vyf8P1c"
      },
      "source": [
        "a = np.array([[2.0, 1.0], [3.0, 1.0]])\n",
        "b = np.array([[4.0, 1.0], [-1.0, 1.0]])\n",
        "print(\"a + b = \\n\", a + b)\n",
        "assert(np.allclose(a + b, np.array([[6.0, 2.0], [2.0, 2.0]])))\n",
        "print('pass the test!')"
      ],
      "execution_count": null,
      "outputs": []
    },
    {
      "cell_type": "markdown",
      "metadata": {
        "id": "U77uRLfb8yzG"
      },
      "source": [
        "You often need multiply matrices. Please make sure the difference between element-wise multiplication (* operator) and matrix multiplication (@, or np.dot)."
      ]
    },
    {
      "cell_type": "code",
      "metadata": {
        "id": "6Mk3WgDr9EIg"
      },
      "source": [
        "print(\"Element-wise multiplication\")\n",
        "print(a * b)\n",
        "print(\"Matrix multiplication (dot proudct)\")\n",
        "print(a @ b)"
      ],
      "execution_count": null,
      "outputs": []
    },
    {
      "cell_type": "markdown",
      "metadata": {
        "id": "relW22eX9U4e"
      },
      "source": [
        "How about inversion?"
      ]
    },
    {
      "cell_type": "code",
      "metadata": {
        "id": "muwPYRaf9XPF"
      },
      "source": [
        "Ainv = np.linalg.inv(a)\n",
        "print(\"Ainv = \\n\", Ainv)\n",
        "assert(np.allclose(a @ Ainv, np.identity(2)))\n",
        "assert(np.allclose(Ainv @ a, np.identity(2)))\n",
        "print(\"pass all the tests!\")"
      ],
      "execution_count": null,
      "outputs": []
    },
    {
      "cell_type": "markdown",
      "metadata": {
        "id": "U4yLwqhY9-KS"
      },
      "source": [
        "Finally, let's do some practice. Let's see if you can write a matrix multiplication by yourself. Please fill the rest of the code (hint: Numpy cheatsheet: https://s3.amazonaws.com/assets.datacamp.com/blog_assets/Numpy_Python_Cheat_Sheet.pdf)\n",
        "** **write your code below (40 pts)** **"
      ]
    },
    {
      "cell_type": "code",
      "metadata": {
        "id": "ngbLHAuyAYIb"
      },
      "source": [
        "def matrix_mul(M1, M2):\n",
        "  m1, n1 = M1.shape # fetch the shape of M1\n",
        "  m2, n2 = M2.shape # fetch the shape of M2\n",
        "  if n1 != m2:\n",
        "    return None\n",
        "\n",
        "  ret = np.zeros((m1, n2)) # place holder for the return\n",
        "\n",
        "  # Begin your answer\n",
        "\n",
        "  # End your answer\n",
        "  return ret\n",
        "\n",
        "A = np.random.rand(3, 2)\n",
        "B = np.random.rand(2, 4)\n",
        "print(\"A = \\n\", A)\n",
        "print(\"B = \\n\", B)\n",
        "print(\"correct answer = \\n\", A @ B)\n",
        "print(\"your answer = \\n\", matrix_mul(A, B))\n",
        "assert(np.allclose(A @ B, matrix_mul(A, B), 1e-3))\n",
        "print(\"Congratulations! You pass the test.\")"
      ],
      "execution_count": null,
      "outputs": []
    },
    {
      "cell_type": "markdown",
      "metadata": {
        "id": "mdSpIQPVShbO"
      },
      "source": [
        "# 2. Matplotlib Rendering Test\n",
        "In this section, we will test animated rendering with matplotlib.\n",
        "\n",
        "We begin by importing the required libraries."
      ]
    },
    {
      "cell_type": "code",
      "metadata": {
        "id": "eQc-4c9nSwus"
      },
      "source": [
        "%matplotlib inline\n",
        "import numpy as np\n",
        "import matplotlib.pyplot as plt\n",
        "\n",
        "from matplotlib import animation, rc\n",
        "from IPython.display import HTML"
      ],
      "execution_count": null,
      "outputs": []
    },
    {
      "cell_type": "markdown",
      "metadata": {
        "id": "puBLn1HTTYqD"
      },
      "source": [
        "Then we set up the initial figure with the empty dataset. This will draw an empty figure, which is not animated yet.\n",
        "\n"
      ]
    },
    {
      "cell_type": "code",
      "metadata": {
        "id": "GNd3flJOTGJz"
      },
      "source": [
        "fig, ax = plt.subplots()\n",
        "ax.set_xlim(( -2.0, 2.0))\n",
        "ax.set_ylim((-2.0, 2.0))\n",
        "line, = ax.plot([], [], lw=2)"
      ],
      "execution_count": null,
      "outputs": []
    },
    {
      "cell_type": "markdown",
      "metadata": {
        "id": "N_n-Dq-Wyl8d"
      },
      "source": [
        "We will describe the animation with the \"init\" and \"animate\" functions."
      ]
    },
    {
      "cell_type": "code",
      "metadata": {
        "id": "o7KtJzNfymZo"
      },
      "source": [
        "# initialization function: plot the background of each frame\n",
        "def init():\n",
        "    line.set_data([], [])\n",
        "    return (line,)\n",
        "\n",
        "# animation function. This is called sequentially\n",
        "def animate(i):\n",
        "    x = np.linspace(0, 2, 1000)\n",
        "    y = np.sin(2 * np.pi * (x - 0.01 * i))\n",
        "    line.set_data(x, y)\n",
        "    return (line,)"
      ],
      "execution_count": null,
      "outputs": []
    },
    {
      "cell_type": "markdown",
      "metadata": {
        "id": "dWohOAWRy1dS"
      },
      "source": [
        "Finally, we call the animator and display the result."
      ]
    },
    {
      "cell_type": "code",
      "metadata": {
        "id": "TyzsejyvzOi2"
      },
      "source": [
        "# call the animator. blit=True means only re-draw the parts that have changed.\n",
        "anim = animation.FuncAnimation(fig, animate, init_func=init,\n",
        "                               frames=100, interval=20, blit=True)\n",
        "HTML(anim.to_html5_video())"
      ],
      "execution_count": null,
      "outputs": []
    },
    {
      "cell_type": "markdown",
      "metadata": {
        "id": "SouZxnHHBcSq"
      },
      "source": [
        "Can you see some animation? Please describe what you see below. ** **write your answer below (30 pts)** **"
      ]
    },
    {
      "cell_type": "markdown",
      "metadata": {
        "id": "nkKBU60cBoBL"
      },
      "source": [
        "(write your answer here)"
      ]
    },
    {
      "cell_type": "markdown",
      "metadata": {
        "id": "odNaDE1zyrL2"
      },
      "source": [
        "# 3. PyBullet Rendering test\n",
        "\n",
        "PyBullet (https://pythonhosted.org/pybullet/) is an open-source physics simulator that is developed by Erwin Coumans and Yunfei Bai. We will use this engine for visualization and simulation. Let's see if we can simulate a robot and visualize it.\n",
        "\n",
        "This requires us to install a few additional libraries (note: the installation of PyBullet usually takes a few minutes (~6min?). Please contact the instructor if it takes significantly longer)."
      ]
    },
    {
      "cell_type": "code",
      "metadata": {
        "id": "8-AxnvAVyzQQ"
      },
      "source": [
        "%%time\n",
        "!apt-get install -y xvfb python-opengl ffmpeg\n",
        "!pip install pybullet==2.6.5\n",
        "!pip install ffmpeg-python"
      ],
      "execution_count": null,
      "outputs": []
    },
    {
      "cell_type": "markdown",
      "metadata": {
        "id": "APXSx7hg19TH"
      },
      "source": [
        "We import the required libraries again."
      ]
    },
    {
      "cell_type": "code",
      "metadata": {
        "id": "pdb2JwZy4jGj"
      },
      "source": [
        "import numpy as np\n",
        "import random\n",
        "import math\n",
        "import glob\n",
        "import io\n",
        "import base64\n",
        "from IPython.display import HTML\n",
        "from IPython import display as ipythondisplay\n",
        "\n",
        "import pybullet as p\n",
        "import cv2\n",
        "from PIL import Image\n",
        "import ffmpeg"
      ],
      "execution_count": null,
      "outputs": []
    },
    {
      "cell_type": "markdown",
      "metadata": {
        "id": "RhSc8bLi3iL4"
      },
      "source": [
        "We setup the PyBullet scene, including the robot, ground, and camera."
      ]
    },
    {
      "cell_type": "code",
      "metadata": {
        "id": "piDeUOOc3rqz"
      },
      "source": [
        "p.connect(p.DIRECT)\n",
        "p.resetSimulation()\n",
        "\n",
        "urdf_root = '/usr/local/lib/python3.10/dist-packages/pybullet_data/'\n",
        "p.loadURDF(urdf_root + \"plane.urdf\")\n",
        "r2d2=p.loadURDF(urdf_root + \"r2d2.urdf\", [0.0, 0.0, 1.0], [0.924, 0.383, 0.0, 0.0])\n",
        "assert(p.getNumBodies() == 2)  # Make sure that you have the robot and ground.\n",
        "\n",
        "p.setGravity(0,0,-10)\n",
        "pixelWidth = 640\n",
        "pixelHeight = 360\n",
        "viewMatrix = p.computeViewMatrixFromYawPitchRoll(cameraTargetPosition=[0,0,0],\n",
        "                                                 distance=4.0,\n",
        "                                                 yaw=60.0,\n",
        "                                                 pitch=-10.0,\n",
        "                                                 roll=0.0,\n",
        "                                                 upAxisIndex=2)\n",
        "projectionMatrix = p.computeProjectionMatrixFOV(fov=60,\n",
        "                                                aspect=pixelWidth / pixelHeight,\n",
        "                                                nearVal=0.01,\n",
        "                                                farVal=100)"
      ],
      "execution_count": null,
      "outputs": []
    },
    {
      "cell_type": "markdown",
      "metadata": {
        "id": "DKqMojSC44ma"
      },
      "source": [
        "Now the simulation is good to go! We will simulate the robot for 480 frames (= 2 seconds), render images for every 10 frames."
      ]
    },
    {
      "cell_type": "code",
      "metadata": {
        "id": "MBU_Kt3K5JDv"
      },
      "source": [
        "frame = 0\n",
        "for i in range (480):\n",
        "    p.stepSimulation() # The default timestep is 1/240\n",
        "    if i % 10 == 0:\n",
        "      _, _, img, _, _ = p.getCameraImage(pixelWidth, pixelHeight, viewMatrix,projectionMatrix, shadow=1, lightDirection=[1,1,1])\n",
        "      Image.fromarray(img[:, :, :3]).save('./frame%04d.jpg' % frame)\n",
        "      frame += 1\n",
        "ffmpeg.input('./frame*.jpg', pattern_type='glob', framerate=30).output('./output.gif').overwrite_output().run()"
      ],
      "execution_count": null,
      "outputs": []
    },
    {
      "cell_type": "markdown",
      "metadata": {
        "id": "8PeN6XL-5ml9"
      },
      "source": [
        "We will create an animated image (gif) from the rendered images and show it."
      ]
    },
    {
      "cell_type": "code",
      "metadata": {
        "id": "qtcQqD6J5nrK"
      },
      "source": [
        "def show_gif_image(filename):\n",
        "  video = io.open(filename, 'r+b').read()\n",
        "  encoded = base64.b64encode(video)\n",
        "  ipythondisplay.display(HTML(data='''<img src=\"data:image/gif;base64,{0}\"/>'''.format(encoded.decode('ascii'))))\n",
        "\n",
        "ffmpeg.input('./frame*.jpg', pattern_type='glob', framerate=240.0/10).output('./output.gif').overwrite_output().run()\n",
        "show_gif_image('./output.gif')"
      ],
      "execution_count": null,
      "outputs": []
    },
    {
      "cell_type": "markdown",
      "metadata": {
        "id": "0uTrUfraBvZP"
      },
      "source": [
        "Can you see some animation from PyBullet? Please describe what you see below. ** **write your answer below (30 pts)** **"
      ]
    },
    {
      "cell_type": "markdown",
      "metadata": {
        "id": "ktuSrpGRCTRd"
      },
      "source": [
        "(write your answer here)"
      ]
    }
  ]
}