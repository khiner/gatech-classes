{
  "cells": [
    {
      "cell_type": "markdown",
      "metadata": {
        "id": "_b_4Zjfe5Zfl"
      },
      "source": [
        "# CS 4496/7496 Computer Animation (Fall 2021)\n",
        "Copyright (c) Georgia Institute of Technology\n",
        "\n",
        "\n",
        "---\n",
        "\n",
        "From December 14th, 2:10pm To December 15, 2:10pm"
      ]
    },
    {
      "cell_type": "markdown",
      "metadata": {
        "id": "hyyN-2qyK_T2"
      },
      "source": [
        "#**Final Exam**\n",
        "\n",
        "## Preface\n",
        "\n",
        "Please set the \"name\" variable below as your name. By typing your name, you promise to follow the honor pledge.\n",
        "\n",
        "\"***I affirm that I will not give or receive any unauthorized help (peer discussions) on this exam, and that all work will be my own.***\"\n",
        "\n",
        "Your name is also used to generate the unique random seed. Then run the entire code to generate numbers for your exam by selecting the \"Runtime - Restart and run all\" menu. Do ***NOT*** run the cell multiple times: it may give you different numbers due to the algorithm of  randomization. \n",
        "\n",
        "Please submit your answer to a scanned/digitally written pdf. Colab files or source codes will not be accepted. **Don't forget to write down your name and random seed at the very beginning.** Please provide the best quality scan. For instance, the Photo Scan app (https://www.google.com/photos/scan/) can give you a clear scan using your phone.\n"
      ]
    },
    {
      "cell_type": "code",
      "execution_count": 1,
      "metadata": {
        "id": "nPRXoCRwbI9K"
      },
      "outputs": [
        {
          "name": "stdout",
          "output_type": "stream",
          "text": [
            "Your Name = Sehoon Ha\n",
            "Your Seed = 91755872\n"
          ]
        }
      ],
      "source": [
        "import numpy as np\n",
        "import hashlib\n",
        "\n",
        "name = \"Sehoon Ha\"\n",
        "seed = int(hashlib.sha256(name.encode('utf-8')).hexdigest(), 16) % 10**8\n",
        "print(\"Your Name = %s\" % name)\n",
        "print(\"Your Seed = %d\" % seed)\n",
        "np.random.seed(seed)\n",
        "randint = np.random.randint"
      ]
    },
    {
      "cell_type": "markdown",
      "metadata": {
        "id": "0w2OgeSFcUS7"
      },
      "source": [
        "## Q1. Sehoon's Spline (60 pts)\n",
        "Sehoon wants to design a new spline. He wants a new spline that has fine control over the first point because he cares so much about the beginning. To this end, this new spline is defined with the following four constraints\n",
        "\n",
        "1.   The beginning position P1\n",
        "2.   The beginning velocity V1\n",
        "3.   The beginning acceleration A1\n",
        "4.   The ending position P4\n",
        "\n",
        "(1) Define the geometry matrix $G_s$.\n",
        "\n",
        "(2) Describe the four constraints in equations.\n",
        "\n",
        "(3) Derive the basis matrix $M_s$.\n",
        "\n",
        "(4) Please compute the point at t = 0.5 (=$Q(0.5)$) with the values from the following code:\n",
        "\n"
      ]
    },
    {
      "cell_type": "code",
      "execution_count": null,
      "metadata": {
        "id": "28IPlAded9uX"
      },
      "outputs": [],
      "source": [
        "print(\"P1 = %s\" % str(np.array([0.0, 0.0])))\n",
        "print(\"V1 = %s\" % str(np.array([0.0, randint(2, 4)])))\n",
        "print(\"A1 = %s\" % str(np.array([randint(2, 4), 0.0])))\n",
        "print(\"P4 = %s\" % str(np.array([10.0, 0.0])))"
      ]
    },
    {
      "cell_type": "markdown",
      "metadata": {
        "id": "elZ9aLM2H1Q3"
      },
      "source": [
        "## Q2. Vector Field Navigation (60 pts)\n",
        "Given a linear ordinary differential equation and the initial state $x_0, y_0$ as follows, please compute the next steps using the following integrators.\n",
        "\n",
        "$\n",
        " f(\\begin{bmatrix}\n",
        "  x \\\\\n",
        "  y\n",
        " \\end{bmatrix})\n",
        "  =\n",
        "  \\begin{bmatrix}\n",
        "  y \\\\\n",
        "  -x\n",
        " \\end{bmatrix} \n",
        "  $.\n",
        "\n",
        "(a) One Explicit Euler step with h = 0.2\n",
        "\n",
        "(b) Two Explicit Euler steps with h = 0.1\n",
        "\n",
        "(c) One Midpoint step with h = 0.2\n",
        "\n",
        "(d) Compute the error, which is the difference between (b) and (c)."
      ]
    },
    {
      "cell_type": "code",
      "execution_count": null,
      "metadata": {
        "id": "R6S05o-hKVfB"
      },
      "outputs": [],
      "source": [
        "%matplotlib inline\n",
        "import matplotlib.pyplot as plt\n",
        "\n",
        "fig, ax = plt.subplots()\n",
        "ax.set_xlim(( -10.0, 10.0))\n",
        "ax.set_ylim((-8.0, 8.0))\n",
        "X, Y = np.meshgrid(np.linspace(-10.0, 10.0, 20), np.linspace(-8.0, 8.0, 20), )\n",
        "q = ax.quiver(X, Y, Y, -X, headwidth=6, headlength=6, scale=100)\n",
        "k = randint(4, 8)\n",
        "ax.scatter([k,] , [k,],  s=[100,])\n",
        "print(\"Initial state x0, y0 = %d, %d\" % (k, k))"
      ]
    },
    {
      "cell_type": "markdown",
      "metadata": {
        "id": "IhmbjyAfSF77"
      },
      "source": [
        "## Q3. Trammel of Archimedes (60 pts)\n",
        "A trammel of Archimedes is a mechanism that generates the shape of an ellipse (https://en.wikipedia.org/wiki/Trammel_of_Archimedes). An equilateral triangle is confined by three equally distributed lines, where each point must lie on the corresponding line segment. It might be better to see the animation. Now, it is time to design Trammel of Archimedes as a constrained system.\n",
        "\n",
        "![TinkerToy Picture](https://upload.wikimedia.org/wikipedia/commons/thumb/a/af/Trammel_of_Archimedes_with_three_sliders.gif/249px-Trammel_of_Archimedes_with_three_sliders.gif)\n",
        "\n",
        "Let three points be $(x_1, y_1)$, $(x_2, y_2)$, and $(x_3, y_3)$.\n",
        "\n",
        "(1) Design a set of constraints to form an equilateral triangle with the size = 1.\n",
        "\n",
        "(2) Design a set of constraints to confine each point on the line segment (0$^\\circ$, 60$^\\circ$, -60$^\\circ$, and centered at $(0, 0)$).\n",
        "\n",
        "(3) Derive the Jacobian matrix.\n",
        "\n",
        "\n"
      ]
    },
    {
      "cell_type": "markdown",
      "metadata": {
        "id": "I8f3-DDyWVIq"
      },
      "source": [
        "## Q4. Interpolation of Orientation (60 pts)\n",
        "\n",
        "We want to interpolate two orientations at the middle (weight = 0.5): X-axis rotation with $\\theta_1$ degree and Y-axis rotation with with $\\theta_2$ degree. Please answer to the following questions.\n",
        "\n",
        "(1) Represent both rotations using rotation matrices.\n",
        "\n",
        "(2) Show that interpolation of two rotation matrices results in an invalid rotation matrix.\n",
        "\n",
        "(3) Represent both rotations using axis-angles.\n",
        "\n",
        "(4) Interpolate two rotations using axis-angles."
      ]
    },
    {
      "cell_type": "code",
      "execution_count": null,
      "metadata": {
        "id": "YtDGFu64bnwx"
      },
      "outputs": [],
      "source": [
        "print(\"theta1 = %d degree\" % np.random.choice([-30, 30]))\n",
        "print(\"theta2 = %d degree\" % np.random.choice([-90, 90]))"
      ]
    },
    {
      "cell_type": "markdown",
      "metadata": {
        "id": "zPSe5mzoks_g"
      },
      "source": [
        "## Q5. Freefall of a Ball (60 pts)\n",
        "\n",
        "Sehoon travels to the leaning tower of pisa and drops a ball at $y_0$ m height with zero linear momentum and $[0, l_0, 0]^T$ angular momentum. The radius of the ball is $50$ cm, the mass is $2$ kg, and the gravity force is $[0, 0, -10]^T$. Please answer the following questions.\n",
        "\n",
        "(1) Provide the analytical solution of the ball height as a function of time.\n",
        "\n",
        "(2) Compute the time $t_c$ when the ball collides with the ground.\n",
        "\n",
        "(3) Compute the linear momentum at the collision (you can use $t_c$ here).\n",
        "\n",
        "(4) Compute the 3 by 3 inertia matrix of the solid sphere using the formula (https://en.wikipedia.org/wiki/List_of_moments_of_inertia): $I = \\frac{2}{5}mr^2$.\n",
        "\n",
        "(5) Sehoon marked the top of the ball ($[0, 0, r]^T$) with a red pen. Compute the position and the velocity of the mark at the collision (you can use $t_c$ here).\n",
        "\n",
        "![freefall2.png](data:image/png;base64,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)"
      ]
    },
    {
      "cell_type": "code",
      "execution_count": null,
      "metadata": {
        "id": "DZzLiM4woK2u"
      },
      "outputs": [],
      "source": [
        "print(\"y0 = %d\" % randint(10, 20))\n",
        "print(\"l0 = %d\" % randint(1, 3))"
      ]
    }
  ],
  "metadata": {
    "accelerator": "GPU",
    "colab": {
      "collapsed_sections": [],
      "name": "Final Exam v1.3-grad",
      "provenance": []
    },
    "kernelspec": {
      "display_name": "Python 3",
      "name": "python3"
    },
    "language_info": {
      "codemirror_mode": {
        "name": "ipython",
        "version": 3
      },
      "file_extension": ".py",
      "mimetype": "text/x-python",
      "name": "python",
      "nbconvert_exporter": "python",
      "pygments_lexer": "ipython3",
      "version": "3.10.1"
    }
  },
  "nbformat": 4,
  "nbformat_minor": 0
}
