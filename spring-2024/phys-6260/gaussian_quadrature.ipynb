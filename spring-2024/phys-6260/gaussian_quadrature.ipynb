{
 "cells": [
  {
   "cell_type": "code",
   "execution_count": 1,
   "metadata": {},
   "outputs": [],
   "source": [
    "from gaussxw import gaussxw"
   ]
  },
  {
   "cell_type": "code",
   "execution_count": 26,
   "metadata": {},
   "outputs": [],
   "source": [
    "def gaussian_quadrature(f, f_range, N):\n",
    "    x, w = gaussxw(N) # returns sample points (x) and weights (w) for N points\n",
    "    a, b = f_range\n",
    "    # Remap function to [-1, 1]\n",
    "    x_unit = f(0.5 * (b - a) * x + 0.5 * (b + a))\n",
    "    # Reweight function\n",
    "    w_unit = 0.5*(b - a)*w\n",
    "    return sum(w_unit * x_unit)"
   ]
  },
  {
   "cell_type": "code",
   "execution_count": 27,
   "metadata": {},
   "outputs": [
    {
     "data": {
      "text/plain": [
       "4.22222222222223"
      ]
     },
     "execution_count": 27,
     "metadata": {},
     "output_type": "execute_result"
    }
   ],
   "source": [
    "gaussian_quadrature(\n",
    "    lambda x: x**4 - 2*x + 1,\n",
    "    (0, 2),\n",
    "    2\n",
    ")"
   ]
  },
  {
   "cell_type": "code",
   "execution_count": null,
   "metadata": {},
   "outputs": [],
   "source": []
  }
 ],
 "metadata": {
  "kernelspec": {
   "display_name": "Python 3",
   "language": "python",
   "name": "python3"
  },
  "language_info": {
   "codemirror_mode": {
    "name": "ipython",
    "version": 3
   },
   "file_extension": ".py",
   "mimetype": "text/x-python",
   "name": "python",
   "nbconvert_exporter": "python",
   "pygments_lexer": "ipython3",
   "version": "3.12.1"
  }
 },
 "nbformat": 4,
 "nbformat_minor": 2
}
