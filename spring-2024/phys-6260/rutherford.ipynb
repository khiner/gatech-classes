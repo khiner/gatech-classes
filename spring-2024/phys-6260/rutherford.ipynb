{
 "cells": [
  {
   "cell_type": "code",
   "execution_count": 18,
   "metadata": {},
   "outputs": [
    {
     "name": "stdout",
     "output_type": "stream",
     "text": [
      "157 particles were reflected out of 100000\n"
     ]
    }
   ],
   "source": [
    "import numpy as np\n",
    "from numpy.random import random\n",
    "import math\n",
    "\n",
    "# Constants\n",
    "Z = 79\n",
    "e = 1.602e-19\n",
    "E = 7.7e6*e\n",
    "epsilon0 = 8.854e-12\n",
    "a0 = 5.292e-11\n",
    "sigma = a0/100\n",
    "N = 100000\n",
    "\n",
    "# Complete in-class\n",
    "# Function to generate two Gaussian random numbers\n",
    "# Optional: Use array arithmetic to speed-up\n",
    "def gaussian(N = 1):\n",
    "    r = np.sqrt(-2 * sigma**2 * np.log(1 - random(N))) \n",
    "    theta = 2*math.pi * random(N)\n",
    "    return r, theta\n",
    "\n",
    "r, _ = gaussian(N)\n",
    "# Complete in-class\n",
    "# For every particle, calculate a random position (r,theta) and determine \n",
    "# whether it's back-scattered (b < some critical radii)\n",
    "theta = math.pi / 2\n",
    "b = (Z * e**2)/(np.tan(theta / 2) * (2*math.pi * epsilon0 * E))\n",
    "count = np.sum(r < b)\n",
    "\n",
    "print(\"%d particles were reflected out of %d\" % (count,N))\n"
   ]
  },
  {
   "cell_type": "code",
   "execution_count": null,
   "metadata": {},
   "outputs": [],
   "source": []
  }
 ],
 "metadata": {
  "kernelspec": {
   "display_name": "Python 3",
   "language": "python",
   "name": "python3"
  },
  "language_info": {
   "codemirror_mode": {
    "name": "ipython",
    "version": 3
   },
   "file_extension": ".py",
   "mimetype": "text/x-python",
   "name": "python",
   "nbconvert_exporter": "python",
   "pygments_lexer": "ipython3",
   "version": "3.12.1"
  }
 },
 "nbformat": 4,
 "nbformat_minor": 2
}
