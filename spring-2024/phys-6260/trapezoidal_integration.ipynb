{
 "cells": [
  {
   "cell_type": "code",
   "execution_count": 3,
   "metadata": {},
   "outputs": [],
   "source": [
    "def integrate_trapezoid(f, f_range, N = 100):\n",
    "    a, b = f_range\n",
    "    h = (b - a) / N\n",
    "    return h * sum(f(a + i * h) for i in range(N))"
   ]
  },
  {
   "cell_type": "code",
   "execution_count": 4,
   "metadata": {},
   "outputs": [
    {
     "name": "stdout",
     "output_type": "stream",
     "text": [
      "Errors:\n",
      "[1.0934399999999993, 0.11893334400000022, 0.011989333334399888, 0.0011998933333323691, 0.00011999893333136669]\n"
     ]
    }
   ],
   "source": [
    "# Test\n",
    "f = lambda x: x ** 4 - 2 * x + 1\n",
    "f_range = (0, 2)\n",
    "expected = 4.4\n",
    "print(f'Errors:\\n{[expected - integrate_trapezoid(f, f_range, N) for N in [10, 100, 1000, 10000, 100000]]}')"
   ]
  },
  {
   "cell_type": "code",
   "execution_count": null,
   "metadata": {},
   "outputs": [],
   "source": []
  }
 ],
 "metadata": {
  "kernelspec": {
   "display_name": "Python 3",
   "language": "python",
   "name": "python3"
  },
  "language_info": {
   "codemirror_mode": {
    "name": "ipython",
    "version": 3
   },
   "file_extension": ".py",
   "mimetype": "text/x-python",
   "name": "python",
   "nbconvert_exporter": "python",
   "pygments_lexer": "ipython3",
   "version": "3.12.1"
  }
 },
 "nbformat": 4,
 "nbformat_minor": 2
}
